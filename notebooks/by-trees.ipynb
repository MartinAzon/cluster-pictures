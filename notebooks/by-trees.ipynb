{
 "cells": [
  {
   "cell_type": "code",
   "execution_count": 15,
   "metadata": {},
   "outputs": [],
   "source": [
    "%reload_ext autoreload\n",
    "%autoreload 2\n",
    "from sage_cluster_pictures import *\n",
    "set_verbose(1)"
   ]
  },
  {
   "cell_type": "code",
   "execution_count": 16,
   "metadata": {},
   "outputs": [
    {
     "name": "stdout",
     "output_type": "stream",
     "text": [
      "verbose 1 (71: cluster_pictures.py, __init__) [150   3   3   1   0   0   0]\n",
      "[  3  23   3   1   0   0   0]\n",
      "[  3   3  23   1   0   0   0]\n",
      "[  1   1   1  21   0   0   0]\n",
      "[  0   0   0   0  16   2   2]\n",
      "[  0   0   0   0   2  16   2]\n",
      "[  0   0   0   0   2   2  16]\n",
      "verbose 1 (71: cluster_pictures.py, __init__) [0, 7^3 + O(7^23), 6*7^3 + 6*7^4 + 6*7^5 + 6*7^6 + 6*7^7 + 6*7^8 + 6*7^9 + 6*7^10 + 6*7^11 + 6*7^12 + 6*7^13 + 6*7^14 + 6*7^15 + 6*7^16 + 6*7^17 + 6*7^18 + 6*7^19 + 6*7^20 + 6*7^21 + 6*7^22 + O(7^23), 7 + O(7^21), 1 + O(7^16), 1 + 7^2 + O(7^16), 1 + 6*7^2 + 6*7^3 + 6*7^4 + 6*7^5 + 6*7^6 + 6*7^7 + 6*7^8 + 6*7^9 + 6*7^10 + 6*7^11 + 6*7^12 + 6*7^13 + 6*7^14 + 6*7^15 + O(7^16)]\n",
      "verbose 1 (71: cluster_pictures.py, __init__) 0\n",
      "verbose 1 (71: cluster_pictures.py, __init__) defaultdict(<class 'list'>, {0: [0, 1, 2, 3], 4: [4, 5, 6]})\n",
      "verbose 1 (71: cluster_pictures.py, __init__) [150   3   3   1]\n",
      "[  3  23   3   1]\n",
      "[  3   3  23   1]\n",
      "[  1   1   1  21]\n",
      "verbose 1 (71: cluster_pictures.py, __init__) [0, 7^3 + O(7^23), 6*7^3 + 6*7^4 + 6*7^5 + 6*7^6 + 6*7^7 + 6*7^8 + 6*7^9 + 6*7^10 + 6*7^11 + 6*7^12 + 6*7^13 + 6*7^14 + 6*7^15 + 6*7^16 + 6*7^17 + 6*7^18 + 6*7^19 + 6*7^20 + 6*7^21 + 6*7^22 + O(7^23), 7 + O(7^21)]\n",
      "verbose 1 (71: cluster_pictures.py, __init__) 1\n",
      "verbose 1 (71: cluster_pictures.py, __init__) defaultdict(<class 'list'>, {0: [0, 1, 2], 3: [3]})\n",
      "verbose 1 (71: cluster_pictures.py, __init__) [150   3   3]\n",
      "[  3  23   3]\n",
      "[  3   3  23]\n",
      "verbose 1 (71: cluster_pictures.py, __init__) [0, 7^3 + O(7^23), 6*7^3 + 6*7^4 + 6*7^5 + 6*7^6 + 6*7^7 + 6*7^8 + 6*7^9 + 6*7^10 + 6*7^11 + 6*7^12 + 6*7^13 + 6*7^14 + 6*7^15 + 6*7^16 + 6*7^17 + 6*7^18 + 6*7^19 + 6*7^20 + 6*7^21 + 6*7^22 + O(7^23)]\n",
      "verbose 1 (71: cluster_pictures.py, __init__) 3\n",
      "verbose 1 (71: cluster_pictures.py, __init__) defaultdict(<class 'list'>, {0: [0], 1: [1], 2: [2]})\n",
      "verbose 1 (71: cluster_pictures.py, __init__) [150]\n",
      "verbose 1 (71: cluster_pictures.py, __init__) [0]\n",
      "verbose 1 (71: cluster_pictures.py, __init__) 150\n",
      "verbose 1 (71: cluster_pictures.py, __init__) defaultdict(<class 'list'>, {})\n",
      "verbose 1 (71: cluster_pictures.py, __init__) [23]\n",
      "verbose 1 (71: cluster_pictures.py, __init__) [7^3 + O(7^23)]\n",
      "verbose 1 (71: cluster_pictures.py, __init__) 23\n",
      "verbose 1 (71: cluster_pictures.py, __init__) defaultdict(<class 'list'>, {})\n",
      "verbose 1 (71: cluster_pictures.py, __init__) [23]\n",
      "verbose 1 (71: cluster_pictures.py, __init__) [6*7^3 + 6*7^4 + 6*7^5 + 6*7^6 + 6*7^7 + 6*7^8 + 6*7^9 + 6*7^10 + 6*7^11 + 6*7^12 + 6*7^13 + 6*7^14 + 6*7^15 + 6*7^16 + 6*7^17 + 6*7^18 + 6*7^19 + 6*7^20 + 6*7^21 + 6*7^22 + O(7^23)]\n",
      "verbose 1 (71: cluster_pictures.py, __init__) 23\n",
      "verbose 1 (71: cluster_pictures.py, __init__) defaultdict(<class 'list'>, {})\n",
      "verbose 1 (71: cluster_pictures.py, __init__) [21]\n",
      "verbose 1 (71: cluster_pictures.py, __init__) [7 + O(7^21)]\n",
      "verbose 1 (71: cluster_pictures.py, __init__) 21\n",
      "verbose 1 (71: cluster_pictures.py, __init__) defaultdict(<class 'list'>, {})\n",
      "verbose 1 (71: cluster_pictures.py, __init__) [16  2  2]\n",
      "[ 2 16  2]\n",
      "[ 2  2 16]\n",
      "verbose 1 (71: cluster_pictures.py, __init__) [1 + O(7^16), 1 + 7^2 + O(7^16), 1 + 6*7^2 + 6*7^3 + 6*7^4 + 6*7^5 + 6*7^6 + 6*7^7 + 6*7^8 + 6*7^9 + 6*7^10 + 6*7^11 + 6*7^12 + 6*7^13 + 6*7^14 + 6*7^15 + O(7^16)]\n",
      "verbose 1 (71: cluster_pictures.py, __init__) 2\n",
      "verbose 1 (71: cluster_pictures.py, __init__) defaultdict(<class 'list'>, {0: [0], 1: [1], 2: [2]})\n",
      "verbose 1 (71: cluster_pictures.py, __init__) [16]\n",
      "verbose 1 (71: cluster_pictures.py, __init__) [1 + O(7^16)]\n",
      "verbose 1 (71: cluster_pictures.py, __init__) 16\n",
      "verbose 1 (71: cluster_pictures.py, __init__) defaultdict(<class 'list'>, {})\n",
      "verbose 1 (71: cluster_pictures.py, __init__) [16]\n",
      "verbose 1 (71: cluster_pictures.py, __init__) [1 + 7^2 + O(7^16)]\n",
      "verbose 1 (71: cluster_pictures.py, __init__) 16\n",
      "verbose 1 (71: cluster_pictures.py, __init__) defaultdict(<class 'list'>, {})\n",
      "verbose 1 (71: cluster_pictures.py, __init__) [16]\n",
      "verbose 1 (71: cluster_pictures.py, __init__) [1 + 6*7^2 + 6*7^3 + 6*7^4 + 6*7^5 + 6*7^6 + 6*7^7 + 6*7^8 + 6*7^9 + 6*7^10 + 6*7^11 + 6*7^12 + 6*7^13 + 6*7^14 + 6*7^15 + O(7^16)]\n",
      "verbose 1 (71: cluster_pictures.py, __init__) 16\n",
      "verbose 1 (71: cluster_pictures.py, __init__) defaultdict(<class 'list'>, {})\n",
      "verbose 1 (119: cluster_pictures.py, from_roots) [0, 7^3 + O(7^23), 6*7^3 + 6*7^4 + 6*7^5 + 6*7^6 + 6*7^7 + 6*7^8 + 6*7^9 + 6*7^10 + 6*7^11 + 6*7^12 + 6*7^13 + 6*7^14 + 6*7^15 + 6*7^16 + 6*7^17 + 6*7^18 + 6*7^19 + 6*7^20 + 6*7^21 + 6*7^22 + O(7^23), 7 + O(7^21), 1 + O(7^16), 1 + 7^2 + O(7^16), 1 + 6*7^2 + 6*7^3 + 6*7^4 + 6*7^5 + 6*7^6 + 6*7^7 + 6*7^8 + 6*7^9 + 6*7^10 + 6*7^11 + 6*7^12 + 6*7^13 + 6*7^14 + 6*7^15 + O(7^16)]\n",
      "verbose 1 (1147: cluster_pictures.py, BY_tree) Cluster with 7 roots and 2 children\n",
      "verbose 1 (1147: cluster_pictures.py, BY_tree) Cluster with 4 roots and 2 children\n",
      "verbose 1 (1434: cluster_pictures.py, add_yellow_edge) (Cluster with 7 roots and 2 children, Cluster with 4 roots and 2 children, 2)\n",
      "verbose 1 (1147: cluster_pictures.py, BY_tree) Cluster with 3 roots and 3 children\n",
      "verbose 1 (1403: cluster_pictures.py, add_blue_edge) (Cluster with 4 roots and 2 children, Cluster with 3 roots and 3 children, 2)\n",
      "verbose 1 (1147: cluster_pictures.py, BY_tree) Cluster with 1 roots and 0 children\n",
      "verbose 1 (1147: cluster_pictures.py, BY_tree) Cluster with 1 roots and 0 children\n",
      "verbose 1 (1147: cluster_pictures.py, BY_tree) Cluster with 1 roots and 0 children\n",
      "verbose 1 (1147: cluster_pictures.py, BY_tree) Cluster with 1 roots and 0 children\n",
      "verbose 1 (1147: cluster_pictures.py, BY_tree) Cluster with 3 roots and 3 children\n",
      "verbose 1 (1403: cluster_pictures.py, add_blue_edge) (Cluster with 7 roots and 2 children, Cluster with 3 roots and 3 children, 2)\n",
      "verbose 1 (1147: cluster_pictures.py, BY_tree) Cluster with 1 roots and 0 children\n",
      "verbose 1 (1147: cluster_pictures.py, BY_tree) Cluster with 1 roots and 0 children\n",
      "verbose 1 (1147: cluster_pictures.py, BY_tree) Cluster with 1 roots and 0 children\n",
      "verbose 1 (1147: cluster_pictures.py, BY_tree) BY-tree with 0 yellow vertices, 4 blue vertices, 1 yellow edges, 2, blue edges\n",
      "verbose 1 (1511: cluster_pictures.py, is_yellow) (Cluster with 4 roots and 2 children, Cluster with 7 roots and 2 children, 2)\n",
      "verbose 1 (1511: cluster_pictures.py, is_yellow) (Cluster with 7 roots and 2 children, Cluster with 4 roots and 2 children, 2)\n",
      "verbose 1 (1507: cluster_pictures.py, is_blue) (Cluster with 7 roots and 2 children, Cluster with 4 roots and 2 children, 2)\n",
      "verbose 1 (1507: cluster_pictures.py, is_blue) (Cluster with 3 roots and 3 children, Cluster with 4 roots and 2 children, 2)\n",
      "verbose 1 (1507: cluster_pictures.py, is_blue) (Cluster with 4 roots and 2 children, Cluster with 7 roots and 2 children, 2)\n",
      "verbose 1 (1507: cluster_pictures.py, is_blue) (Cluster with 3 roots and 3 children, Cluster with 7 roots and 2 children, 2)\n",
      "verbose 1 (1507: cluster_pictures.py, is_blue) (Cluster with 7 roots and 2 children, Cluster with 3 roots and 3 children, 2)\n",
      "verbose 1 (1507: cluster_pictures.py, is_blue) (Cluster with 4 roots and 2 children, Cluster with 3 roots and 3 children, 2)\n",
      "verbose 1 (1647: cluster_pictures.py, graphplot) {'title': 'BY-tree with 0 yellow vertices, 4 blue vertices, 1 yellow edges, 2, blue edges', 'vertex_colors': {'lightskyblue': [Cluster with 7 roots and 2 children, Cluster with 4 roots and 2 children, Cluster with 3 roots and 3 children, Cluster with 3 roots and 3 children], 'khaki': []}, 'edge_colors': {'lightskyblue': [(Cluster with 4 roots and 2 children, Cluster with 3 roots and 3 children, 2), (Cluster with 7 roots and 2 children, Cluster with 3 roots and 3 children, 2)], 'khaki': [(Cluster with 7 roots and 2 children, Cluster with 4 roots and 2 children, 2)]}, 'edge_thickness': 3, 'vertex_labels': False, 'edge_labels': True}\n"
     ]
    },
    {
     "data": {
      "image/png": "[encoded data removed]",
      "text/plain": [
       "BY-tree with 0 yellow vertices, 4 blue vertices, 1 yellow edges, 2, blue edges"
      ]
     },
     "execution_count": 16,
     "metadata": {},
     "output_type": "execute_result"
    }
   ],
   "source": [
    "p = 7\n",
    "x = polygen(Qp(p))\n",
    "H = HyperellipticCurve((x-1)*(x-(1+p^2))*(x-(1-p^2))*(x-p)*x*(x-p^3)*(x+p^3))\n",
    "C = Cluster.from_curve(H)\n",
    "T = C.BY_tree()\n",
    "T"
   ]
  },
  {
   "cell_type": "code",
   "execution_count": 17,
   "metadata": {},
   "outputs": [
    {
     "name": "stdout",
     "output_type": "stream",
     "text": [
      "verbose 1 (1671: cluster_pictures.py, tamagawa_number) [[(Cluster with 7 roots and 2 children, Cluster with 4 roots and 2 children, 2)]]\n",
      "verbose 1 (1671: cluster_pictures.py, tamagawa_number) [[[(Cluster with 7 roots and 2 children, Cluster with 4 roots and 2 children, 2)]]]\n"
     ]
    },
    {
     "data": {
      "text/plain": [
       "1"
      ]
     },
     "execution_count": 17,
     "metadata": {},
     "output_type": "execute_result"
    }
   ],
   "source": [
    "T.tamagawa_number()"
   ]
  },
  {
   "cell_type": "code",
   "execution_count": 31,
   "metadata": {},
   "outputs": [
    {
     "data": {
      "image/png": "[encoded data removed]",
      "text/plain": [
       "BY-tree with 0 yellow vertices, 4 blue vertices, 3 yellow edges, 0, blue edges"
      ]
     },
     "execution_count": 31,
     "metadata": {},
     "output_type": "execute_result"
    }
   ],
   "source": [
    "set_verbose(0)\n",
    "K.<a> = Qq(11^3,20)\n",
    "z= K.teichmuller(4*a^2 + 3)\n",
    "#L.<z>= CyclotomicField(7)\n",
    "x= polygen(K)\n",
    "f= x*(x-1)*(x-2)*(x-z+11)*(x-z-11)*(x-z^2+11)*(x-z^2-11)*(x-z^4+11)*(x-z^4-11)\n",
    "x= polygen(Qp(11))\n",
    "f= sage_eval(str(f), locals={'x':x})\n",
    "R = Cluster.from_polynomial(f)\n",
    "T = R.BY_tree()\n",
    "T"
   ]
  },
  {
   "cell_type": "code",
   "execution_count": 26,
   "metadata": {},
   "outputs": [
    {
     "name": "stdout",
     "output_type": "stream",
     "text": [
      "verbose 1 (1671: cluster_pictures.py, tamagawa_number) [[(Cluster with 9 roots and 6 children, Cluster with 2 roots and 2 children, 2)], [(Cluster with 9 roots and 6 children, Cluster with 2 roots and 2 children, 2)], [(Cluster with 9 roots and 6 children, Cluster with 2 roots and 2 children, 2)]]\n",
      "verbose 1 (1671: cluster_pictures.py, tamagawa_number) [[[(Cluster with 9 roots and 6 children, Cluster with 2 roots and 2 children, 2)]], [[(Cluster with 9 roots and 6 children, Cluster with 2 roots and 2 children, 2)]], [[(Cluster with 9 roots and 6 children, Cluster with 2 roots and 2 children, 2)]]]\n"
     ]
    },
    {
     "data": {
      "text/plain": [
       "1"
      ]
     },
     "execution_count": 26,
     "metadata": {},
     "output_type": "execute_result"
    }
   ],
   "source": [
    "set_verbose(1)\n",
    "T.tamagawa_number()"
   ]
  },
  {
   "cell_type": "code",
   "execution_count": 29,
   "metadata": {},
   "outputs": [
    {
     "data": {
      "image/png": "[encoded data removed]",
      "text/plain": [
       "BY-tree with 1 yellow vertices, 3 blue vertices, 3 yellow edges, 0, blue edges"
      ]
     },
     "execution_count": 29,
     "metadata": {},
     "output_type": "execute_result"
    }
   ],
   "source": [
    "set_verbose(0)\n",
    "K = Qp(7,150)\n",
    "x = polygen(K)\n",
    "H = HyperellipticCurve((x^2+7^2)*(x^2-7^(15))*(x-7^6)*(x-7^6-7^9))\n",
    "R = Cluster.from_curve(H)\n",
    "T = R.BY_tree()\n",
    "T"
   ]
  },
  {
   "cell_type": "code",
   "execution_count": 30,
   "metadata": {},
   "outputs": [
    {
     "name": "stdout",
     "output_type": "stream",
     "text": [
      "verbose 1 (1671: cluster_pictures.py, tamagawa_number) [[(Cluster with 6 roots and 3 children, Cluster with 4 roots and 2 children, 20), (Cluster with 4 roots and 2 children, Cluster with 2 roots and 2 children, 6), (Cluster with 4 roots and 2 children, Cluster with 2 roots and 2 children, 12)]]\n",
      "verbose 1 (1671: cluster_pictures.py, tamagawa_number) [[[(Cluster with 6 roots and 3 children, Cluster with 4 roots and 2 children, 20), (Cluster with 4 roots and 2 children, Cluster with 2 roots and 2 children, 6), (Cluster with 4 roots and 2 children, Cluster with 2 roots and 2 children, 12)]]]\n"
     ]
    },
    {
     "data": {
      "text/plain": [
       "1"
      ]
     },
     "execution_count": 30,
     "metadata": {},
     "output_type": "execute_result"
    }
   ],
   "source": [
    "set_verbose(1)\n",
    "T.tamagawa_number()"
   ]
  },
  {
   "cell_type": "markdown",
   "metadata": {},
   "source": [
    "We can construct a BY tree by hand."
   ]
  },
  {
   "cell_type": "code",
   "execution_count": 13,
   "metadata": {},
   "outputs": [
    {
     "ename": "TypeError",
     "evalue": "super(type, obj): obj must be an instance or subtype of type",
     "output_type": "error",
     "traceback": [
      "\u001b[1;31m---------------------------------------------------------------------------\u001b[0m",
      "\u001b[1;31mTypeError\u001b[0m                                 Traceback (most recent call last)",
      "\u001b[1;32m<ipython-input-13-27f277d9cefe>\u001b[0m in \u001b[0;36m<module>\u001b[1;34m()\u001b[0m\n\u001b[1;32m----> 1\u001b[1;33m \u001b[0mG\u001b[0m \u001b[1;33m=\u001b[0m \u001b[0mBYTree\u001b[0m\u001b[1;33m(\u001b[0m\u001b[1;33m)\u001b[0m\u001b[1;33m\u001b[0m\u001b[1;33m\u001b[0m\u001b[0m\n\u001b[0m\u001b[0;32m      2\u001b[0m \u001b[0mG\u001b[0m\u001b[1;33m\u001b[0m\u001b[1;33m\u001b[0m\u001b[0m\n",
      "\u001b[1;32m/Users/alex/clusters/sage_cluster_pictures/cluster_pictures.py\u001b[0m in \u001b[0;36m__init__\u001b[1;34m(self, *args, **kwargs)\u001b[0m\n\u001b[0;32m   1240\u001b[0m         \u001b[0mkwargs\u001b[0m\u001b[1;33m[\u001b[0m\u001b[1;34m'weighted'\u001b[0m\u001b[1;33m]\u001b[0m \u001b[1;33m=\u001b[0m \u001b[1;32mTrue\u001b[0m\u001b[1;33m\u001b[0m\u001b[1;33m\u001b[0m\u001b[0m\n\u001b[0;32m   1241\u001b[0m         \u001b[0mkwargs\u001b[0m\u001b[1;33m[\u001b[0m\u001b[1;34m'sparse'\u001b[0m\u001b[1;33m]\u001b[0m \u001b[1;33m=\u001b[0m \u001b[1;32mTrue\u001b[0m\u001b[1;33m\u001b[0m\u001b[1;33m\u001b[0m\u001b[0m\n\u001b[1;32m-> 1242\u001b[1;33m         \u001b[0msuper\u001b[0m\u001b[1;33m(\u001b[0m\u001b[0mBYTree\u001b[0m\u001b[1;33m,\u001b[0m \u001b[0mself\u001b[0m\u001b[1;33m)\u001b[0m\u001b[1;33m.\u001b[0m\u001b[0m__init__\u001b[0m\u001b[1;33m(\u001b[0m\u001b[1;33m*\u001b[0m\u001b[0margs\u001b[0m\u001b[1;33m,\u001b[0m \u001b[1;33m**\u001b[0m\u001b[0mkwargs\u001b[0m\u001b[1;33m)\u001b[0m\u001b[1;33m\u001b[0m\u001b[1;33m\u001b[0m\u001b[0m\n\u001b[0m\u001b[0;32m   1243\u001b[0m         \u001b[0mself\u001b[0m\u001b[1;33m.\u001b[0m\u001b[0m_blue_vertices\u001b[0m \u001b[1;33m=\u001b[0m \u001b[1;33m[\u001b[0m\u001b[1;33m]\u001b[0m\u001b[1;33m\u001b[0m\u001b[1;33m\u001b[0m\u001b[0m\n\u001b[0;32m   1244\u001b[0m         \u001b[0mself\u001b[0m\u001b[1;33m.\u001b[0m\u001b[0m_yellow_vertices\u001b[0m \u001b[1;33m=\u001b[0m \u001b[1;33m[\u001b[0m\u001b[1;33m]\u001b[0m\u001b[1;33m\u001b[0m\u001b[1;33m\u001b[0m\u001b[0m\n",
      "\u001b[1;31mTypeError\u001b[0m: super(type, obj): obj must be an instance or subtype of type"
     ]
    }
   ],
   "source": [
    "G = BYTree()\n",
    "G"
   ]
  },
  {
   "cell_type": "code",
   "execution_count": 14,
   "metadata": {},
   "outputs": [
    {
     "ename": "NameError",
     "evalue": "name 'G' is not defined",
     "output_type": "error",
     "traceback": [
      "\u001b[1;31m---------------------------------------------------------------------------\u001b[0m",
      "\u001b[1;31mNameError\u001b[0m                                 Traceback (most recent call last)",
      "\u001b[1;32m<ipython-input-14-4439444af5e8>\u001b[0m in \u001b[0;36m<module>\u001b[1;34m()\u001b[0m\n\u001b[1;32m----> 1\u001b[1;33m \u001b[0mG\u001b[0m\u001b[1;33m.\u001b[0m\u001b[0madd_blue_vertex\u001b[0m\u001b[1;33m(\u001b[0m\u001b[1;34m'v1'\u001b[0m\u001b[1;33m,\u001b[0m\u001b[0mInteger\u001b[0m\u001b[1;33m(\u001b[0m\u001b[1;36m1\u001b[0m\u001b[1;33m)\u001b[0m\u001b[1;33m)\u001b[0m\u001b[1;33m\u001b[0m\u001b[1;33m\u001b[0m\u001b[0m\n\u001b[0m\u001b[0;32m      2\u001b[0m \u001b[0mG\u001b[0m\u001b[1;33m.\u001b[0m\u001b[0madd_blue_vertex\u001b[0m\u001b[1;33m(\u001b[0m\u001b[1;34m'v2'\u001b[0m\u001b[1;33m,\u001b[0m\u001b[0mInteger\u001b[0m\u001b[1;33m(\u001b[0m\u001b[1;36m2\u001b[0m\u001b[1;33m)\u001b[0m\u001b[1;33m)\u001b[0m\u001b[1;33m\u001b[0m\u001b[1;33m\u001b[0m\u001b[0m\n\u001b[0;32m      3\u001b[0m \u001b[0mG\u001b[0m\u001b[1;33m.\u001b[0m\u001b[0madd_yellow_vertex\u001b[0m\u001b[1;33m(\u001b[0m\u001b[1;34m'v3'\u001b[0m\u001b[1;33m)\u001b[0m\u001b[1;33m\u001b[0m\u001b[1;33m\u001b[0m\u001b[0m\n\u001b[0;32m      4\u001b[0m \u001b[0mG\u001b[0m\u001b[1;33m.\u001b[0m\u001b[0madd_yellow_vertex\u001b[0m\u001b[1;33m(\u001b[0m\u001b[1;34m'v4'\u001b[0m\u001b[1;33m)\u001b[0m\u001b[1;33m\u001b[0m\u001b[1;33m\u001b[0m\u001b[0m\n\u001b[0;32m      5\u001b[0m \u001b[0mG\u001b[0m\u001b[1;33m.\u001b[0m\u001b[0madd_yellow_edge\u001b[0m\u001b[1;33m(\u001b[0m\u001b[1;33m(\u001b[0m\u001b[1;34m'v4'\u001b[0m\u001b[1;33m,\u001b[0m\u001b[1;34m'v1'\u001b[0m\u001b[1;33m,\u001b[0m\u001b[0mInteger\u001b[0m\u001b[1;33m(\u001b[0m\u001b[1;36m1\u001b[0m\u001b[1;33m)\u001b[0m\u001b[1;33m)\u001b[0m\u001b[1;33m)\u001b[0m\u001b[1;33m\u001b[0m\u001b[1;33m\u001b[0m\u001b[0m\n",
      "\u001b[1;31mNameError\u001b[0m: name 'G' is not defined"
     ]
    }
   ],
   "source": [
    "G.add_blue_vertex('v1',1)\n",
    "G.add_blue_vertex('v2',2)\n",
    "G.add_yellow_vertex('v3')\n",
    "G.add_yellow_vertex('v4')\n",
    "G.add_yellow_edge(('v4','v1',1))\n",
    "G.add_yellow_edge(('v4','v2',1))\n",
    "G.add_blue_edge(('v3','v4',2))"
   ]
  },
  {
   "cell_type": "code",
   "execution_count": 4,
   "metadata": {},
   "outputs": [
    {
     "data": {
      "image/png": "[encoded data removed]",
      "text/plain": [
       "BY-tree with 2 yellow vertices, 2 blue vertices, 2 yellow edges, 1, blue edges"
      ]
     },
     "execution_count": 4,
     "metadata": {},
     "output_type": "execute_result"
    }
   ],
   "source": [
    "G"
   ]
  },
  {
   "cell_type": "code",
   "execution_count": 5,
   "metadata": {},
   "outputs": [
    {
     "data": {
      "text/plain": [
       "(('v1', 'v4', 1), ('v1', 'v4', 1))"
      ]
     },
     "execution_count": 5,
     "metadata": {},
     "output_type": "execute_result"
    }
   ],
   "source": [
    "G.edges_incident('v4')[0], G.edges_incident('v1')[0]"
   ]
  },
  {
   "cell_type": "code",
   "execution_count": 6,
   "metadata": {},
   "outputs": [
    {
     "data": {
      "text/plain": [
       "['v1', 'v2', 'v3', 'v4']"
      ]
     },
     "execution_count": 6,
     "metadata": {},
     "output_type": "execute_result"
    }
   ],
   "source": [
    "G.vertices()"
   ]
  },
  {
   "cell_type": "code",
   "execution_count": 7,
   "metadata": {},
   "outputs": [],
   "source": [
    "from sage.graphs.graph_plot import graphplot_options"
   ]
  },
  {
   "cell_type": "code",
   "execution_count": 8,
   "metadata": {
    "scrolled": true
   },
   "outputs": [
    {
     "data": {
      "text/plain": [
       "{'layout': 'A layout algorithm -- one of : \"acyclic\", \"circular\" (plots the graph with vertices evenly distributed on a circle), \"ranked\", \"graphviz\", \"planar\", \"spring\" (traditional spring layout, using the graph\\'s current positions as initial positions), or \"tree\" (the tree will be plotted in levels, depending on minimum distance for the root).',\n",
       " 'iterations': 'The number of times to execute the spring layout algorithm.',\n",
       " 'heights': 'A dictionary mapping heights to the list of vertices at this height.',\n",
       " 'spring': 'Use spring layout to finalize the current layout.',\n",
       " 'tree_root': \"A vertex designation for drawing trees. A vertex of the tree to be used as the root for the ``layout='tree'`` option. If no root is specified, then one is chosen close to the center of the tree. Ignored unless ``layout='tree'``\",\n",
       " 'tree_orientation': \"The direction of tree branches -- 'up', 'down', 'left' or 'right'.\",\n",
       " 'save_pos': 'Whether or not to save the computed position for the graph.',\n",
       " 'dim': 'The dimension of the layout -- 2 or 3.',\n",
       " 'prog': 'Which graphviz layout program to use -- one of \"circo\", \"dot\", \"fdp\", \"neato\", or \"twopi\".',\n",
       " 'by_component': 'Whether to do the spring layout by connected component -- a boolean.',\n",
       " 'pos': 'The position dictionary of vertices',\n",
       " 'vertex_labels': 'Whether or not to draw vertex labels.',\n",
       " 'vertex_color': 'Default color for vertices not listed in vertex_colors dictionary.',\n",
       " 'vertex_colors': 'Dictionary of vertex coloring : each key is a color recognizable by matplotlib, and each corresponding entry is a list of vertices. ',\n",
       " 'vertex_size': 'The size to draw the vertices.',\n",
       " 'vertex_shape': 'The shape to draw the vertices. Currently unavailable for Multi-edged DiGraphs.',\n",
       " 'edge_labels': 'Whether or not to draw edge labels.',\n",
       " 'edge_style': 'The linestyle of the edges. It should be one of \"solid\", \"dashed\", \"dotted\", dashdot\", or \"-\", \"--\", \":\", \"-.\", respectively. ',\n",
       " 'edge_thickness': 'The thickness of the edges.',\n",
       " 'edge_color': 'The default color for edges not listed in edge_colors.',\n",
       " 'edge_colors': 'a dictionary specifying edge colors: each key is a color recognized by matplotlib, and each entry is a list of edges.',\n",
       " 'color_by_label': 'Whether to color the edges according to their labels. This also accepts a function or dictionary mapping labels to colors.',\n",
       " 'partition': 'A partition of the vertex set. If specified, plot will show each cell in a different color. vertex_colors takes precedence.',\n",
       " 'loop_size': 'The radius of the smallest loop.',\n",
       " 'dist': 'The distance between multiedges.',\n",
       " 'max_dist': 'The max distance range to allow multiedges.',\n",
       " 'talk': 'Whether to display the vertices in talk mode (larger and white).',\n",
       " 'graph_border': 'Whether or not to draw a frame around the graph.',\n",
       " 'edge_labels_background': 'The color of the background of the edge labels'}"
      ]
     },
     "execution_count": 8,
     "metadata": {},
     "output_type": "execute_result"
    }
   ],
   "source": [
    "graphplot_options"
   ]
  },
  {
   "cell_type": "code",
   "execution_count": 9,
   "metadata": {},
   "outputs": [
    {
     "data": {
      "text/plain": [
       "True"
      ]
     },
     "execution_count": 9,
     "metadata": {},
     "output_type": "execute_result"
    }
   ],
   "source": [
    "T = BYTree()\n",
    "T.add_blue_vertex('v1', 1)\n",
    "T.add_blue_vertex('v2', 0)\n",
    "T.add_yellow_edge(('v1', 'v2', 2))\n",
    "T.validate()\n"
   ]
  },
  {
   "cell_type": "code",
   "execution_count": 10,
   "metadata": {},
   "outputs": [
    {
     "data": {
      "text/plain": [
       "[('v1', 'v2', 2)]"
      ]
     },
     "execution_count": 10,
     "metadata": {},
     "output_type": "execute_result"
    }
   ],
   "source": [
    "T.yellow_edges()"
   ]
  },
  {
   "cell_type": "code",
   "execution_count": 11,
   "metadata": {},
   "outputs": [
    {
     "data": {
      "text/plain": [
       "[]"
      ]
     },
     "execution_count": 11,
     "metadata": {},
     "output_type": "execute_result"
    }
   ],
   "source": [
    "T.blue_edges()"
   ]
  },
  {
   "cell_type": "code",
   "execution_count": 12,
   "metadata": {},
   "outputs": [
    {
     "data": {
      "image/png": "[encoded data removed]",
      "text/plain": [
       "Graphics object consisting of 23 graphics primitives"
      ]
     },
     "execution_count": 12,
     "metadata": {},
     "output_type": "execute_result"
    }
   ],
   "source": [
    "T = BYTree()\n",
    "T.add_blue_vertex('v1')\n",
    "T.add_blue_vertex('v2')\n",
    "T.add_blue_vertex('v3')\n",
    "T.add_yellow_vertex('v4')\n",
    "T.add_blue_vertex('v5')\n",
    "T.add_blue_vertex('v6')\n",
    "T.add_blue_vertex('v7')\n",
    "T.add_blue_vertex('v8')\n",
    "T.add_yellow_edge(('v1', 'v4', 2))\n",
    "T.add_yellow_edge(('v2', 'v4', 4))\n",
    "T.add_yellow_edge(('v6', 'v4', 1))\n",
    "T.add_yellow_edge(('v7', 'v4', 1))\n",
    "T.add_blue_edge(('v7', 'v5', 2))\n",
    "T.add_yellow_edge(('v3', 'v5', 1))\n",
    "T.add_yellow_edge(('v8', 'v5', 2))\n",
    "plot(T, vertex_labels=True)"
   ]
  },
  {
   "cell_type": "code",
   "execution_count": 13,
   "metadata": {},
   "outputs": [
    {
     "name": "stdout",
     "output_type": "stream",
     "text": [
      "verbose 1 (1662: cluster_pictures.py, tamagawa_number) [[('v1', 'v4', 2), ('v2', 'v4', 4), ('v4', 'v6', 1), ('v4', 'v7', 1)], [('v3', 'v5', 1)], [('v5', 'v8', 2)]]\n"
     ]
    },
    {
     "ename": "AttributeError",
     "evalue": "'tuple' object has no attribute 'frobenius'",
     "output_type": "error",
     "traceback": [
      "\u001b[1;31m---------------------------------------------------------------------------\u001b[0m",
      "\u001b[1;31mAttributeError\u001b[0m                            Traceback (most recent call last)",
      "\u001b[1;32m<ipython-input-13-8790688903fb>\u001b[0m in \u001b[0;36m<module>\u001b[1;34m()\u001b[0m\n\u001b[0;32m      1\u001b[0m \u001b[0mset_verbose\u001b[0m\u001b[1;33m(\u001b[0m\u001b[0mInteger\u001b[0m\u001b[1;33m(\u001b[0m\u001b[1;36m1\u001b[0m\u001b[1;33m)\u001b[0m\u001b[1;33m)\u001b[0m\u001b[1;33m\u001b[0m\u001b[1;33m\u001b[0m\u001b[0m\n\u001b[1;32m----> 2\u001b[1;33m \u001b[0mT\u001b[0m\u001b[1;33m.\u001b[0m\u001b[0mtamagawa_number\u001b[0m\u001b[1;33m(\u001b[0m\u001b[1;33m)\u001b[0m\u001b[1;33m\u001b[0m\u001b[1;33m\u001b[0m\u001b[0m\n\u001b[0m",
      "\u001b[1;32m/Users/alex/clusters/sage_cluster_pictures/cluster_pictures.py\u001b[0m in \u001b[0;36mtamagawa_number\u001b[1;34m(self)\u001b[0m\n\u001b[0;32m   1679\u001b[0m         \u001b[0morbits\u001b[0m \u001b[1;33m=\u001b[0m \u001b[1;33m[\u001b[0m\u001b[1;33m]\u001b[0m\u001b[1;33m\u001b[0m\u001b[1;33m\u001b[0m\u001b[0m\n\u001b[0;32m   1680\u001b[0m         \u001b[1;32mfor\u001b[0m \u001b[0mC\u001b[0m \u001b[1;32min\u001b[0m \u001b[0mcomponents\u001b[0m\u001b[1;33m:\u001b[0m\u001b[1;33m\u001b[0m\u001b[1;33m\u001b[0m\u001b[0m\n\u001b[1;32m-> 1681\u001b[1;33m             \u001b[0mFe\u001b[0m \u001b[1;33m=\u001b[0m \u001b[1;33m(\u001b[0m\u001b[0mC\u001b[0m\u001b[1;33m[\u001b[0m\u001b[1;36m0\u001b[0m\u001b[1;33m]\u001b[0m\u001b[1;33m.\u001b[0m\u001b[0mfrobenius\u001b[0m\u001b[1;33m(\u001b[0m\u001b[1;33m)\u001b[0m\u001b[1;33m,\u001b[0m\u001b[0mC\u001b[0m\u001b[1;33m[\u001b[0m\u001b[1;36m1\u001b[0m\u001b[1;33m]\u001b[0m\u001b[1;33m.\u001b[0m\u001b[0mfrobenius\u001b[0m\u001b[1;33m(\u001b[0m\u001b[1;33m)\u001b[0m\u001b[1;33m,\u001b[0m\u001b[0mC\u001b[0m\u001b[1;33m[\u001b[0m\u001b[1;36m2\u001b[0m\u001b[1;33m]\u001b[0m\u001b[1;33m)\u001b[0m\u001b[1;33m\u001b[0m\u001b[1;33m\u001b[0m\u001b[0m\n\u001b[0m\u001b[0;32m   1682\u001b[0m             \u001b[1;32mfor\u001b[0m \u001b[0mO\u001b[0m \u001b[1;32min\u001b[0m \u001b[0morbits\u001b[0m\u001b[1;33m:\u001b[0m\u001b[1;33m\u001b[0m\u001b[1;33m\u001b[0m\u001b[0m\n\u001b[0;32m   1683\u001b[0m                 \u001b[1;32mfor\u001b[0m \u001b[0mD\u001b[0m \u001b[1;32min\u001b[0m \u001b[0mO\u001b[0m\u001b[1;33m:\u001b[0m\u001b[1;33m\u001b[0m\u001b[1;33m\u001b[0m\u001b[0m\n",
      "\u001b[1;31mAttributeError\u001b[0m: 'tuple' object has no attribute 'frobenius'"
     ]
    }
   ],
   "source": [
    "set_verbose(1)\n",
    "T.tamagawa_number()"
   ]
  },
  {
   "cell_type": "code",
   "execution_count": null,
   "metadata": {},
   "outputs": [],
   "source": [
    "T.validate()"
   ]
  },
  {
   "cell_type": "code",
   "execution_count": null,
   "metadata": {},
   "outputs": [],
   "source": [
    "T.shortest_path_length('v8','v7')"
   ]
  },
  {
   "cell_type": "code",
   "execution_count": null,
   "metadata": {},
   "outputs": [],
   "source": [
    "T.shortest_path('v8','v7')"
   ]
  },
  {
   "cell_type": "code",
   "execution_count": null,
   "metadata": {},
   "outputs": [],
   "source": [
    "T.distance('v8', 'v7', by_weight=True)"
   ]
  },
  {
   "cell_type": "code",
   "execution_count": null,
   "metadata": {},
   "outputs": [],
   "source": [
    "K = Qp(7,150)\n",
    "x = polygen(K)\n",
    "H = HyperellipticCurve((x^2+7^2)*(x^2-7^(15))*(x-7^6)*(x-7^6  -7^9))\n",
    "R = Cluster.from_curve(H)"
   ]
  },
  {
   "cell_type": "code",
   "execution_count": null,
   "metadata": {},
   "outputs": [],
   "source": [
    "T = R.BY_tree()\n",
    "T"
   ]
  },
  {
   "cell_type": "code",
   "execution_count": null,
   "metadata": {},
   "outputs": [],
   "source": [
    "T.tamagawa_number()"
   ]
  },
  {
   "cell_type": "code",
   "execution_count": null,
   "metadata": {},
   "outputs": [],
   "source": [
    "T.vertices(sort=False)"
   ]
  },
  {
   "cell_type": "code",
   "execution_count": null,
   "metadata": {},
   "outputs": [],
   "source": [
    "T.blue_vertices()"
   ]
  },
  {
   "cell_type": "code",
   "execution_count": null,
   "metadata": {},
   "outputs": [],
   "source": [
    "T.yellow_vertices()"
   ]
  },
  {
   "cell_type": "code",
   "execution_count": null,
   "metadata": {},
   "outputs": [],
   "source": [
    "T.validate()"
   ]
  },
  {
   "cell_type": "code",
   "execution_count": null,
   "metadata": {},
   "outputs": [],
   "source": [
    "for y in T.yellow_vertices():\n",
    "   for e in T.edges_incident(y):\n",
    "       print(e,e in T.yellow_edges())"
   ]
  },
  {
   "cell_type": "code",
   "execution_count": null,
   "metadata": {},
   "outputs": [],
   "source": [
    "T.yellow_edges()"
   ]
  },
  {
   "cell_type": "code",
   "execution_count": null,
   "metadata": {},
   "outputs": [],
   "source": [
    "T.edges_incident(y)"
   ]
  },
  {
   "cell_type": "code",
   "execution_count": null,
   "metadata": {},
   "outputs": [],
   "source": [
    "T.yellow_edges()[] == T.edges_incident(y)"
   ]
  },
  {
   "cell_type": "code",
   "execution_count": null,
   "metadata": {},
   "outputs": [],
   "source": [
    "T.edges_incident(T.edges_incident(y)[1][0])[0]"
   ]
  },
  {
   "cell_type": "code",
   "execution_count": null,
   "metadata": {},
   "outputs": [],
   "source": [
    "T.edges_incident(y)"
   ]
  },
  {
   "cell_type": "code",
   "execution_count": null,
   "metadata": {},
   "outputs": [],
   "source": [
    "y"
   ]
  },
  {
   "cell_type": "code",
   "execution_count": null,
   "metadata": {},
   "outputs": [],
   "source": [
    "T.edges_incident??"
   ]
  },
  {
   "cell_type": "code",
   "execution_count": null,
   "metadata": {},
   "outputs": [],
   "source": [
    "K = Qp(7,150)\n",
    "x = polygen(K)\n",
    "H = HyperellipticCurve((x^2+7^2)*(x^2-7^(15))*(x-7^6)*(x-7^6-7^9))\n",
    "R = Cluster.from_curve(H)\n",
    "a = R.children()[0]\n",
    "t1 = a.children()[0]\n",
    "t2 = a.children()[1]"
   ]
  },
  {
   "cell_type": "code",
   "execution_count": null,
   "metadata": {},
   "outputs": [],
   "source": [
    "T = R.BY_tree()\n",
    "T"
   ]
  },
  {
   "cell_type": "code",
   "execution_count": null,
   "metadata": {},
   "outputs": [],
   "source": [
    "T.blue_subgraph()"
   ]
  },
  {
   "cell_type": "code",
   "execution_count": null,
   "metadata": {},
   "outputs": [],
   "source": [
    "T.complement()"
   ]
  },
  {
   "cell_type": "code",
   "execution_count": 8,
   "metadata": {},
   "outputs": [
    {
     "name": "stdout",
     "output_type": "stream",
     "text": [
      "verbose 1 (71: cluster_pictures.py, __init__) [300  15  12  12   2   2]\n",
      "[ 15 300  12  12   2   2]\n",
      "[ 12  12 300  18   2   2]\n",
      "[ 12  12  18 300   2   2]\n",
      "[  2   2   2   2 300   2]\n",
      "[  2   2   2   2   2 300]\n",
      "verbose 1 (71: cluster_pictures.py, __init__) [a^15 + O(a^315), 6*a^15 + 6*a^17 + 6*a^19 + 6*a^21 + 6*a^23 + 6*a^25 + 6*a^27 + 6*a^29 + 6*a^31 + 6*a^33 + 6*a^35 + 6*a^37 + 6*a^39 + 6*a^41 + 6*a^43 + 6*a^45 + 6*a^47 + 6*a^49 + 6*a^51 + 6*a^53 + 6*a^55 + 6*a^57 + 6*a^59 + 6*a^61 + 6*a^63 + 6*a^65 + 6*a^67 + 6*a^69 + 6*a^71 + 6*a^73 + 6*a^75 + 6*a^77 + 6*a^79 + 6*a^81 + 6*a^83 + 6*a^85 + 6*a^87 + 6*a^89 + 6*a^91 + 6*a^93 + 6*a^95 + 6*a^97 + 6*a^99 + 6*a^101 + 6*a^103 + 6*a^105 + 6*a^107 + 6*a^109 + 6*a^111 + 6*a^113 + 6*a^115 + 6*a^117 + 6*a^119 + 6*a^121 + 6*a^123 + 6*a^125 + 6*a^127 + 6*a^129 + 6*a^131 + 6*a^133 + 6*a^135 + 6*a^137 + 6*a^139 + 6*a^141 + 6*a^143 + 6*a^145 + 6*a^147 + 6*a^149 + 6*a^151 + 6*a^153 + 6*a^155 + 6*a^157 + 6*a^159 + 6*a^161 + 6*a^163 + 6*a^165 + 6*a^167 + 6*a^169 + 6*a^171 + 6*a^173 + 6*a^175 + 6*a^177 + 6*a^179 + 6*a^181 + 6*a^183 + 6*a^185 + 6*a^187 + 6*a^189 + 6*a^191 + 6*a^193 + 6*a^195 + 6*a^197 + 6*a^199 + 6*a^201 + 6*a^203 + 6*a^205 + 6*a^207 + 6*a^209 + 6*a^211 + 6*a^213 + 6*a^215 + 6*a^217 + 6*a^219 + 6*a^221 + 6*a^223 + 6*a^225 + 6*a^227 + 6*a^229 + 6*a^231 + 6*a^233 + 6*a^235 + 6*a^237 + 6*a^239 + 6*a^241 + 6*a^243 + 6*a^245 + 6*a^247 + 6*a^249 + 6*a^251 + 6*a^253 + 6*a^255 + 6*a^257 + 6*a^259 + 6*a^261 + 6*a^263 + 6*a^265 + 6*a^267 + 6*a^269 + 6*a^271 + 6*a^273 + 6*a^275 + 6*a^277 + 6*a^279 + 6*a^281 + 6*a^283 + 6*a^285 + 6*a^287 + 6*a^289 + 6*a^291 + 6*a^293 + 6*a^295 + 6*a^297 + 6*a^299 + 6*a^301 + 6*a^303 + 6*a^305 + 6*a^307 + 6*a^309 + 6*a^311 + 6*a^313 + O(a^315), a^12 + O(a^306), a^12 + a^18 + O(a^306), (b + 3)*a^2 + (4*b + 5)*a^4 + (6*b + 5)*a^6 + (6*b + 6)*a^8 + (3*b + 4)*a^10 + (5*b + 2)*a^12 + (6*b + 6)*a^14 + (6*b + 6)*a^16 + (2*b + 1)*a^18 + 2*b*a^20 + (3*b + 3)*a^22 + (3*b + 3)*a^24 + 2*b*a^26 + (4*b + 6)*a^28 + (b + 4)*a^30 + (5*b + 1)*a^32 + (b + 5)*a^34 + (4*b + 5)*a^36 + (3*b + 3)*a^38 + (b + 4)*a^40 + (2*b + 6)*a^44 + (3*b + 2)*a^46 + (4*b + 6)*a^48 + (b + 4)*a^50 + (5*b + 1)*a^52 + 4*b*a^54 + (3*b + 4)*a^56 + a^58 + (5*b + 1)*a^60 + (5*b + 3)*a^62 + (2*b + 1)*a^64 + (5*b + 2)*a^66 + (3*b + 4)*a^68 + 2*b*a^70 + (4*b + 6)*a^72 + (4*b + 6)*a^74 + (4*b + 6)*a^76 + (6*b + 5)*a^78 + (5*b + 3)*a^80 + (5*b + 3)*a^82 + 4*b*a^84 + (6*b + 6)*a^86 + 2*a^88 + (3*b + 2)*a^90 + 2*b*a^92 + (b + 4)*a^94 + (5*b + 1)*a^96 + 4*b*a^98 + (b + 5)*a^100 + (4*b + 5)*a^102 + (b + 4)*a^104 + (6*b + 4)*a^106 + (3*b + 4)*a^108 + (6*b + 5)*a^110 + (6*b + 6)*a^112 + (6*b + 6)*a^114 + 4*b*a^116 + 2*a^118 + (b + 3)*a^120 + (5*b + 1)*a^122 + (6*b + 6)*a^124 + 4*b*a^126 + (3*b + 4)*a^128 + (6*b + 5)*a^130 + (6*b + 6)*a^132 + (b + 5)*a^134 + (5*b + 1)*a^136 + (2*b + 1)*a^138 + 2*b*a^140 + (3*b + 3)*a^142 + 2*b*a^144 + (6*b + 5)*a^146 + 4*b*a^148 + (6*b + 6)*a^150 + (2*b + 1)*a^152 + 2*b*a^154 + a^156 + (5*b + 1)*a^160 + (6*b + 6)*a^162 + (3*b + 4)*a^164 + (4*b + 6)*a^166 + (6*b + 5)*a^168 + (2*b + 1)*a^170 + (5*b + 2)*a^172 + (b + 5)*a^174 + (5*b + 1)*a^176 + (b + 5)*a^178 + (b + 3)*a^180 + (2*b + 6)*a^182 + (6*b + 4)*a^184 + (b + 5)*a^186 + (6*b + 4)*a^188 + 4*b*a^190 + (5*b + 3)*a^192 + 4*b*a^194 + (3*b + 4)*a^196 + 2*b*a^198 + 2*b*a^200 + (6*b + 5)*a^202 + (5*b + 3)*a^204 + (2*b + 1)*a^206 + a^208 + (2*b + 6)*a^210 + (5*b + 1)*a^212 + 4*b*a^214 + (5*b + 3)*a^216 + (2*b + 1)*a^218 + (5*b + 2)*a^220 + (3*b + 4)*a^222 + 2*b*a^224 + 2*b*a^226 + (3*b + 3)*a^228 + a^230 + (6*b + 4)*a^232 + 4*b*a^234 + (6*b + 6)*a^236 + 2*a^238 + (4*b + 5)*a^240 + (4*b + 6)*a^242 + (6*b + 5)*a^244 + (b + 5)*a^246 + (3*b + 2)*a^248 + (b + 4)*a^250 + (2*b + 6)*a^252 + (2*b + 6)*a^254 + (6*b + 4)*a^256 + (6*b + 6)*a^258 + (2*b + 1)*a^260 + (5*b + 2)*a^262 + (3*b + 4)*a^264 + (b + 4)*a^266 + (b + 3)*a^268 + (4*b + 5)*a^270 + (6*b + 5)*a^272 + (5*b + 3)*a^274 + 2*a^276 + (2*b + 6)*a^278 + (2*b + 6)*a^280 + (4*b + 5)*a^282 + (5*b + 2)*a^284 + (5*b + 3)*a^286 + 4*b*a^288 + 4*b*a^290 + 2*a^292 + (5*b + 1)*a^294 + 2*a^296 + (4*b + 5)*a^298 + (5*b + 2)*a^300 + O(a^302), (6*b + 4)*a^2 + (2*b + 1)*a^4 + a^6 + (3*b + 2)*a^10 + (b + 4)*a^12 + (4*b + 5)*a^18 + (4*b + 6)*a^20 + (3*b + 3)*a^22 + (3*b + 3)*a^24 + (4*b + 6)*a^26 + 2*b*a^28 + (5*b + 2)*a^30 + (b + 5)*a^32 + (5*b + 1)*a^34 + (2*b + 1)*a^36 + (3*b + 3)*a^38 + (5*b + 2)*a^40 + (6*b + 6)*a^42 + 4*b*a^44 + (3*b + 4)*a^46 + 2*b*a^48 + (5*b + 2)*a^50 + (b + 5)*a^52 + (2*b + 6)*a^54 + (3*b + 2)*a^56 + (6*b + 5)*a^58 + (b + 5)*a^60 + (b + 3)*a^62 + (4*b + 5)*a^64 + (b + 4)*a^66 + (3*b + 2)*a^68 + (4*b + 6)*a^70 + 2*b*a^72 + 2*b*a^74 + 2*b*a^76 + a^78 + (b + 3)*a^80 + (b + 3)*a^82 + (2*b + 6)*a^84 + (6*b + 4)*a^88 + (3*b + 4)*a^90 + (4*b + 6)*a^92 + (5*b + 2)*a^94 + (b + 5)*a^96 + (2*b + 6)*a^98 + (5*b + 1)*a^100 + (2*b + 1)*a^102 + (5*b + 2)*a^104 + 2*a^106 + (3*b + 2)*a^108 + a^110 + (2*b + 6)*a^116 + (6*b + 4)*a^118 + (5*b + 3)*a^120 + (b + 5)*a^122 + (2*b + 6)*a^126 + (3*b + 2)*a^128 + a^130 + (5*b + 1)*a^134 + (b + 5)*a^136 + (4*b + 5)*a^138 + (4*b + 6)*a^140 + (3*b + 3)*a^142 + (4*b + 6)*a^144 + a^146 + (2*b + 6)*a^148 + (4*b + 5)*a^152 + (4*b + 6)*a^154 + (6*b + 5)*a^156 + (6*b + 6)*a^158 + (b + 5)*a^160 + (3*b + 2)*a^164 + 2*b*a^166 + a^168 + (4*b + 5)*a^170 + (b + 4)*a^172 + (5*b + 1)*a^174 + (b + 5)*a^176 + (5*b + 1)*a^178 + (5*b + 3)*a^180 + 4*b*a^182 + 2*a^184 + (5*b + 1)*a^186 + 2*a^188 + (2*b + 6)*a^190 + (b + 3)*a^192 + (2*b + 6)*a^194 + (3*b + 2)*a^196 + (4*b + 6)*a^198 + (4*b + 6)*a^200 + a^202 + (b + 3)*a^204 + (4*b + 5)*a^206 + (6*b + 5)*a^208 + 4*b*a^210 + (b + 5)*a^212 + (2*b + 6)*a^214 + (b + 3)*a^216 + (4*b + 5)*a^218 + (b + 4)*a^220 + (3*b + 2)*a^222 + (4*b + 6)*a^224 + (4*b + 6)*a^226 + (3*b + 3)*a^228 + (6*b + 5)*a^230 + 2*a^232 + (2*b + 6)*a^234 + (6*b + 4)*a^238 + (2*b + 1)*a^240 + 2*b*a^242 + a^244 + (5*b + 1)*a^246 + (3*b + 4)*a^248 + (5*b + 2)*a^250 + 4*b*a^252 + 4*b*a^254 + 2*a^256 + (4*b + 5)*a^260 + (b + 4)*a^262 + (3*b + 2)*a^264 + (5*b + 2)*a^266 + (5*b + 3)*a^268 + (2*b + 1)*a^270 + a^272 + (b + 3)*a^274 + (6*b + 4)*a^276 + 4*b*a^278 + 4*b*a^280 + (2*b + 1)*a^282 + (b + 4)*a^284 + (b + 3)*a^286 + (2*b + 6)*a^288 + (2*b + 6)*a^290 + (6*b + 4)*a^292 + (b + 5)*a^294 + (6*b + 4)*a^296 + (2*b + 1)*a^298 + (b + 4)*a^300 + O(a^302)]\n",
      "verbose 1 (71: cluster_pictures.py, __init__) 2\n",
      "verbose 1 (71: cluster_pictures.py, __init__) defaultdict(<class 'list'>, {0: [0, 1, 2, 3], 4: [4], 5: [5]})\n",
      "verbose 1 (71: cluster_pictures.py, __init__) [300  15  12  12]\n",
      "[ 15 300  12  12]\n",
      "[ 12  12 300  18]\n",
      "[ 12  12  18 300]\n",
      "verbose 1 (71: cluster_pictures.py, __init__) [a^15 + O(a^315), 6*a^15 + 6*a^17 + 6*a^19 + 6*a^21 + 6*a^23 + 6*a^25 + 6*a^27 + 6*a^29 + 6*a^31 + 6*a^33 + 6*a^35 + 6*a^37 + 6*a^39 + 6*a^41 + 6*a^43 + 6*a^45 + 6*a^47 + 6*a^49 + 6*a^51 + 6*a^53 + 6*a^55 + 6*a^57 + 6*a^59 + 6*a^61 + 6*a^63 + 6*a^65 + 6*a^67 + 6*a^69 + 6*a^71 + 6*a^73 + 6*a^75 + 6*a^77 + 6*a^79 + 6*a^81 + 6*a^83 + 6*a^85 + 6*a^87 + 6*a^89 + 6*a^91 + 6*a^93 + 6*a^95 + 6*a^97 + 6*a^99 + 6*a^101 + 6*a^103 + 6*a^105 + 6*a^107 + 6*a^109 + 6*a^111 + 6*a^113 + 6*a^115 + 6*a^117 + 6*a^119 + 6*a^121 + 6*a^123 + 6*a^125 + 6*a^127 + 6*a^129 + 6*a^131 + 6*a^133 + 6*a^135 + 6*a^137 + 6*a^139 + 6*a^141 + 6*a^143 + 6*a^145 + 6*a^147 + 6*a^149 + 6*a^151 + 6*a^153 + 6*a^155 + 6*a^157 + 6*a^159 + 6*a^161 + 6*a^163 + 6*a^165 + 6*a^167 + 6*a^169 + 6*a^171 + 6*a^173 + 6*a^175 + 6*a^177 + 6*a^179 + 6*a^181 + 6*a^183 + 6*a^185 + 6*a^187 + 6*a^189 + 6*a^191 + 6*a^193 + 6*a^195 + 6*a^197 + 6*a^199 + 6*a^201 + 6*a^203 + 6*a^205 + 6*a^207 + 6*a^209 + 6*a^211 + 6*a^213 + 6*a^215 + 6*a^217 + 6*a^219 + 6*a^221 + 6*a^223 + 6*a^225 + 6*a^227 + 6*a^229 + 6*a^231 + 6*a^233 + 6*a^235 + 6*a^237 + 6*a^239 + 6*a^241 + 6*a^243 + 6*a^245 + 6*a^247 + 6*a^249 + 6*a^251 + 6*a^253 + 6*a^255 + 6*a^257 + 6*a^259 + 6*a^261 + 6*a^263 + 6*a^265 + 6*a^267 + 6*a^269 + 6*a^271 + 6*a^273 + 6*a^275 + 6*a^277 + 6*a^279 + 6*a^281 + 6*a^283 + 6*a^285 + 6*a^287 + 6*a^289 + 6*a^291 + 6*a^293 + 6*a^295 + 6*a^297 + 6*a^299 + 6*a^301 + 6*a^303 + 6*a^305 + 6*a^307 + 6*a^309 + 6*a^311 + 6*a^313 + O(a^315), a^12 + O(a^306), a^12 + a^18 + O(a^306)]\n",
      "verbose 1 (71: cluster_pictures.py, __init__) 12\n"
     ]
    },
    {
     "name": "stdout",
     "output_type": "stream",
     "text": [
      "verbose 1 (71: cluster_pictures.py, __init__) defaultdict(<class 'list'>, {0: [0, 1], 2: [2, 3]})\n",
      "verbose 1 (71: cluster_pictures.py, __init__) [300  15]\n",
      "[ 15 300]\n",
      "verbose 1 (71: cluster_pictures.py, __init__) [a^15 + O(a^315), 6*a^15 + 6*a^17 + 6*a^19 + 6*a^21 + 6*a^23 + 6*a^25 + 6*a^27 + 6*a^29 + 6*a^31 + 6*a^33 + 6*a^35 + 6*a^37 + 6*a^39 + 6*a^41 + 6*a^43 + 6*a^45 + 6*a^47 + 6*a^49 + 6*a^51 + 6*a^53 + 6*a^55 + 6*a^57 + 6*a^59 + 6*a^61 + 6*a^63 + 6*a^65 + 6*a^67 + 6*a^69 + 6*a^71 + 6*a^73 + 6*a^75 + 6*a^77 + 6*a^79 + 6*a^81 + 6*a^83 + 6*a^85 + 6*a^87 + 6*a^89 + 6*a^91 + 6*a^93 + 6*a^95 + 6*a^97 + 6*a^99 + 6*a^101 + 6*a^103 + 6*a^105 + 6*a^107 + 6*a^109 + 6*a^111 + 6*a^113 + 6*a^115 + 6*a^117 + 6*a^119 + 6*a^121 + 6*a^123 + 6*a^125 + 6*a^127 + 6*a^129 + 6*a^131 + 6*a^133 + 6*a^135 + 6*a^137 + 6*a^139 + 6*a^141 + 6*a^143 + 6*a^145 + 6*a^147 + 6*a^149 + 6*a^151 + 6*a^153 + 6*a^155 + 6*a^157 + 6*a^159 + 6*a^161 + 6*a^163 + 6*a^165 + 6*a^167 + 6*a^169 + 6*a^171 + 6*a^173 + 6*a^175 + 6*a^177 + 6*a^179 + 6*a^181 + 6*a^183 + 6*a^185 + 6*a^187 + 6*a^189 + 6*a^191 + 6*a^193 + 6*a^195 + 6*a^197 + 6*a^199 + 6*a^201 + 6*a^203 + 6*a^205 + 6*a^207 + 6*a^209 + 6*a^211 + 6*a^213 + 6*a^215 + 6*a^217 + 6*a^219 + 6*a^221 + 6*a^223 + 6*a^225 + 6*a^227 + 6*a^229 + 6*a^231 + 6*a^233 + 6*a^235 + 6*a^237 + 6*a^239 + 6*a^241 + 6*a^243 + 6*a^245 + 6*a^247 + 6*a^249 + 6*a^251 + 6*a^253 + 6*a^255 + 6*a^257 + 6*a^259 + 6*a^261 + 6*a^263 + 6*a^265 + 6*a^267 + 6*a^269 + 6*a^271 + 6*a^273 + 6*a^275 + 6*a^277 + 6*a^279 + 6*a^281 + 6*a^283 + 6*a^285 + 6*a^287 + 6*a^289 + 6*a^291 + 6*a^293 + 6*a^295 + 6*a^297 + 6*a^299 + 6*a^301 + 6*a^303 + 6*a^305 + 6*a^307 + 6*a^309 + 6*a^311 + 6*a^313 + O(a^315)]\n",
      "verbose 1 (71: cluster_pictures.py, __init__) 15\n",
      "verbose 1 (71: cluster_pictures.py, __init__) defaultdict(<class 'list'>, {0: [0], 1: [1]})\n",
      "verbose 1 (71: cluster_pictures.py, __init__) [300]\n",
      "verbose 1 (71: cluster_pictures.py, __init__) [a^15 + O(a^315)]\n",
      "verbose 1 (71: cluster_pictures.py, __init__) 300\n",
      "verbose 1 (71: cluster_pictures.py, __init__) defaultdict(<class 'list'>, {})\n",
      "verbose 1 (71: cluster_pictures.py, __init__) [300]\n",
      "verbose 1 (71: cluster_pictures.py, __init__) [6*a^15 + 6*a^17 + 6*a^19 + 6*a^21 + 6*a^23 + 6*a^25 + 6*a^27 + 6*a^29 + 6*a^31 + 6*a^33 + 6*a^35 + 6*a^37 + 6*a^39 + 6*a^41 + 6*a^43 + 6*a^45 + 6*a^47 + 6*a^49 + 6*a^51 + 6*a^53 + 6*a^55 + 6*a^57 + 6*a^59 + 6*a^61 + 6*a^63 + 6*a^65 + 6*a^67 + 6*a^69 + 6*a^71 + 6*a^73 + 6*a^75 + 6*a^77 + 6*a^79 + 6*a^81 + 6*a^83 + 6*a^85 + 6*a^87 + 6*a^89 + 6*a^91 + 6*a^93 + 6*a^95 + 6*a^97 + 6*a^99 + 6*a^101 + 6*a^103 + 6*a^105 + 6*a^107 + 6*a^109 + 6*a^111 + 6*a^113 + 6*a^115 + 6*a^117 + 6*a^119 + 6*a^121 + 6*a^123 + 6*a^125 + 6*a^127 + 6*a^129 + 6*a^131 + 6*a^133 + 6*a^135 + 6*a^137 + 6*a^139 + 6*a^141 + 6*a^143 + 6*a^145 + 6*a^147 + 6*a^149 + 6*a^151 + 6*a^153 + 6*a^155 + 6*a^157 + 6*a^159 + 6*a^161 + 6*a^163 + 6*a^165 + 6*a^167 + 6*a^169 + 6*a^171 + 6*a^173 + 6*a^175 + 6*a^177 + 6*a^179 + 6*a^181 + 6*a^183 + 6*a^185 + 6*a^187 + 6*a^189 + 6*a^191 + 6*a^193 + 6*a^195 + 6*a^197 + 6*a^199 + 6*a^201 + 6*a^203 + 6*a^205 + 6*a^207 + 6*a^209 + 6*a^211 + 6*a^213 + 6*a^215 + 6*a^217 + 6*a^219 + 6*a^221 + 6*a^223 + 6*a^225 + 6*a^227 + 6*a^229 + 6*a^231 + 6*a^233 + 6*a^235 + 6*a^237 + 6*a^239 + 6*a^241 + 6*a^243 + 6*a^245 + 6*a^247 + 6*a^249 + 6*a^251 + 6*a^253 + 6*a^255 + 6*a^257 + 6*a^259 + 6*a^261 + 6*a^263 + 6*a^265 + 6*a^267 + 6*a^269 + 6*a^271 + 6*a^273 + 6*a^275 + 6*a^277 + 6*a^279 + 6*a^281 + 6*a^283 + 6*a^285 + 6*a^287 + 6*a^289 + 6*a^291 + 6*a^293 + 6*a^295 + 6*a^297 + 6*a^299 + 6*a^301 + 6*a^303 + 6*a^305 + 6*a^307 + 6*a^309 + 6*a^311 + 6*a^313 + O(a^315)]\n",
      "verbose 1 (71: cluster_pictures.py, __init__) 300\n",
      "verbose 1 (71: cluster_pictures.py, __init__) defaultdict(<class 'list'>, {})\n",
      "verbose 1 (71: cluster_pictures.py, __init__) [300  18]\n",
      "[ 18 300]\n",
      "verbose 1 (71: cluster_pictures.py, __init__) [a^12 + O(a^306), a^12 + a^18 + O(a^306)]\n",
      "verbose 1 (71: cluster_pictures.py, __init__) 18\n",
      "verbose 1 (71: cluster_pictures.py, __init__) defaultdict(<class 'list'>, {0: [0], 1: [1]})\n",
      "verbose 1 (71: cluster_pictures.py, __init__) [300]\n",
      "verbose 1 (71: cluster_pictures.py, __init__) [a^12 + O(a^306)]\n",
      "verbose 1 (71: cluster_pictures.py, __init__) 300\n",
      "verbose 1 (71: cluster_pictures.py, __init__) defaultdict(<class 'list'>, {})\n",
      "verbose 1 (71: cluster_pictures.py, __init__) [300]\n",
      "verbose 1 (71: cluster_pictures.py, __init__) [a^12 + a^18 + O(a^306)]\n",
      "verbose 1 (71: cluster_pictures.py, __init__) 300\n",
      "verbose 1 (71: cluster_pictures.py, __init__) defaultdict(<class 'list'>, {})\n",
      "verbose 1 (71: cluster_pictures.py, __init__) [300]\n",
      "verbose 1 (71: cluster_pictures.py, __init__) [(b + 3)*a^2 + (4*b + 5)*a^4 + (6*b + 5)*a^6 + (6*b + 6)*a^8 + (3*b + 4)*a^10 + (5*b + 2)*a^12 + (6*b + 6)*a^14 + (6*b + 6)*a^16 + (2*b + 1)*a^18 + 2*b*a^20 + (3*b + 3)*a^22 + (3*b + 3)*a^24 + 2*b*a^26 + (4*b + 6)*a^28 + (b + 4)*a^30 + (5*b + 1)*a^32 + (b + 5)*a^34 + (4*b + 5)*a^36 + (3*b + 3)*a^38 + (b + 4)*a^40 + (2*b + 6)*a^44 + (3*b + 2)*a^46 + (4*b + 6)*a^48 + (b + 4)*a^50 + (5*b + 1)*a^52 + 4*b*a^54 + (3*b + 4)*a^56 + a^58 + (5*b + 1)*a^60 + (5*b + 3)*a^62 + (2*b + 1)*a^64 + (5*b + 2)*a^66 + (3*b + 4)*a^68 + 2*b*a^70 + (4*b + 6)*a^72 + (4*b + 6)*a^74 + (4*b + 6)*a^76 + (6*b + 5)*a^78 + (5*b + 3)*a^80 + (5*b + 3)*a^82 + 4*b*a^84 + (6*b + 6)*a^86 + 2*a^88 + (3*b + 2)*a^90 + 2*b*a^92 + (b + 4)*a^94 + (5*b + 1)*a^96 + 4*b*a^98 + (b + 5)*a^100 + (4*b + 5)*a^102 + (b + 4)*a^104 + (6*b + 4)*a^106 + (3*b + 4)*a^108 + (6*b + 5)*a^110 + (6*b + 6)*a^112 + (6*b + 6)*a^114 + 4*b*a^116 + 2*a^118 + (b + 3)*a^120 + (5*b + 1)*a^122 + (6*b + 6)*a^124 + 4*b*a^126 + (3*b + 4)*a^128 + (6*b + 5)*a^130 + (6*b + 6)*a^132 + (b + 5)*a^134 + (5*b + 1)*a^136 + (2*b + 1)*a^138 + 2*b*a^140 + (3*b + 3)*a^142 + 2*b*a^144 + (6*b + 5)*a^146 + 4*b*a^148 + (6*b + 6)*a^150 + (2*b + 1)*a^152 + 2*b*a^154 + a^156 + (5*b + 1)*a^160 + (6*b + 6)*a^162 + (3*b + 4)*a^164 + (4*b + 6)*a^166 + (6*b + 5)*a^168 + (2*b + 1)*a^170 + (5*b + 2)*a^172 + (b + 5)*a^174 + (5*b + 1)*a^176 + (b + 5)*a^178 + (b + 3)*a^180 + (2*b + 6)*a^182 + (6*b + 4)*a^184 + (b + 5)*a^186 + (6*b + 4)*a^188 + 4*b*a^190 + (5*b + 3)*a^192 + 4*b*a^194 + (3*b + 4)*a^196 + 2*b*a^198 + 2*b*a^200 + (6*b + 5)*a^202 + (5*b + 3)*a^204 + (2*b + 1)*a^206 + a^208 + (2*b + 6)*a^210 + (5*b + 1)*a^212 + 4*b*a^214 + (5*b + 3)*a^216 + (2*b + 1)*a^218 + (5*b + 2)*a^220 + (3*b + 4)*a^222 + 2*b*a^224 + 2*b*a^226 + (3*b + 3)*a^228 + a^230 + (6*b + 4)*a^232 + 4*b*a^234 + (6*b + 6)*a^236 + 2*a^238 + (4*b + 5)*a^240 + (4*b + 6)*a^242 + (6*b + 5)*a^244 + (b + 5)*a^246 + (3*b + 2)*a^248 + (b + 4)*a^250 + (2*b + 6)*a^252 + (2*b + 6)*a^254 + (6*b + 4)*a^256 + (6*b + 6)*a^258 + (2*b + 1)*a^260 + (5*b + 2)*a^262 + (3*b + 4)*a^264 + (b + 4)*a^266 + (b + 3)*a^268 + (4*b + 5)*a^270 + (6*b + 5)*a^272 + (5*b + 3)*a^274 + 2*a^276 + (2*b + 6)*a^278 + (2*b + 6)*a^280 + (4*b + 5)*a^282 + (5*b + 2)*a^284 + (5*b + 3)*a^286 + 4*b*a^288 + 4*b*a^290 + 2*a^292 + (5*b + 1)*a^294 + 2*a^296 + (4*b + 5)*a^298 + (5*b + 2)*a^300 + O(a^302)]\n",
      "verbose 1 (71: cluster_pictures.py, __init__) 300\n",
      "verbose 1 (71: cluster_pictures.py, __init__) defaultdict(<class 'list'>, {})\n",
      "verbose 1 (71: cluster_pictures.py, __init__) [300]\n",
      "verbose 1 (71: cluster_pictures.py, __init__) [(6*b + 4)*a^2 + (2*b + 1)*a^4 + a^6 + (3*b + 2)*a^10 + (b + 4)*a^12 + (4*b + 5)*a^18 + (4*b + 6)*a^20 + (3*b + 3)*a^22 + (3*b + 3)*a^24 + (4*b + 6)*a^26 + 2*b*a^28 + (5*b + 2)*a^30 + (b + 5)*a^32 + (5*b + 1)*a^34 + (2*b + 1)*a^36 + (3*b + 3)*a^38 + (5*b + 2)*a^40 + (6*b + 6)*a^42 + 4*b*a^44 + (3*b + 4)*a^46 + 2*b*a^48 + (5*b + 2)*a^50 + (b + 5)*a^52 + (2*b + 6)*a^54 + (3*b + 2)*a^56 + (6*b + 5)*a^58 + (b + 5)*a^60 + (b + 3)*a^62 + (4*b + 5)*a^64 + (b + 4)*a^66 + (3*b + 2)*a^68 + (4*b + 6)*a^70 + 2*b*a^72 + 2*b*a^74 + 2*b*a^76 + a^78 + (b + 3)*a^80 + (b + 3)*a^82 + (2*b + 6)*a^84 + (6*b + 4)*a^88 + (3*b + 4)*a^90 + (4*b + 6)*a^92 + (5*b + 2)*a^94 + (b + 5)*a^96 + (2*b + 6)*a^98 + (5*b + 1)*a^100 + (2*b + 1)*a^102 + (5*b + 2)*a^104 + 2*a^106 + (3*b + 2)*a^108 + a^110 + (2*b + 6)*a^116 + (6*b + 4)*a^118 + (5*b + 3)*a^120 + (b + 5)*a^122 + (2*b + 6)*a^126 + (3*b + 2)*a^128 + a^130 + (5*b + 1)*a^134 + (b + 5)*a^136 + (4*b + 5)*a^138 + (4*b + 6)*a^140 + (3*b + 3)*a^142 + (4*b + 6)*a^144 + a^146 + (2*b + 6)*a^148 + (4*b + 5)*a^152 + (4*b + 6)*a^154 + (6*b + 5)*a^156 + (6*b + 6)*a^158 + (b + 5)*a^160 + (3*b + 2)*a^164 + 2*b*a^166 + a^168 + (4*b + 5)*a^170 + (b + 4)*a^172 + (5*b + 1)*a^174 + (b + 5)*a^176 + (5*b + 1)*a^178 + (5*b + 3)*a^180 + 4*b*a^182 + 2*a^184 + (5*b + 1)*a^186 + 2*a^188 + (2*b + 6)*a^190 + (b + 3)*a^192 + (2*b + 6)*a^194 + (3*b + 2)*a^196 + (4*b + 6)*a^198 + (4*b + 6)*a^200 + a^202 + (b + 3)*a^204 + (4*b + 5)*a^206 + (6*b + 5)*a^208 + 4*b*a^210 + (b + 5)*a^212 + (2*b + 6)*a^214 + (b + 3)*a^216 + (4*b + 5)*a^218 + (b + 4)*a^220 + (3*b + 2)*a^222 + (4*b + 6)*a^224 + (4*b + 6)*a^226 + (3*b + 3)*a^228 + (6*b + 5)*a^230 + 2*a^232 + (2*b + 6)*a^234 + (6*b + 4)*a^238 + (2*b + 1)*a^240 + 2*b*a^242 + a^244 + (5*b + 1)*a^246 + (3*b + 4)*a^248 + (5*b + 2)*a^250 + 4*b*a^252 + 4*b*a^254 + 2*a^256 + (4*b + 5)*a^260 + (b + 4)*a^262 + (3*b + 2)*a^264 + (5*b + 2)*a^266 + (5*b + 3)*a^268 + (2*b + 1)*a^270 + a^272 + (b + 3)*a^274 + (6*b + 4)*a^276 + 4*b*a^278 + 4*b*a^280 + (2*b + 1)*a^282 + (b + 4)*a^284 + (b + 3)*a^286 + (2*b + 6)*a^288 + (2*b + 6)*a^290 + (6*b + 4)*a^292 + (b + 5)*a^294 + (6*b + 4)*a^296 + (2*b + 1)*a^298 + (b + 4)*a^300 + O(a^302)]\n"
     ]
    },
    {
     "name": "stdout",
     "output_type": "stream",
     "text": [
      "verbose 1 (71: cluster_pictures.py, __init__) 300\n",
      "verbose 1 (71: cluster_pictures.py, __init__) defaultdict(<class 'list'>, {})\n",
      "verbose 1 (119: cluster_pictures.py, from_roots) [a^15 + O(a^315), 6*a^15 + 6*a^17 + 6*a^19 + 6*a^21 + 6*a^23 + 6*a^25 + 6*a^27 + 6*a^29 + 6*a^31 + 6*a^33 + 6*a^35 + 6*a^37 + 6*a^39 + 6*a^41 + 6*a^43 + 6*a^45 + 6*a^47 + 6*a^49 + 6*a^51 + 6*a^53 + 6*a^55 + 6*a^57 + 6*a^59 + 6*a^61 + 6*a^63 + 6*a^65 + 6*a^67 + 6*a^69 + 6*a^71 + 6*a^73 + 6*a^75 + 6*a^77 + 6*a^79 + 6*a^81 + 6*a^83 + 6*a^85 + 6*a^87 + 6*a^89 + 6*a^91 + 6*a^93 + 6*a^95 + 6*a^97 + 6*a^99 + 6*a^101 + 6*a^103 + 6*a^105 + 6*a^107 + 6*a^109 + 6*a^111 + 6*a^113 + 6*a^115 + 6*a^117 + 6*a^119 + 6*a^121 + 6*a^123 + 6*a^125 + 6*a^127 + 6*a^129 + 6*a^131 + 6*a^133 + 6*a^135 + 6*a^137 + 6*a^139 + 6*a^141 + 6*a^143 + 6*a^145 + 6*a^147 + 6*a^149 + 6*a^151 + 6*a^153 + 6*a^155 + 6*a^157 + 6*a^159 + 6*a^161 + 6*a^163 + 6*a^165 + 6*a^167 + 6*a^169 + 6*a^171 + 6*a^173 + 6*a^175 + 6*a^177 + 6*a^179 + 6*a^181 + 6*a^183 + 6*a^185 + 6*a^187 + 6*a^189 + 6*a^191 + 6*a^193 + 6*a^195 + 6*a^197 + 6*a^199 + 6*a^201 + 6*a^203 + 6*a^205 + 6*a^207 + 6*a^209 + 6*a^211 + 6*a^213 + 6*a^215 + 6*a^217 + 6*a^219 + 6*a^221 + 6*a^223 + 6*a^225 + 6*a^227 + 6*a^229 + 6*a^231 + 6*a^233 + 6*a^235 + 6*a^237 + 6*a^239 + 6*a^241 + 6*a^243 + 6*a^245 + 6*a^247 + 6*a^249 + 6*a^251 + 6*a^253 + 6*a^255 + 6*a^257 + 6*a^259 + 6*a^261 + 6*a^263 + 6*a^265 + 6*a^267 + 6*a^269 + 6*a^271 + 6*a^273 + 6*a^275 + 6*a^277 + 6*a^279 + 6*a^281 + 6*a^283 + 6*a^285 + 6*a^287 + 6*a^289 + 6*a^291 + 6*a^293 + 6*a^295 + 6*a^297 + 6*a^299 + 6*a^301 + 6*a^303 + 6*a^305 + 6*a^307 + 6*a^309 + 6*a^311 + 6*a^313 + O(a^315), a^12 + O(a^306), a^12 + a^18 + O(a^306), (b + 3)*a^2 + (4*b + 5)*a^4 + (6*b + 5)*a^6 + (6*b + 6)*a^8 + (3*b + 4)*a^10 + (5*b + 2)*a^12 + (6*b + 6)*a^14 + (6*b + 6)*a^16 + (2*b + 1)*a^18 + 2*b*a^20 + (3*b + 3)*a^22 + (3*b + 3)*a^24 + 2*b*a^26 + (4*b + 6)*a^28 + (b + 4)*a^30 + (5*b + 1)*a^32 + (b + 5)*a^34 + (4*b + 5)*a^36 + (3*b + 3)*a^38 + (b + 4)*a^40 + (2*b + 6)*a^44 + (3*b + 2)*a^46 + (4*b + 6)*a^48 + (b + 4)*a^50 + (5*b + 1)*a^52 + 4*b*a^54 + (3*b + 4)*a^56 + a^58 + (5*b + 1)*a^60 + (5*b + 3)*a^62 + (2*b + 1)*a^64 + (5*b + 2)*a^66 + (3*b + 4)*a^68 + 2*b*a^70 + (4*b + 6)*a^72 + (4*b + 6)*a^74 + (4*b + 6)*a^76 + (6*b + 5)*a^78 + (5*b + 3)*a^80 + (5*b + 3)*a^82 + 4*b*a^84 + (6*b + 6)*a^86 + 2*a^88 + (3*b + 2)*a^90 + 2*b*a^92 + (b + 4)*a^94 + (5*b + 1)*a^96 + 4*b*a^98 + (b + 5)*a^100 + (4*b + 5)*a^102 + (b + 4)*a^104 + (6*b + 4)*a^106 + (3*b + 4)*a^108 + (6*b + 5)*a^110 + (6*b + 6)*a^112 + (6*b + 6)*a^114 + 4*b*a^116 + 2*a^118 + (b + 3)*a^120 + (5*b + 1)*a^122 + (6*b + 6)*a^124 + 4*b*a^126 + (3*b + 4)*a^128 + (6*b + 5)*a^130 + (6*b + 6)*a^132 + (b + 5)*a^134 + (5*b + 1)*a^136 + (2*b + 1)*a^138 + 2*b*a^140 + (3*b + 3)*a^142 + 2*b*a^144 + (6*b + 5)*a^146 + 4*b*a^148 + (6*b + 6)*a^150 + (2*b + 1)*a^152 + 2*b*a^154 + a^156 + (5*b + 1)*a^160 + (6*b + 6)*a^162 + (3*b + 4)*a^164 + (4*b + 6)*a^166 + (6*b + 5)*a^168 + (2*b + 1)*a^170 + (5*b + 2)*a^172 + (b + 5)*a^174 + (5*b + 1)*a^176 + (b + 5)*a^178 + (b + 3)*a^180 + (2*b + 6)*a^182 + (6*b + 4)*a^184 + (b + 5)*a^186 + (6*b + 4)*a^188 + 4*b*a^190 + (5*b + 3)*a^192 + 4*b*a^194 + (3*b + 4)*a^196 + 2*b*a^198 + 2*b*a^200 + (6*b + 5)*a^202 + (5*b + 3)*a^204 + (2*b + 1)*a^206 + a^208 + (2*b + 6)*a^210 + (5*b + 1)*a^212 + 4*b*a^214 + (5*b + 3)*a^216 + (2*b + 1)*a^218 + (5*b + 2)*a^220 + (3*b + 4)*a^222 + 2*b*a^224 + 2*b*a^226 + (3*b + 3)*a^228 + a^230 + (6*b + 4)*a^232 + 4*b*a^234 + (6*b + 6)*a^236 + 2*a^238 + (4*b + 5)*a^240 + (4*b + 6)*a^242 + (6*b + 5)*a^244 + (b + 5)*a^246 + (3*b + 2)*a^248 + (b + 4)*a^250 + (2*b + 6)*a^252 + (2*b + 6)*a^254 + (6*b + 4)*a^256 + (6*b + 6)*a^258 + (2*b + 1)*a^260 + (5*b + 2)*a^262 + (3*b + 4)*a^264 + (b + 4)*a^266 + (b + 3)*a^268 + (4*b + 5)*a^270 + (6*b + 5)*a^272 + (5*b + 3)*a^274 + 2*a^276 + (2*b + 6)*a^278 + (2*b + 6)*a^280 + (4*b + 5)*a^282 + (5*b + 2)*a^284 + (5*b + 3)*a^286 + 4*b*a^288 + 4*b*a^290 + 2*a^292 + (5*b + 1)*a^294 + 2*a^296 + (4*b + 5)*a^298 + (5*b + 2)*a^300 + O(a^302), (6*b + 4)*a^2 + (2*b + 1)*a^4 + a^6 + (3*b + 2)*a^10 + (b + 4)*a^12 + (4*b + 5)*a^18 + (4*b + 6)*a^20 + (3*b + 3)*a^22 + (3*b + 3)*a^24 + (4*b + 6)*a^26 + 2*b*a^28 + (5*b + 2)*a^30 + (b + 5)*a^32 + (5*b + 1)*a^34 + (2*b + 1)*a^36 + (3*b + 3)*a^38 + (5*b + 2)*a^40 + (6*b + 6)*a^42 + 4*b*a^44 + (3*b + 4)*a^46 + 2*b*a^48 + (5*b + 2)*a^50 + (b + 5)*a^52 + (2*b + 6)*a^54 + (3*b + 2)*a^56 + (6*b + 5)*a^58 + (b + 5)*a^60 + (b + 3)*a^62 + (4*b + 5)*a^64 + (b + 4)*a^66 + (3*b + 2)*a^68 + (4*b + 6)*a^70 + 2*b*a^72 + 2*b*a^74 + 2*b*a^76 + a^78 + (b + 3)*a^80 + (b + 3)*a^82 + (2*b + 6)*a^84 + (6*b + 4)*a^88 + (3*b + 4)*a^90 + (4*b + 6)*a^92 + (5*b + 2)*a^94 + (b + 5)*a^96 + (2*b + 6)*a^98 + (5*b + 1)*a^100 + (2*b + 1)*a^102 + (5*b + 2)*a^104 + 2*a^106 + (3*b + 2)*a^108 + a^110 + (2*b + 6)*a^116 + (6*b + 4)*a^118 + (5*b + 3)*a^120 + (b + 5)*a^122 + (2*b + 6)*a^126 + (3*b + 2)*a^128 + a^130 + (5*b + 1)*a^134 + (b + 5)*a^136 + (4*b + 5)*a^138 + (4*b + 6)*a^140 + (3*b + 3)*a^142 + (4*b + 6)*a^144 + a^146 + (2*b + 6)*a^148 + (4*b + 5)*a^152 + (4*b + 6)*a^154 + (6*b + 5)*a^156 + (6*b + 6)*a^158 + (b + 5)*a^160 + (3*b + 2)*a^164 + 2*b*a^166 + a^168 + (4*b + 5)*a^170 + (b + 4)*a^172 + (5*b + 1)*a^174 + (b + 5)*a^176 + (5*b + 1)*a^178 + (5*b + 3)*a^180 + 4*b*a^182 + 2*a^184 + (5*b + 1)*a^186 + 2*a^188 + (2*b + 6)*a^190 + (b + 3)*a^192 + (2*b + 6)*a^194 + (3*b + 2)*a^196 + (4*b + 6)*a^198 + (4*b + 6)*a^200 + a^202 + (b + 3)*a^204 + (4*b + 5)*a^206 + (6*b + 5)*a^208 + 4*b*a^210 + (b + 5)*a^212 + (2*b + 6)*a^214 + (b + 3)*a^216 + (4*b + 5)*a^218 + (b + 4)*a^220 + (3*b + 2)*a^222 + (4*b + 6)*a^224 + (4*b + 6)*a^226 + (3*b + 3)*a^228 + (6*b + 5)*a^230 + 2*a^232 + (2*b + 6)*a^234 + (6*b + 4)*a^238 + (2*b + 1)*a^240 + 2*b*a^242 + a^244 + (5*b + 1)*a^246 + (3*b + 4)*a^248 + (5*b + 2)*a^250 + 4*b*a^252 + 4*b*a^254 + 2*a^256 + (4*b + 5)*a^260 + (b + 4)*a^262 + (3*b + 2)*a^264 + (5*b + 2)*a^266 + (5*b + 3)*a^268 + (2*b + 1)*a^270 + a^272 + (b + 3)*a^274 + (6*b + 4)*a^276 + 4*b*a^278 + 4*b*a^280 + (2*b + 1)*a^282 + (b + 4)*a^284 + (b + 3)*a^286 + (2*b + 6)*a^288 + (2*b + 6)*a^290 + (6*b + 4)*a^292 + (b + 5)*a^294 + (6*b + 4)*a^296 + (2*b + 1)*a^298 + (b + 4)*a^300 + O(a^302)]\n",
      "verbose 1 (1147: cluster_pictures.py, BY_tree) Cluster with 6 roots and 3 children\n",
      "verbose 1 (1147: cluster_pictures.py, BY_tree) Cluster with 4 roots and 2 children\n",
      "verbose 1 (1434: cluster_pictures.py, add_yellow_edge) (Cluster with 6 roots and 3 children, Cluster with 4 roots and 2 children, 20)\n",
      "verbose 1 (1147: cluster_pictures.py, BY_tree) Cluster with 2 roots and 2 children\n",
      "verbose 1 (1434: cluster_pictures.py, add_yellow_edge) (Cluster with 4 roots and 2 children, Cluster with 2 roots and 2 children, 6)\n",
      "verbose 1 (1147: cluster_pictures.py, BY_tree) Cluster with 1 roots and 0 children\n",
      "verbose 1 (1147: cluster_pictures.py, BY_tree) Cluster with 1 roots and 0 children\n",
      "verbose 1 (1147: cluster_pictures.py, BY_tree) Cluster with 2 roots and 2 children\n",
      "verbose 1 (1434: cluster_pictures.py, add_yellow_edge) (Cluster with 4 roots and 2 children, Cluster with 2 roots and 2 children, 12)\n",
      "verbose 1 (1147: cluster_pictures.py, BY_tree) Cluster with 1 roots and 0 children\n",
      "verbose 1 (1147: cluster_pictures.py, BY_tree) Cluster with 1 roots and 0 children\n",
      "verbose 1 (1147: cluster_pictures.py, BY_tree) Cluster with 1 roots and 0 children\n",
      "verbose 1 (1147: cluster_pictures.py, BY_tree) Cluster with 1 roots and 0 children\n",
      "verbose 1 (1147: cluster_pictures.py, BY_tree) BY-tree with 1 yellow vertices, 3 blue vertices, 3 yellow edges, 0, blue edges\n",
      "verbose 1 (1511: cluster_pictures.py, is_yellow) (Cluster with 6 roots and 3 children, Cluster with 4 roots and 2 children, 20)\n",
      "verbose 1 (1511: cluster_pictures.py, is_yellow) (Cluster with 2 roots and 2 children, Cluster with 4 roots and 2 children, 6)\n",
      "verbose 1 (1511: cluster_pictures.py, is_yellow) (Cluster with 2 roots and 2 children, Cluster with 4 roots and 2 children, 12)\n",
      "verbose 1 (1511: cluster_pictures.py, is_yellow) (Cluster with 4 roots and 2 children, Cluster with 6 roots and 3 children, 20)\n",
      "verbose 1 (1511: cluster_pictures.py, is_yellow) (Cluster with 4 roots and 2 children, Cluster with 2 roots and 2 children, 6)\n"
     ]
    },
    {
     "name": "stdout",
     "output_type": "stream",
     "text": [
      "verbose 1 (1511: cluster_pictures.py, is_yellow) (Cluster with 4 roots and 2 children, Cluster with 2 roots and 2 children, 12)\n",
      "verbose 1 (1507: cluster_pictures.py, is_blue) (Cluster with 4 roots and 2 children, Cluster with 6 roots and 3 children, 20)\n",
      "verbose 1 (1507: cluster_pictures.py, is_blue) (Cluster with 4 roots and 2 children, Cluster with 2 roots and 2 children, 12)\n",
      "verbose 1 (1507: cluster_pictures.py, is_blue) (Cluster with 6 roots and 3 children, Cluster with 4 roots and 2 children, 20)\n",
      "verbose 1 (1507: cluster_pictures.py, is_blue) (Cluster with 2 roots and 2 children, Cluster with 4 roots and 2 children, 6)\n",
      "verbose 1 (1507: cluster_pictures.py, is_blue) (Cluster with 2 roots and 2 children, Cluster with 4 roots and 2 children, 12)\n",
      "verbose 1 (1507: cluster_pictures.py, is_blue) (Cluster with 4 roots and 2 children, Cluster with 2 roots and 2 children, 6)\n",
      "verbose 1 (1647: cluster_pictures.py, graphplot) {'title': 'BY-tree with 1 yellow vertices, 3 blue vertices, 3 yellow edges, 0, blue edges', 'vertex_colors': {'lightskyblue': [Cluster with 6 roots and 3 children, Cluster with 2 roots and 2 children, Cluster with 2 roots and 2 children], 'khaki': [Cluster with 4 roots and 2 children]}, 'edge_colors': {'lightskyblue': [], 'khaki': [(Cluster with 6 roots and 3 children, Cluster with 4 roots and 2 children, 20), (Cluster with 4 roots and 2 children, Cluster with 2 roots and 2 children, 6), (Cluster with 4 roots and 2 children, Cluster with 2 roots and 2 children, 12)]}, 'edge_thickness': 3, 'vertex_labels': False, 'edge_labels': True}\n"
     ]
    },
    {
     "data": {
      "image/png": "[encoded data removed]",
      "text/plain": [
       "BY-tree with 1 yellow vertices, 3 blue vertices, 3 yellow edges, 0, blue edges"
      ]
     },
     "execution_count": 8,
     "metadata": {},
     "output_type": "execute_result"
    }
   ],
   "source": [
    "set_verbose(1)\n",
    "K = Qp(7,150)\n",
    "x = polygen(K)\n",
    "H = HyperellipticCurve((x^2+7^2)*(x^2-7^(15))*(x-7^6)*(x-7^6-7^9))\n",
    "R = Cluster.from_curve(H)\n",
    "R.BY_tree()"
   ]
  },
  {
   "cell_type": "code",
   "execution_count": null,
   "metadata": {},
   "outputs": [],
   "source": [
    "R.has_good_reduction(K)"
   ]
  },
  {
   "cell_type": "code",
   "execution_count": null,
   "metadata": {},
   "outputs": [],
   "source": [
    "R.has_potentially_good_reduction()"
   ]
  },
  {
   "cell_type": "code",
   "execution_count": null,
   "metadata": {},
   "outputs": [],
   "source": [
    "R.has_potentially_totally_toric_reduction()"
   ]
  },
  {
   "cell_type": "code",
   "execution_count": null,
   "metadata": {},
   "outputs": [],
   "source": [
    "R.jacobian_has_good_reduction(K)"
   ]
  },
  {
   "cell_type": "code",
   "execution_count": null,
   "metadata": {},
   "outputs": [],
   "source": [
    "R.jacobian_has_potentially_good_reduction()"
   ]
  },
  {
   "cell_type": "code",
   "execution_count": 60,
   "metadata": {},
   "outputs": [
    {
     "ename": "AttributeError",
     "evalue": "'tuple' object has no attribute 'frobenius'",
     "output_type": "error",
     "traceback": [
      "\u001b[1;31m---------------------------------------------------------------------------\u001b[0m",
      "\u001b[1;31mAttributeError\u001b[0m                            Traceback (most recent call last)",
      "\u001b[1;32m<ipython-input-60-be9d1498457a>\u001b[0m in \u001b[0;36m<module>\u001b[1;34m()\u001b[0m\n\u001b[1;32m----> 1\u001b[1;33m \u001b[0mT\u001b[0m\u001b[1;33m.\u001b[0m\u001b[0mtamagawa_number\u001b[0m\u001b[1;33m(\u001b[0m\u001b[1;33m)\u001b[0m\u001b[1;33m\u001b[0m\u001b[1;33m\u001b[0m\u001b[0m\n\u001b[0m",
      "\u001b[1;32m/Users/alex/clusters/sage_cluster_pictures/cluster_pictures.py\u001b[0m in \u001b[0;36mtamagawa_number\u001b[1;34m(self)\u001b[0m\n\u001b[0;32m   1680\u001b[0m         \u001b[0morbits\u001b[0m \u001b[1;33m=\u001b[0m \u001b[1;33m[\u001b[0m\u001b[1;33m]\u001b[0m\u001b[1;33m\u001b[0m\u001b[1;33m\u001b[0m\u001b[0m\n\u001b[0;32m   1681\u001b[0m         \u001b[1;32mfor\u001b[0m \u001b[0mC\u001b[0m \u001b[1;32min\u001b[0m \u001b[0mcomponents\u001b[0m\u001b[1;33m:\u001b[0m\u001b[1;33m\u001b[0m\u001b[1;33m\u001b[0m\u001b[0m\n\u001b[1;32m-> 1682\u001b[1;33m             \u001b[0mFe\u001b[0m \u001b[1;33m=\u001b[0m \u001b[1;33m(\u001b[0m\u001b[0mC\u001b[0m\u001b[1;33m[\u001b[0m\u001b[1;36m0\u001b[0m\u001b[1;33m]\u001b[0m\u001b[1;33m.\u001b[0m\u001b[0mfrobenius\u001b[0m\u001b[1;33m(\u001b[0m\u001b[1;33m)\u001b[0m\u001b[1;33m,\u001b[0m\u001b[0mC\u001b[0m\u001b[1;33m[\u001b[0m\u001b[1;36m1\u001b[0m\u001b[1;33m]\u001b[0m\u001b[1;33m.\u001b[0m\u001b[0mfrobenius\u001b[0m\u001b[1;33m(\u001b[0m\u001b[1;33m)\u001b[0m\u001b[1;33m,\u001b[0m\u001b[0mC\u001b[0m\u001b[1;33m[\u001b[0m\u001b[1;36m2\u001b[0m\u001b[1;33m]\u001b[0m\u001b[1;33m)\u001b[0m\u001b[1;33m\u001b[0m\u001b[1;33m\u001b[0m\u001b[0m\n\u001b[0m\u001b[0;32m   1683\u001b[0m             \u001b[1;32mfor\u001b[0m \u001b[0mO\u001b[0m \u001b[1;32min\u001b[0m \u001b[0morbits\u001b[0m\u001b[1;33m:\u001b[0m\u001b[1;33m\u001b[0m\u001b[1;33m\u001b[0m\u001b[0m\n\u001b[0;32m   1684\u001b[0m                 \u001b[1;32mfor\u001b[0m \u001b[0mD\u001b[0m \u001b[1;32min\u001b[0m \u001b[0mO\u001b[0m\u001b[1;33m:\u001b[0m\u001b[1;33m\u001b[0m\u001b[1;33m\u001b[0m\u001b[0m\n",
      "\u001b[1;31mAttributeError\u001b[0m: 'tuple' object has no attribute 'frobenius'"
     ]
    }
   ],
   "source": [
    "T.tamagawa_number()"
   ]
  },
  {
   "cell_type": "code",
   "execution_count": null,
   "metadata": {},
   "outputs": [],
   "source": [
    "C.has_good_reduction(K)"
   ]
  },
  {
   "cell_type": "code",
   "execution_count": null,
   "metadata": {},
   "outputs": [],
   "source": [
    "C.jacobian_has_good_reduction(K)"
   ]
  },
  {
   "cell_type": "code",
   "execution_count": null,
   "metadata": {},
   "outputs": [],
   "source": [
    "C.has_potentially_good_reduction()"
   ]
  },
  {
   "cell_type": "code",
   "execution_count": null,
   "metadata": {},
   "outputs": [],
   "source": [
    "C.has_potentially_totally_toric_reduction()"
   ]
  },
  {
   "cell_type": "code",
   "execution_count": 32,
   "metadata": {},
   "outputs": [
    {
     "name": "stderr",
     "output_type": "stream",
     "text": [
      "[autoreload of sage_cluster_pictures failed: Traceback (most recent call last):\n",
      "  File \"/Users/alex/sage/local/lib/python3.7/site-packages/IPython/extensions/autoreload.py\", line 247, in check\n",
      "    superreload(m, reload, self.old_objects)\n",
      "ImportError: cannot import name 'BYTreeIsomorphism' from 'sage_cluster_pictures.cluster_pictures' (/Users/alex/clusters/sage_cluster_pictures/cluster_pictures.py)\n",
      "]\n"
     ]
    },
    {
     "data": {
      "text/plain": [
       "(1 + O(11^20))*x^9 + (8*11 + 8*11^2 + 7*11^3 + 10*11^4 + 11^5 + 3*11^6 + 9*11^7 + 7*11^9 + 10*11^10 + 11^11 + 7*11^12 + 8*11^13 + 2*11^14 + 3*11^15 + 11^16 + 9*11^17 + 6*11^18 + 8*11^19 + O(11^20))*x^8 + (10 + 3*11 + 10*11^3 + 5*11^4 + 2*11^5 + 6*11^6 + 2*11^7 + 4*11^8 + 6*11^10 + 2*11^11 + 9*11^13 + 6*11^14 + 9*11^16 + 2*11^17 + 6*11^18 + 3*11^19 + O(11^20))*x^7 + (4 + 7*11 + 8*11^2 + 8*11^3 + 10*11^4 + 6*11^5 + 3*11^6 + 8*11^8 + 7*11^9 + 4*11^10 + 8*11^11 + 4*11^12 + 7*11^13 + 2*11^15 + 2*11^16 + 9*11^17 + 7*11^18 + 9*11^19 + O(11^20))*x^6 + (8 + 7*11 + 9*11^2 + 8*11^3 + 7*11^4 + 3*11^5 + 3*11^6 + 7*11^7 + 2*11^9 + 9*11^10 + 10*11^11 + 8*11^12 + 7*11^14 + 9*11^15 + 4*11^16 + 2*11^17 + 9*11^19 + O(11^20))*x^5 + (9 + 8*11^2 + 6*11^3 + 11^5 + 9*11^6 + 10*11^7 + 4*11^8 + 6*11^9 + 6*11^10 + 3*11^11 + 4*11^12 + 2*11^13 + 2*11^14 + 10*11^15 + 8*11^16 + 9*11^17 + 8*11^18 + 7*11^19 + O(11^20))*x^4 + (4 + 10*11 + 11^2 + 8*11^3 + 6*11^4 + 11^5 + 2*11^6 + 6*11^7 + 9*11^8 + 2*11^9 + 3*11^10 + 10*11^11 + 8*11^12 + 8*11^13 + 10*11^14 + 9*11^15 + 9*11^18 + 9*11^19 + O(11^20))*x^3 + (6 + 5*11 + 7*11^2 + 11^3 + 2*11^4 + 9*11^5 + 4*11^6 + 6*11^7 + 7*11^8 + 6*11^9 + 7*11^10 + 10*11^12 + 4*11^13 + 9*11^14 + 7*11^15 + 4*11^16 + 9*11^18 + 7*11^19 + O(11^20))*x^2 + (2 + 10*11^2 + 2*11^3 + 10*11^4 + 5*11^5 + 11^7 + 8*11^8 + 10*11^9 + 6*11^10 + 5*11^11 + 10*11^12 + 11^13 + 4*11^14 + 11^16 + 10*11^17 + 6*11^18 + 9*11^19 + O(11^20))*x"
      ]
     },
     "execution_count": 32,
     "metadata": {},
     "output_type": "execute_result"
    }
   ],
   "source": [
    "set_verbose(0)\n",
    "K.<a> = Qq(11^3,20)\n",
    "z= K.teichmuller(4*a^2 + 3)\n",
    "#L.<z>= CyclotomicField(7)\n",
    "x= polygen(K)\n",
    "f= x*(x-1)*(x-2)*(x-z+11)*(x-z-11)*(x-z^2+11)*(x-z^2-11)*(x-z^4+11)*(x-z^4-11)\n",
    "x= polygen(Qp(11))\n",
    "f= sage_eval(str(f), locals={'x':x})\n",
    "f"
   ]
  },
  {
   "cell_type": "code",
   "execution_count": null,
   "metadata": {},
   "outputs": [],
   "source": []
  },
  {
   "cell_type": "code",
   "execution_count": 28,
   "metadata": {},
   "outputs": [
    {
     "data": {
      "text/plain": [
       "True"
      ]
     },
     "execution_count": 28,
     "metadata": {},
     "output_type": "execute_result"
    }
   ],
   "source": [
    "f[8] in L.subfields()[1][0]"
   ]
  },
  {
   "cell_type": "code",
   "execution_count": 36,
   "metadata": {},
   "outputs": [],
   "source": [
    "ff = f.change_ring(L.subfields()[1][0])"
   ]
  },
  {
   "cell_type": "code",
   "execution_count": 37,
   "metadata": {},
   "outputs": [
    {
     "data": {
      "text/plain": [
       "(x - 2) * (x - 1) * x * (x^3 + (-z1 - 33)*x^2 + (21*z1 + 362)*x - 110*z1 - 1321) * (x^3 + (-z1 + 33)*x^2 + (-23*z1 + 362)*x - 132*z1 + 1319)"
      ]
     },
     "execution_count": 37,
     "metadata": {},
     "output_type": "execute_result"
    }
   ],
   "source": [
    "ff.factor()"
   ]
  },
  {
   "cell_type": "code",
   "execution_count": 40,
   "metadata": {},
   "outputs": [],
   "source": [
    "ff.base_ring().lmfdb_page()"
   ]
  },
  {
   "cell_type": "code",
   "execution_count": 38,
   "metadata": {},
   "outputs": [
    {
     "data": {
      "text/plain": [
       "True"
      ]
     },
     "execution_count": 38,
     "metadata": {},
     "output_type": "execute_result"
    }
   ],
   "source": [
    "ff[1] in ff.base_ring().subfields()[1][0]"
   ]
  },
  {
   "cell_type": "code",
   "execution_count": 45,
   "metadata": {},
   "outputs": [
    {
     "data": {
      "text/plain": [
       "x^2 + x + 2"
      ]
     },
     "execution_count": 45,
     "metadata": {},
     "output_type": "execute_result"
    }
   ],
   "source": [
    "ff.base_ring().polynomial()"
   ]
  },
  {
   "cell_type": "code",
   "execution_count": 33,
   "metadata": {},
   "outputs": [
    {
     "data": {
      "text/plain": [
       "(● (● ●)_1 (● ●)_1 (● ●)_1 ● ●)_0"
      ]
     },
     "execution_count": 33,
     "metadata": {},
     "output_type": "execute_result"
    }
   ],
   "source": [
    "%display unicode_art\n",
    "R = Cluster.from_polynomial(f)\n",
    "R"
   ]
  },
  {
   "cell_type": "code",
   "execution_count": 34,
   "metadata": {},
   "outputs": [
    {
     "data": {
      "image/png": "[encoded data removed]",
      "text/plain": [
       "Graphics object consisting of 11 graphics primitives"
      ]
     },
     "execution_count": 34,
     "metadata": {},
     "output_type": "execute_result"
    }
   ],
   "source": [
    "T = R.BY_tree()\n",
    "T.plot(vertex_labels=True)"
   ]
  },
  {
   "cell_type": "code",
   "execution_count": null,
   "metadata": {},
   "outputs": [],
   "source": [
    "T.tamagawa_number()"
   ]
  },
  {
   "cell_type": "code",
   "execution_count": null,
   "metadata": {},
   "outputs": [],
   "source": [
    "R.children()[1].frobenius() == R.children()[1]"
   ]
  },
  {
   "cell_type": "code",
   "execution_count": null,
   "metadata": {},
   "outputs": [],
   "source": [
    "R.children()[1].frobenius().frobenius() == R.children()[1]"
   ]
  },
  {
   "cell_type": "code",
   "execution_count": null,
   "metadata": {},
   "outputs": [],
   "source": [
    "R.children()[1].frobenius().frobenius().frobenius() == R.children()[1]"
   ]
  },
  {
   "cell_type": "code",
   "execution_count": null,
   "metadata": {},
   "outputs": [],
   "source": [
    "R.children()[1].inertia() == R.children()[1]"
   ]
  },
  {
   "cell_type": "code",
   "execution_count": null,
   "metadata": {},
   "outputs": [],
   "source": [
    "e = T.edges()[2]"
   ]
  },
  {
   "cell_type": "code",
   "execution_count": null,
   "metadata": {},
   "outputs": [],
   "source": [
    "T.subgraph(edges=[e])"
   ]
  },
  {
   "cell_type": "code",
   "execution_count": null,
   "metadata": {},
   "outputs": [],
   "source": [
    "p = 3\n",
    "K = Qp(p)\n",
    "x = polygen(K)\n",
    "R = Cluster.from_polynomial((x^4-p^8)*(x^2+2*x+1-p^2)*(x^2-2*x+1-p))\n",
    "R"
   ]
  },
  {
   "cell_type": "code",
   "execution_count": null,
   "metadata": {},
   "outputs": [],
   "source": [
    "R.BY_tree()"
   ]
  },
  {
   "cell_type": "code",
   "execution_count": null,
   "metadata": {},
   "outputs": [],
   "source": [
    "T.sub\n",
    "L = [K.random_element() for i in range(20)]\n",
    "Cluster.from_roots(L).BY_tree()"
   ]
  },
  {
   "cell_type": "code",
   "execution_count": null,
   "metadata": {},
   "outputs": [],
   "source": [
    "set_verbose(1)"
   ]
  },
  {
   "cell_type": "code",
   "execution_count": null,
   "metadata": {},
   "outputs": [],
   "source": [
    "L"
   ]
  },
  {
   "cell_type": "code",
   "execution_count": null,
   "metadata": {},
   "outputs": [],
   "source": [
    "Cluster.from_roots(L)"
   ]
  }
 ],
 "metadata": {
  "kernelspec": {
   "display_name": "SageMath 9.2.beta0",
   "language": "sage",
   "name": "sagemath"
  },
  "language_info": {
   "codemirror_mode": {
    "name": "ipython",
    "version": 3
   },
   "file_extension": ".py",
   "mimetype": "text/x-python",
   "name": "python",
   "nbconvert_exporter": "python",
   "pygments_lexer": "ipython3",
   "version": "3.7.3"
  },
  "varInspector": {
   "cols": {
    "lenName": 16,
    "lenType": 16,
    "lenVar": 40
   },
   "kernels_config": {
    "python": {
     "delete_cmd_postfix": "",
     "delete_cmd_prefix": "del ",
     "library": "var_list.py",
     "varRefreshCmd": "print(var_dic_list())"
    },
    "r": {
     "delete_cmd_postfix": ") ",
     "delete_cmd_prefix": "rm(",
     "library": "var_list.r",
     "varRefreshCmd": "cat(var_dic_list()) "
    }
   },
   "types_to_exclude": [
    "module",
    "function",
    "builtin_function_or_method",
    "instance",
    "_Feature"
   ],
   "window_display": false
  }
 },
 "nbformat": 4,
 "nbformat_minor": 2
}
