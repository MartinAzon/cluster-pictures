{
 "cells": [
  {
   "cell_type": "markdown",
   "metadata": {},
   "source": [
    "## Demo of Cluster pictures in SageMath\n",
    "\n",
    "Reload the module whenever it changes for easy development:"
   ]
  },
  {
   "cell_type": "code",
   "execution_count": 1,
   "metadata": {},
   "outputs": [],
   "source": [
    "%reload_ext autoreload\n",
    "%autoreload 2\n",
    "from sage_cluster_pictures import *\n",
    "set_verbose(0)\n",
    "latex.extra_preamble('')\n",
    "latex.add_to_preamble(r\"\\usepackage{tkz-graph,semtkzX}\")\n",
    "latex.add_to_mathjax_avoid_list(\"clusterpicture\")\n",
    "sage.misc.latex.EMBEDDED_MODE = True"
   ]
  },
  {
   "cell_type": "markdown",
   "metadata": {},
   "source": [
    "Example 1.2 of DMDM"
   ]
  },
  {
   "cell_type": "code",
   "execution_count": 2,
   "metadata": {},
   "outputs": [
    {
     "ename": "AttributeError",
     "evalue": "This cluster does not have root information stored.",
     "output_type": "error",
     "traceback": [
      "\u001b[1;31m---------------------------------------------------------------------------\u001b[0m",
      "\u001b[1;31mAttributeError\u001b[0m                            Traceback (most recent call last)",
      "\u001b[1;32m<ipython-input-2-2f643772927b>\u001b[0m in \u001b[0;36m<module>\u001b[1;34m()\u001b[0m\n\u001b[0;32m      2\u001b[0m \u001b[0mx\u001b[0m \u001b[1;33m=\u001b[0m \u001b[0mpolygen\u001b[0m\u001b[1;33m(\u001b[0m\u001b[0mQp\u001b[0m\u001b[1;33m(\u001b[0m\u001b[0mp\u001b[0m\u001b[1;33m)\u001b[0m\u001b[1;33m)\u001b[0m\u001b[1;33m\u001b[0m\u001b[1;33m\u001b[0m\u001b[0m\n\u001b[0;32m      3\u001b[0m \u001b[0mH\u001b[0m \u001b[1;33m=\u001b[0m \u001b[0mHyperellipticCurve\u001b[0m\u001b[1;33m(\u001b[0m\u001b[1;33m(\u001b[0m\u001b[0mx\u001b[0m\u001b[1;33m-\u001b[0m\u001b[0mInteger\u001b[0m\u001b[1;33m(\u001b[0m\u001b[1;36m1\u001b[0m\u001b[1;33m)\u001b[0m\u001b[1;33m)\u001b[0m\u001b[1;33m*\u001b[0m\u001b[1;33m(\u001b[0m\u001b[0mx\u001b[0m\u001b[1;33m-\u001b[0m\u001b[1;33m(\u001b[0m\u001b[0mInteger\u001b[0m\u001b[1;33m(\u001b[0m\u001b[1;36m1\u001b[0m\u001b[1;33m)\u001b[0m\u001b[1;33m+\u001b[0m\u001b[0mp\u001b[0m\u001b[1;33m**\u001b[0m\u001b[0mInteger\u001b[0m\u001b[1;33m(\u001b[0m\u001b[1;36m2\u001b[0m\u001b[1;33m)\u001b[0m\u001b[1;33m)\u001b[0m\u001b[1;33m)\u001b[0m\u001b[1;33m*\u001b[0m\u001b[1;33m(\u001b[0m\u001b[0mx\u001b[0m\u001b[1;33m-\u001b[0m\u001b[1;33m(\u001b[0m\u001b[0mInteger\u001b[0m\u001b[1;33m(\u001b[0m\u001b[1;36m1\u001b[0m\u001b[1;33m)\u001b[0m\u001b[1;33m-\u001b[0m\u001b[0mp\u001b[0m\u001b[1;33m**\u001b[0m\u001b[0mInteger\u001b[0m\u001b[1;33m(\u001b[0m\u001b[1;36m2\u001b[0m\u001b[1;33m)\u001b[0m\u001b[1;33m)\u001b[0m\u001b[1;33m)\u001b[0m\u001b[1;33m*\u001b[0m\u001b[1;33m(\u001b[0m\u001b[0mx\u001b[0m\u001b[1;33m-\u001b[0m\u001b[0mp\u001b[0m\u001b[1;33m)\u001b[0m\u001b[1;33m*\u001b[0m\u001b[0mx\u001b[0m\u001b[1;33m*\u001b[0m\u001b[1;33m(\u001b[0m\u001b[0mx\u001b[0m\u001b[1;33m-\u001b[0m\u001b[0mp\u001b[0m\u001b[1;33m**\u001b[0m\u001b[0mInteger\u001b[0m\u001b[1;33m(\u001b[0m\u001b[1;36m3\u001b[0m\u001b[1;33m)\u001b[0m\u001b[1;33m)\u001b[0m\u001b[1;33m*\u001b[0m\u001b[1;33m(\u001b[0m\u001b[0mx\u001b[0m\u001b[1;33m+\u001b[0m\u001b[0mp\u001b[0m\u001b[1;33m**\u001b[0m\u001b[0mInteger\u001b[0m\u001b[1;33m(\u001b[0m\u001b[1;36m3\u001b[0m\u001b[1;33m)\u001b[0m\u001b[1;33m)\u001b[0m\u001b[1;33m)\u001b[0m\u001b[1;33m\u001b[0m\u001b[1;33m\u001b[0m\u001b[0m\n\u001b[1;32m----> 4\u001b[1;33m \u001b[0mC\u001b[0m \u001b[1;33m=\u001b[0m \u001b[0mCluster\u001b[0m\u001b[1;33m.\u001b[0m\u001b[0mfrom_curve\u001b[0m\u001b[1;33m(\u001b[0m\u001b[0mH\u001b[0m\u001b[1;33m)\u001b[0m\u001b[1;33m\u001b[0m\u001b[1;33m\u001b[0m\u001b[0m\n\u001b[0m\u001b[0;32m      5\u001b[0m \u001b[0mC\u001b[0m\u001b[1;33m\u001b[0m\u001b[1;33m\u001b[0m\u001b[0m\n",
      "\u001b[1;32m/Users/alex/clusters/sage_cluster_pictures/cluster_pictures.py\u001b[0m in \u001b[0;36mfrom_curve\u001b[1;34m(cls, H)\u001b[0m\n\u001b[0;32m    178\u001b[0m         \u001b[1;32mif\u001b[0m \u001b[0mH\u001b[0m\u001b[1;33m.\u001b[0m\u001b[0mhyperelliptic_polynomials\u001b[0m\u001b[1;33m(\u001b[0m\u001b[1;33m)\u001b[0m\u001b[1;33m[\u001b[0m\u001b[1;36m1\u001b[0m\u001b[1;33m]\u001b[0m \u001b[1;33m!=\u001b[0m \u001b[1;36m0\u001b[0m\u001b[1;33m:\u001b[0m\u001b[1;33m\u001b[0m\u001b[1;33m\u001b[0m\u001b[0m\n\u001b[0;32m    179\u001b[0m             \u001b[1;32mraise\u001b[0m \u001b[0mValueError\u001b[0m\u001b[1;33m(\u001b[0m\u001b[1;34m\"Curve must be of the form y^2 = f(x)\"\u001b[0m\u001b[1;33m)\u001b[0m\u001b[1;33m\u001b[0m\u001b[1;33m\u001b[0m\u001b[0m\n\u001b[1;32m--> 180\u001b[1;33m         \u001b[1;32mreturn\u001b[0m \u001b[0mcls\u001b[0m\u001b[1;33m.\u001b[0m\u001b[0mfrom_polynomial\u001b[0m\u001b[1;33m(\u001b[0m\u001b[0mH\u001b[0m\u001b[1;33m.\u001b[0m\u001b[0mhyperelliptic_polynomials\u001b[0m\u001b[1;33m(\u001b[0m\u001b[1;33m)\u001b[0m\u001b[1;33m[\u001b[0m\u001b[1;36m0\u001b[0m\u001b[1;33m]\u001b[0m\u001b[1;33m)\u001b[0m\u001b[1;33m\u001b[0m\u001b[1;33m\u001b[0m\u001b[0m\n\u001b[0m\u001b[0;32m    181\u001b[0m \u001b[1;33m\u001b[0m\u001b[0m\n\u001b[0;32m    182\u001b[0m     \u001b[1;33m@\u001b[0m\u001b[0mclassmethod\u001b[0m\u001b[1;33m\u001b[0m\u001b[1;33m\u001b[0m\u001b[0m\n",
      "\u001b[1;32m/Users/alex/clusters/sage_cluster_pictures/cluster_pictures.py\u001b[0m in \u001b[0;36mfrom_polynomial\u001b[1;34m(cls, f)\u001b[0m\n\u001b[0;32m    159\u001b[0m         \"\"\"\n\u001b[0;32m    160\u001b[0m         \u001b[0mroots\u001b[0m\u001b[1;33m,\u001b[0m \u001b[0mphi\u001b[0m\u001b[1;33m,\u001b[0m \u001b[0mrho\u001b[0m \u001b[1;33m=\u001b[0m \u001b[0mallroots\u001b[0m\u001b[1;33m(\u001b[0m\u001b[0mf\u001b[0m\u001b[1;33m)\u001b[0m\u001b[1;33m\u001b[0m\u001b[1;33m\u001b[0m\u001b[0m\n\u001b[1;32m--> 161\u001b[1;33m         \u001b[1;32mreturn\u001b[0m \u001b[0mcls\u001b[0m\u001b[1;33m.\u001b[0m\u001b[0mfrom_roots\u001b[0m\u001b[1;33m(\u001b[0m\u001b[0mroots\u001b[0m\u001b[1;33m,\u001b[0m \u001b[0mleading_coefficient\u001b[0m\u001b[1;33m=\u001b[0m\u001b[0mf\u001b[0m\u001b[1;33m.\u001b[0m\u001b[0mleading_coefficient\u001b[0m\u001b[1;33m(\u001b[0m\u001b[1;33m)\u001b[0m\u001b[1;33m,\u001b[0m \u001b[0mphi\u001b[0m\u001b[1;33m=\u001b[0m\u001b[0mphi\u001b[0m\u001b[1;33m,\u001b[0m \u001b[0mrho\u001b[0m\u001b[1;33m=\u001b[0m\u001b[0mrho\u001b[0m\u001b[1;33m)\u001b[0m\u001b[1;33m\u001b[0m\u001b[1;33m\u001b[0m\u001b[0m\n\u001b[0m\u001b[0;32m    162\u001b[0m \u001b[1;33m\u001b[0m\u001b[0m\n\u001b[0;32m    163\u001b[0m     \u001b[1;33m@\u001b[0m\u001b[0mclassmethod\u001b[0m\u001b[1;33m\u001b[0m\u001b[1;33m\u001b[0m\u001b[0m\n",
      "\u001b[1;32m/Users/alex/clusters/sage_cluster_pictures/cluster_pictures.py\u001b[0m in \u001b[0;36mfrom_roots\u001b[1;34m(cls, roots, leading_coefficient, phi, rho)\u001b[0m\n\u001b[0;32m    138\u001b[0m         \u001b[1;32mif\u001b[0m \u001b[1;33m(\u001b[0m\u001b[0mphi\u001b[0m \u001b[1;33m!=\u001b[0m \u001b[1;32mNone\u001b[0m\u001b[1;33m)\u001b[0m\u001b[1;33m:\u001b[0m\u001b[1;33m\u001b[0m\u001b[1;33m\u001b[0m\u001b[0m\n\u001b[0;32m    139\u001b[0m             \u001b[1;31m# Put inertia action\u001b[0m\u001b[1;33m\u001b[0m\u001b[1;33m\u001b[0m\u001b[1;33m\u001b[0m\u001b[0m\n\u001b[1;32m--> 140\u001b[1;33m             \u001b[0mcluster\u001b[0m\u001b[1;33m.\u001b[0m\u001b[0mput_inertia_action\u001b[0m\u001b[1;33m(\u001b[0m\u001b[0mphi\u001b[0m\u001b[1;33m)\u001b[0m\u001b[1;33m\u001b[0m\u001b[1;33m\u001b[0m\u001b[0m\n\u001b[0m\u001b[0;32m    141\u001b[0m         \u001b[1;32mif\u001b[0m \u001b[1;33m(\u001b[0m\u001b[0mrho\u001b[0m \u001b[1;33m!=\u001b[0m \u001b[1;32mNone\u001b[0m\u001b[1;33m)\u001b[0m\u001b[1;33m:\u001b[0m\u001b[1;33m\u001b[0m\u001b[1;33m\u001b[0m\u001b[0m\n\u001b[0;32m    142\u001b[0m             \u001b[1;31m# Put Frobenius action\u001b[0m\u001b[1;33m\u001b[0m\u001b[1;33m\u001b[0m\u001b[1;33m\u001b[0m\u001b[0m\n",
      "\u001b[1;32m/Users/alex/clusters/sage_cluster_pictures/cluster_pictures.py\u001b[0m in \u001b[0;36mput_inertia_action\u001b[1;34m(self, phi)\u001b[0m\n\u001b[0;32m    857\u001b[0m         \u001b[0mrootclusters\u001b[0m \u001b[1;33m=\u001b[0m \u001b[1;33m[\u001b[0m\u001b[0ms\u001b[0m \u001b[1;32mfor\u001b[0m \u001b[0ms\u001b[0m \u001b[1;32min\u001b[0m \u001b[0mself\u001b[0m\u001b[1;33m.\u001b[0m\u001b[0mall_descendents\u001b[0m\u001b[1;33m(\u001b[0m\u001b[1;33m)\u001b[0m \u001b[1;32mif\u001b[0m \u001b[0ms\u001b[0m\u001b[1;33m.\u001b[0m\u001b[0msize\u001b[0m\u001b[1;33m(\u001b[0m\u001b[1;33m)\u001b[0m \u001b[1;33m==\u001b[0m \u001b[1;36m1\u001b[0m\u001b[1;33m]\u001b[0m\u001b[1;33m\u001b[0m\u001b[1;33m\u001b[0m\u001b[0m\n\u001b[0;32m    858\u001b[0m         \u001b[1;32mfor\u001b[0m \u001b[0ms1\u001b[0m \u001b[1;32min\u001b[0m \u001b[0mrootclusters\u001b[0m\u001b[1;33m:\u001b[0m\u001b[1;33m\u001b[0m\u001b[1;33m\u001b[0m\u001b[0m\n\u001b[1;32m--> 859\u001b[1;33m             \u001b[0mroot1\u001b[0m \u001b[1;33m=\u001b[0m \u001b[0ms1\u001b[0m\u001b[1;33m.\u001b[0m\u001b[0mroots\u001b[0m\u001b[1;33m(\u001b[0m\u001b[1;33m)\u001b[0m\u001b[1;33m\u001b[0m\u001b[1;33m\u001b[0m\u001b[0m\n\u001b[0m\u001b[0;32m    860\u001b[0m             \u001b[0mroot2\u001b[0m \u001b[1;33m=\u001b[0m \u001b[0mphi\u001b[0m\u001b[1;33m(\u001b[0m\u001b[0mroot1\u001b[0m\u001b[1;33m)\u001b[0m\u001b[1;33m\u001b[0m\u001b[1;33m\u001b[0m\u001b[0m\n\u001b[0;32m    861\u001b[0m             \u001b[0ms2\u001b[0m \u001b[1;33m=\u001b[0m \u001b[1;33m[\u001b[0m\u001b[0ms\u001b[0m \u001b[1;32mfor\u001b[0m \u001b[0ms\u001b[0m \u001b[1;32min\u001b[0m \u001b[0mrootclusters\u001b[0m \u001b[1;32mif\u001b[0m \u001b[0ms\u001b[0m\u001b[1;33m.\u001b[0m\u001b[0mroots\u001b[0m\u001b[1;33m(\u001b[0m\u001b[1;33m)\u001b[0m \u001b[1;33m==\u001b[0m \u001b[0mroot2\u001b[0m\u001b[1;33m]\u001b[0m\u001b[1;33m[\u001b[0m\u001b[1;36m0\u001b[0m\u001b[1;33m]\u001b[0m\u001b[1;33m\u001b[0m\u001b[1;33m\u001b[0m\u001b[0m\n",
      "\u001b[1;32m/Users/alex/clusters/sage_cluster_pictures/cluster_pictures.py\u001b[0m in \u001b[0;36mroots\u001b[1;34m(self)\u001b[0m\n\u001b[0;32m    292\u001b[0m         \u001b[1;32mif\u001b[0m \u001b[0mself\u001b[0m\u001b[1;33m.\u001b[0m\u001b[0m_roots\u001b[0m\u001b[1;33m:\u001b[0m\u001b[1;33m\u001b[0m\u001b[1;33m\u001b[0m\u001b[0m\n\u001b[0;32m    293\u001b[0m             \u001b[1;32mreturn\u001b[0m \u001b[0mself\u001b[0m\u001b[1;33m.\u001b[0m\u001b[0m_roots\u001b[0m\u001b[1;33m\u001b[0m\u001b[1;33m\u001b[0m\u001b[0m\n\u001b[1;32m--> 294\u001b[1;33m         \u001b[1;32mraise\u001b[0m \u001b[0mAttributeError\u001b[0m\u001b[1;33m(\u001b[0m\u001b[1;34m\"This cluster does not have root information stored.\"\u001b[0m\u001b[1;33m)\u001b[0m\u001b[1;33m\u001b[0m\u001b[1;33m\u001b[0m\u001b[0m\n\u001b[0m\u001b[0;32m    295\u001b[0m \u001b[1;33m\u001b[0m\u001b[0m\n\u001b[0;32m    296\u001b[0m     \u001b[1;32mdef\u001b[0m \u001b[0mdepth\u001b[0m\u001b[1;33m(\u001b[0m\u001b[0mself\u001b[0m\u001b[1;33m)\u001b[0m\u001b[1;33m:\u001b[0m\u001b[1;33m\u001b[0m\u001b[1;33m\u001b[0m\u001b[0m\n",
      "\u001b[1;31mAttributeError\u001b[0m: This cluster does not have root information stored."
     ]
    }
   ],
   "source": [
    "p = 7\n",
    "x = polygen(Qp(p))\n",
    "H = HyperellipticCurve((x-1)*(x-(1+p^2))*(x-(1-p^2))*(x-p)*x*(x-p^3)*(x+p^3))\n",
    "C = Cluster.from_curve(H)\n",
    "C"
   ]
  },
  {
   "cell_type": "markdown",
   "metadata": {},
   "source": [
    "We can display the cluster as ASCII art and unicode art"
   ]
  },
  {
   "cell_type": "code",
   "execution_count": 69,
   "metadata": {},
   "outputs": [
    {
     "data": {
      "text/plain": [
       "((* * *) *) (* * *)"
      ]
     },
     "execution_count": 69,
     "metadata": {},
     "output_type": "execute_result"
    }
   ],
   "source": [
    "%display ascii_art\n",
    "C"
   ]
  },
  {
   "cell_type": "code",
   "execution_count": 70,
   "metadata": {},
   "outputs": [],
   "source": [
    "%display unicode_art"
   ]
  },
  {
   "cell_type": "code",
   "execution_count": 71,
   "metadata": {},
   "outputs": [
    {
     "data": {
      "text/plain": [
       "((● ● ●) ●) (● ● ●)"
      ]
     },
     "execution_count": 71,
     "metadata": {},
     "output_type": "execute_result"
    }
   ],
   "source": [
    "C"
   ]
  },
  {
   "cell_type": "markdown",
   "metadata": {},
   "source": [
    "Finally we should be able to display the nice Tikz graphs, this required a teeny bit of hacking sage.\n",
    "https://trac.sagemath.org/ticket/19515"
   ]
  },
  {
   "cell_type": "code",
   "execution_count": 72,
   "metadata": {},
   "outputs": [
    {
     "data": {
      "image/png": "[encoded data removed]",
      "text/plain": [
       "<IPython.core.display.Image object>"
      ]
     },
     "execution_count": 72,
     "metadata": {},
     "output_type": "execute_result"
    }
   ],
   "source": [
    "view(C)"
   ]
  },
  {
   "cell_type": "code",
   "execution_count": 73,
   "metadata": {},
   "outputs": [
    {
     "data": {
      "text/plain": [
       " \\def\\cdepthscale{0.5}   \\clusterpicture\\Root[A] {1} {first} {mc1c1c1};\n",
       "\\Root[A] {1} {mc1c1c1} {mc1c1c2};\n",
       "\\Root[A] {1} {mc1c1c2} {mc1c1c3};\n",
       "\\ClusterLD mc1c1[][2] = (mc1c1c1)(mc1c1c2)(mc1c1c3);\n",
       "\\Root[A] {1} {mc1c1} {mc1c2};\n",
       "\\ClusterLD mc1[][1] = (mc1c1)(mc1c2);\n",
       "\\Root[A] {1} {mc1} {mc2c1};\n",
       "\\Root[A] {1} {mc2c1} {mc2c2};\n",
       "\\Root[A] {1} {mc2c2} {mc2c3};\n",
       "\\ClusterLD mc2[][2] = (mc2c1)(mc2c2)(mc2c3);\n",
       "\\ClusterLD m[][0] = (mc1)(mc2);\n",
       "\\endclusterpicture"
      ]
     },
     "execution_count": 73,
     "metadata": {},
     "output_type": "execute_result"
    }
   ],
   "source": [
    "latex(C)"
   ]
  },
  {
   "cell_type": "markdown",
   "metadata": {},
   "source": [
    "Let's test some basic functionality."
   ]
  },
  {
   "cell_type": "code",
   "execution_count": 74,
   "metadata": {},
   "outputs": [
    {
     "data": {
      "text/plain": [
       "False"
      ]
     },
     "execution_count": 74,
     "metadata": {},
     "output_type": "execute_result"
    }
   ],
   "source": [
    "C.is_even()"
   ]
  },
  {
   "cell_type": "code",
   "execution_count": 75,
   "metadata": {},
   "outputs": [
    {
     "data": {
      "text/plain": [
       "True"
      ]
     },
     "execution_count": 75,
     "metadata": {},
     "output_type": "execute_result"
    }
   ],
   "source": [
    "C.is_odd()"
   ]
  },
  {
   "cell_type": "code",
   "execution_count": 77,
   "metadata": {},
   "outputs": [
    {
     "data": {
      "text/plain": [
       "True"
      ]
     },
     "execution_count": 77,
     "metadata": {},
     "output_type": "execute_result"
    }
   ],
   "source": [
    "K = Qp(5)\n",
    "C = Cluster.from_roots([K(1), K(6), K(5), K(10)])\n",
    "C.is_ubereven()"
   ]
  },
  {
   "cell_type": "code",
   "execution_count": 78,
   "metadata": {},
   "outputs": [
    {
     "data": {
      "text/plain": [
       "(● ●) (● ●)"
      ]
     },
     "execution_count": 78,
     "metadata": {},
     "output_type": "execute_result"
    }
   ],
   "source": [
    "C"
   ]
  },
  {
   "cell_type": "code",
   "execution_count": 79,
   "metadata": {},
   "outputs": [
    {
     "data": {
      "text/plain": [
       "[Cluster with 2 roots and 2 children,\n",
       " Cluster with 1 roots and 0 children,\n",
       " Cluster with 1 roots and 0 children,\n",
       " Cluster with 2 roots and 2 children,\n",
       " Cluster with 1 roots and 0 children,\n",
       " Cluster with 1 roots and 0 children]"
      ]
     },
     "execution_count": 79,
     "metadata": {},
     "output_type": "execute_result"
    }
   ],
   "source": [
    "%display plain\n",
    "list(C.all_descendents())"
   ]
  },
  {
   "cell_type": "code",
   "execution_count": 80,
   "metadata": {},
   "outputs": [
    {
     "data": {
      "text/plain": [
       "False"
      ]
     },
     "execution_count": 80,
     "metadata": {},
     "output_type": "execute_result"
    }
   ],
   "source": [
    "C.children()[0].children()[0].is_proper()"
   ]
  },
  {
   "cell_type": "code",
   "execution_count": 81,
   "metadata": {},
   "outputs": [
    {
     "data": {
      "text/plain": [
       "Cluster with 4 roots and 2 children"
      ]
     },
     "execution_count": 81,
     "metadata": {},
     "output_type": "execute_result"
    }
   ],
   "source": [
    "C.children()[0].parent_cluster()"
   ]
  },
  {
   "cell_type": "markdown",
   "metadata": {},
   "source": [
    "Finally we can make this last example again from just root valuation data, a matrix of valuations of differences. This way we don't pick a prime $p$."
   ]
  },
  {
   "cell_type": "code",
   "execution_count": 14,
   "metadata": {},
   "outputs": [
    {
     "data": {
      "text/plain": [
       "True"
      ]
     },
     "execution_count": 14,
     "metadata": {},
     "output_type": "execute_result"
    }
   ],
   "source": [
    "C = Cluster(Matrix(ZZ, 4, 4,[\n",
    "                   [20, 1, 0, 0 ],\n",
    "                   [1, 20, 0, 0 ],\n",
    "                   [0, 0, 20, 1 ],\n",
    "                   [0, 0, 1, 20 ],\n",
    "                ]))\n",
    "C.is_ubereven()"
   ]
  },
  {
   "cell_type": "code",
   "execution_count": 15,
   "metadata": {},
   "outputs": [
    {
     "name": "stdout",
     "output_type": "stream",
     "text": [
      "(● ●) (● ●)\n"
     ]
    }
   ],
   "source": [
    "print(unicode_art(C))"
   ]
  },
  {
   "cell_type": "markdown",
   "metadata": {},
   "source": [
    "Let's see if it can handle Raymond's example from the draft:"
   ]
  },
  {
   "cell_type": "code",
   "execution_count": 16,
   "metadata": {},
   "outputs": [
    {
     "data": {
      "text/plain": [
       "Cluster with 6 roots and 3 children"
      ]
     },
     "execution_count": 16,
     "metadata": {},
     "output_type": "execute_result"
    }
   ],
   "source": [
    "K = Qp(3)\n",
    "x = polygen(K)\n",
    "H = HyperellipticCurve(x*(x - 3)*(x - 4)*(x - 13)*(x + 1)*(x + 5))\n",
    "C = Cluster.from_curve(H)\n",
    "C"
   ]
  },
  {
   "cell_type": "code",
   "execution_count": 17,
   "metadata": {},
   "outputs": [
    {
     "data": {
      "text/plain": [
       "● (● ● ●) (● ●)"
      ]
     },
     "execution_count": 17,
     "metadata": {},
     "output_type": "execute_result"
    }
   ],
   "source": [
    "%display unicode_art\n",
    "C"
   ]
  },
  {
   "cell_type": "markdown",
   "metadata": {},
   "source": [
    "so far so good!"
   ]
  },
  {
   "cell_type": "code",
   "execution_count": 18,
   "metadata": {},
   "outputs": [
    {
     "data": {
      "text/plain": [
       "True"
      ]
     },
     "execution_count": 18,
     "metadata": {},
     "output_type": "execute_result"
    }
   ],
   "source": [
    "C = Cluster.from_roots([K(1), K(5), K(10)])\n",
    "C.children()[0].is_twin()"
   ]
  },
  {
   "cell_type": "code",
   "execution_count": 19,
   "metadata": {},
   "outputs": [
    {
     "data": {
      "text/plain": [
       "True"
      ]
     },
     "execution_count": 19,
     "metadata": {},
     "output_type": "execute_result"
    }
   ],
   "source": [
    "K = Qp(5)\n",
    "C = Cluster.from_roots([K(1), K(5), K(10)])\n",
    "C.is_top_cluster()"
   ]
  },
  {
   "cell_type": "code",
   "execution_count": 20,
   "metadata": {},
   "outputs": [
    {
     "data": {
      "text/plain": [
       "False"
      ]
     },
     "execution_count": 20,
     "metadata": {},
     "output_type": "execute_result"
    }
   ],
   "source": [
    "C.children()[0].is_top_cluster()"
   ]
  },
  {
   "cell_type": "code",
   "execution_count": 21,
   "metadata": {},
   "outputs": [
    {
     "data": {
      "text/plain": [
       "0"
      ]
     },
     "execution_count": 21,
     "metadata": {},
     "output_type": "execute_result"
    }
   ],
   "source": [
    "C.relative_depth()"
   ]
  },
  {
   "cell_type": "code",
   "execution_count": 82,
   "metadata": {},
   "outputs": [
    {
     "data": {
      "text/plain": [
       "1"
      ]
     },
     "execution_count": 82,
     "metadata": {},
     "output_type": "execute_result"
    }
   ],
   "source": [
    "C.children()[1].relative_depth()"
   ]
  },
  {
   "cell_type": "code",
   "execution_count": 23,
   "metadata": {},
   "outputs": [
    {
     "data": {
      "text/plain": [
       "1"
      ]
     },
     "execution_count": 23,
     "metadata": {},
     "output_type": "execute_result"
    }
   ],
   "source": [
    "C2 = Cluster.from_roots([K(5), K(25), K(50)])\n",
    "C2.depth()"
   ]
  },
  {
   "cell_type": "code",
   "execution_count": 24,
   "metadata": {},
   "outputs": [
    {
     "data": {
      "text/plain": [
       "1"
      ]
     },
     "execution_count": 24,
     "metadata": {},
     "output_type": "execute_result"
    }
   ],
   "source": [
    "C2.relative_depth()"
   ]
  },
  {
   "cell_type": "code",
   "execution_count": 25,
   "metadata": {},
   "outputs": [
    {
     "data": {
      "text/plain": [
       "1"
      ]
     },
     "execution_count": 25,
     "metadata": {},
     "output_type": "execute_result"
    }
   ],
   "source": [
    "C2.children()[1].relative_depth()"
   ]
  },
  {
   "cell_type": "code",
   "execution_count": 26,
   "metadata": {},
   "outputs": [
    {
     "data": {
      "text/plain": [
       "1"
      ]
     },
     "execution_count": 26,
     "metadata": {},
     "output_type": "execute_result"
    }
   ],
   "source": [
    "C2.genus()"
   ]
  },
  {
   "cell_type": "code",
   "execution_count": 27,
   "metadata": {},
   "outputs": [
    {
     "data": {
      "text/plain": [
       "((● ●) ●) ●"
      ]
     },
     "execution_count": 27,
     "metadata": {},
     "output_type": "execute_result"
    }
   ],
   "source": [
    "C = Cluster.from_roots([K(1), K(6), K(26), K(126)])\n",
    "C.children()[0].children()[0].children()[0].top_cluster()"
   ]
  },
  {
   "cell_type": "code",
   "execution_count": 28,
   "metadata": {},
   "outputs": [
    {
     "data": {
      "text/plain": [
       "3"
      ]
     },
     "execution_count": 28,
     "metadata": {},
     "output_type": "execute_result"
    }
   ],
   "source": [
    "C.children()[0].children()[0].depth()"
   ]
  },
  {
   "cell_type": "code",
   "execution_count": 29,
   "metadata": {},
   "outputs": [
    {
     "data": {
      "text/plain": [
       "1"
      ]
     },
     "execution_count": 29,
     "metadata": {},
     "output_type": "execute_result"
    }
   ],
   "source": [
    "C.children()[0].children()[0].relative_depth()"
   ]
  },
  {
   "cell_type": "markdown",
   "metadata": {},
   "source": [
    "Example 3.5 in the users guide"
   ]
  },
  {
   "cell_type": "code",
   "execution_count": 14,
   "metadata": {},
   "outputs": [
    {
     "data": {
      "text/plain": [
       "Cluster with 6 roots and 3 children"
      ]
     },
     "execution_count": 14,
     "metadata": {},
     "output_type": "execute_result"
    }
   ],
   "source": [
    "K = Qp(7,150)\n",
    "x = polygen(K)\n",
    "L = K.extension(x^2 + 1, names='a')\n",
    "x = polygen(L)\n",
    "L2 = L.extension(x^2 - 7, names='b')\n",
    "x = polygen(L2)\n",
    "H = HyperellipticCurve((x^2+7^2)*(x^2-7^(15))*(x-7^6)*(x-7^6-7^9))\n",
    "R = Cluster.from_curve(H)\n",
    "R"
   ]
  },
  {
   "cell_type": "code",
   "execution_count": 17,
   "metadata": {},
   "outputs": [
    {
     "data": {
      "image/png": "[encoded data removed]",
      "text/plain": [
       "<IPython.core.display.Image object>"
      ]
     },
     "execution_count": 17,
     "metadata": {},
     "output_type": "execute_result"
    }
   ],
   "source": [
    "view(R)"
   ]
  },
  {
   "cell_type": "code",
   "execution_count": 19,
   "metadata": {},
   "outputs": [
    {
     "data": {
      "text/plain": [
       "'(((● ●)_3 (● ●)_6)_10 ● ●)_2'"
      ]
     },
     "execution_count": 19,
     "metadata": {},
     "output_type": "execute_result"
    }
   ],
   "source": [
    "unicode_art(R)"
   ]
  },
  {
   "cell_type": "code",
   "execution_count": 32,
   "metadata": {},
   "outputs": [
    {
     "data": {
      "text/plain": [
       "2"
      ]
     },
     "execution_count": 32,
     "metadata": {},
     "output_type": "execute_result"
    }
   ],
   "source": [
    "R.depth()"
   ]
  },
  {
   "cell_type": "code",
   "execution_count": 33,
   "metadata": {},
   "outputs": [
    {
     "data": {
      "text/plain": [
       "12"
      ]
     },
     "execution_count": 33,
     "metadata": {},
     "output_type": "execute_result"
    }
   ],
   "source": [
    "%display plain\n",
    "a = R.children()[0]\n",
    "a.depth()"
   ]
  },
  {
   "cell_type": "code",
   "execution_count": 34,
   "metadata": {},
   "outputs": [
    {
     "data": {
      "text/plain": [
       "10"
      ]
     },
     "execution_count": 34,
     "metadata": {},
     "output_type": "execute_result"
    }
   ],
   "source": [
    "a.relative_depth()"
   ]
  },
  {
   "cell_type": "code",
   "execution_count": 35,
   "metadata": {},
   "outputs": [
    {
     "data": {
      "text/plain": [
       "15"
      ]
     },
     "execution_count": 35,
     "metadata": {},
     "output_type": "execute_result"
    }
   ],
   "source": [
    "t1 = a.children()[0]\n",
    "t1.depth()"
   ]
  },
  {
   "cell_type": "code",
   "execution_count": 36,
   "metadata": {},
   "outputs": [
    {
     "data": {
      "text/plain": [
       "18"
      ]
     },
     "execution_count": 36,
     "metadata": {},
     "output_type": "execute_result"
    }
   ],
   "source": [
    "t2 = a.children()[1]\n",
    "t2.depth()"
   ]
  },
  {
   "cell_type": "code",
   "execution_count": 37,
   "metadata": {},
   "outputs": [
    {
     "data": {
      "text/plain": [
       "True"
      ]
     },
     "execution_count": 37,
     "metadata": {},
     "output_type": "execute_result"
    }
   ],
   "source": [
    "a.is_ubereven()"
   ]
  },
  {
   "cell_type": "code",
   "execution_count": 38,
   "metadata": {},
   "outputs": [
    {
     "data": {
      "text/plain": [
       "True"
      ]
     },
     "execution_count": 38,
     "metadata": {},
     "output_type": "execute_result"
    }
   ],
   "source": [
    "t1.is_twin()"
   ]
  },
  {
   "cell_type": "code",
   "execution_count": 39,
   "metadata": {},
   "outputs": [
    {
     "data": {
      "text/plain": [
       "True"
      ]
     },
     "execution_count": 39,
     "metadata": {},
     "output_type": "execute_result"
    }
   ],
   "source": [
    "t2.is_twin()"
   ]
  },
  {
   "cell_type": "code",
   "execution_count": 40,
   "metadata": {},
   "outputs": [
    {
     "data": {
      "text/plain": [
       "True"
      ]
     },
     "execution_count": 40,
     "metadata": {},
     "output_type": "execute_result"
    }
   ],
   "source": [
    "R.is_cotwin()"
   ]
  },
  {
   "cell_type": "code",
   "execution_count": 41,
   "metadata": {},
   "outputs": [
    {
     "data": {
      "text/plain": [
       "False"
      ]
     },
     "execution_count": 41,
     "metadata": {},
     "output_type": "execute_result"
    }
   ],
   "source": [
    "a.is_cotwin()"
   ]
  },
  {
   "cell_type": "code",
   "execution_count": 42,
   "metadata": {},
   "outputs": [
    {
     "data": {
      "text/plain": [
       "False"
      ]
     },
     "execution_count": 42,
     "metadata": {},
     "output_type": "execute_result"
    }
   ],
   "source": [
    "t1.is_cotwin()"
   ]
  },
  {
   "cell_type": "code",
   "execution_count": 43,
   "metadata": {},
   "outputs": [
    {
     "data": {
      "text/plain": [
       "[Cluster with 4 roots and 2 children]"
      ]
     },
     "execution_count": 43,
     "metadata": {},
     "output_type": "execute_result"
    }
   ],
   "source": [
    "[c for c in R.all_descendents() if c.is_principal()]"
   ]
  },
  {
   "cell_type": "code",
   "execution_count": 44,
   "metadata": {},
   "outputs": [
    {
     "data": {
      "text/plain": [
       "True"
      ]
     },
     "execution_count": 44,
     "metadata": {},
     "output_type": "execute_result"
    }
   ],
   "source": [
    "a.is_principal()"
   ]
  },
  {
   "cell_type": "code",
   "execution_count": 45,
   "metadata": {},
   "outputs": [
    {
     "data": {
      "text/plain": [
       "Cluster with 4 roots and 2 children"
      ]
     },
     "execution_count": 45,
     "metadata": {},
     "output_type": "execute_result"
    }
   ],
   "source": [
    "t1.meet(t2)"
   ]
  },
  {
   "cell_type": "code",
   "execution_count": 46,
   "metadata": {},
   "outputs": [
    {
     "data": {
      "text/plain": [
       "True"
      ]
     },
     "execution_count": 46,
     "metadata": {},
     "output_type": "execute_result"
    }
   ],
   "source": [
    "t1.meet(t2) == a"
   ]
  },
  {
   "cell_type": "code",
   "execution_count": 47,
   "metadata": {},
   "outputs": [
    {
     "data": {
      "text/plain": [
       "Cluster with 4 roots and 2 children"
      ]
     },
     "execution_count": 47,
     "metadata": {},
     "output_type": "execute_result"
    }
   ],
   "source": [
    "t2.meet(t1)"
   ]
  },
  {
   "cell_type": "code",
   "execution_count": 48,
   "metadata": {},
   "outputs": [
    {
     "data": {
      "text/plain": [
       "Cluster with 4 roots and 2 children"
      ]
     },
     "execution_count": 48,
     "metadata": {},
     "output_type": "execute_result"
    }
   ],
   "source": [
    "t2.star()"
   ]
  },
  {
   "cell_type": "code",
   "execution_count": 49,
   "metadata": {},
   "outputs": [
    {
     "data": {
      "text/plain": [
       "Cluster with 4 roots and 2 children"
      ]
     },
     "execution_count": 49,
     "metadata": {},
     "output_type": "execute_result"
    }
   ],
   "source": [
    "a.star()"
   ]
  },
  {
   "cell_type": "code",
   "execution_count": 50,
   "metadata": {},
   "outputs": [
    {
     "data": {
      "image/png": "[encoded data removed]",
      "text/plain": [
       "<IPython.core.display.Image object>"
      ]
     },
     "execution_count": 50,
     "metadata": {},
     "output_type": "execute_result"
    }
   ],
   "source": [
    "view(R)"
   ]
  },
  {
   "cell_type": "markdown",
   "metadata": {},
   "source": [
    "A top cotwin"
   ]
  },
  {
   "cell_type": "code",
   "execution_count": 51,
   "metadata": {},
   "outputs": [
    {
     "data": {
      "image/png": "[encoded data removed]",
      "text/plain": [
       "<IPython.core.display.Image object>"
      ]
     },
     "execution_count": 51,
     "metadata": {},
     "output_type": "execute_result"
    }
   ],
   "source": [
    "K = Qp(5)\n",
    "C = Cluster.from_roots([K(1), K(5), K(10)])\n",
    "view(C)"
   ]
  },
  {
   "cell_type": "code",
   "execution_count": 52,
   "metadata": {},
   "outputs": [
    {
     "data": {
      "text/plain": [
       "True"
      ]
     },
     "execution_count": 52,
     "metadata": {},
     "output_type": "execute_result"
    }
   ],
   "source": [
    "C.is_cotwin()"
   ]
  },
  {
   "cell_type": "code",
   "execution_count": 53,
   "metadata": {},
   "outputs": [
    {
     "data": {
      "text/plain": [
       "Cluster with 2 roots and 2 children"
      ]
     },
     "execution_count": 53,
     "metadata": {},
     "output_type": "execute_result"
    }
   ],
   "source": [
    "C.children()[1]"
   ]
  },
  {
   "cell_type": "code",
   "execution_count": 54,
   "metadata": {},
   "outputs": [
    {
     "data": {
      "text/plain": [
       "False"
      ]
     },
     "execution_count": 54,
     "metadata": {},
     "output_type": "execute_result"
    }
   ],
   "source": [
    "C.children()[1].is_cotwin()"
   ]
  },
  {
   "cell_type": "code",
   "execution_count": 55,
   "metadata": {},
   "outputs": [
    {
     "data": {
      "text/plain": [
       "Cluster with 2 roots and 2 children"
      ]
     },
     "execution_count": 55,
     "metadata": {},
     "output_type": "execute_result"
    }
   ],
   "source": [
    "C.star()"
   ]
  },
  {
   "cell_type": "markdown",
   "metadata": {},
   "source": [
    "A non-top cotwin"
   ]
  },
  {
   "cell_type": "code",
   "execution_count": 56,
   "metadata": {},
   "outputs": [
    {
     "data": {
      "image/png": "[encoded data removed]",
      "text/plain": [
       "<IPython.core.display.Image object>"
      ]
     },
     "execution_count": 56,
     "metadata": {},
     "output_type": "execute_result"
    }
   ],
   "source": [
    "C = Cluster.from_roots([K(1), K(5), K(10), K(35)])\n",
    "view(C)"
   ]
  },
  {
   "cell_type": "code",
   "execution_count": 57,
   "metadata": {},
   "outputs": [
    {
     "data": {
      "text/plain": [
       "False"
      ]
     },
     "execution_count": 57,
     "metadata": {},
     "output_type": "execute_result"
    }
   ],
   "source": [
    "C.is_cotwin()"
   ]
  },
  {
   "cell_type": "code",
   "execution_count": 58,
   "metadata": {},
   "outputs": [
    {
     "data": {
      "text/plain": [
       "False"
      ]
     },
     "execution_count": 58,
     "metadata": {},
     "output_type": "execute_result"
    }
   ],
   "source": [
    "C.children()[0].is_cotwin()"
   ]
  },
  {
   "cell_type": "code",
   "execution_count": 59,
   "metadata": {},
   "outputs": [
    {
     "data": {
      "text/plain": [
       "True"
      ]
     },
     "execution_count": 59,
     "metadata": {},
     "output_type": "execute_result"
    }
   ],
   "source": [
    "C.children()[1].is_cotwin()"
   ]
  },
  {
   "cell_type": "code",
   "execution_count": 60,
   "metadata": {},
   "outputs": [
    {
     "data": {
      "text/plain": [
       "Cluster with 2 roots and 2 children"
      ]
     },
     "execution_count": 60,
     "metadata": {},
     "output_type": "execute_result"
    }
   ],
   "source": [
    "C.children()[1].star()"
   ]
  },
  {
   "cell_type": "code",
   "execution_count": 61,
   "metadata": {},
   "outputs": [
    {
     "data": {
      "image/png": "[encoded data removed]",
      "text/plain": [
       "<IPython.core.display.Image object>"
      ]
     },
     "execution_count": 61,
     "metadata": {},
     "output_type": "execute_result"
    }
   ],
   "source": [
    "C = Cluster.from_roots([K(1), K(2), K(10), K(35)])\n",
    "view(C)"
   ]
  },
  {
   "cell_type": "code",
   "execution_count": 62,
   "metadata": {},
   "outputs": [
    {
     "data": {
      "text/plain": [
       "True"
      ]
     },
     "execution_count": 62,
     "metadata": {},
     "output_type": "execute_result"
    }
   ],
   "source": [
    "C.is_cotwin()"
   ]
  },
  {
   "cell_type": "code",
   "execution_count": 63,
   "metadata": {},
   "outputs": [
    {
     "data": {
      "text/plain": [
       "False"
      ]
     },
     "execution_count": 63,
     "metadata": {},
     "output_type": "execute_result"
    }
   ],
   "source": [
    "C.children()[0].is_cotwin()"
   ]
  },
  {
   "cell_type": "code",
   "execution_count": 64,
   "metadata": {},
   "outputs": [
    {
     "data": {
      "text/plain": [
       "False"
      ]
     },
     "execution_count": 64,
     "metadata": {},
     "output_type": "execute_result"
    }
   ],
   "source": [
    "C.children()[1].is_cotwin()"
   ]
  },
  {
   "cell_type": "code",
   "execution_count": 65,
   "metadata": {},
   "outputs": [
    {
     "data": {
      "text/plain": [
       "Cluster with 2 roots and 2 children"
      ]
     },
     "execution_count": 65,
     "metadata": {},
     "output_type": "execute_result"
    }
   ],
   "source": [
    "C.star()"
   ]
  },
  {
   "cell_type": "code",
   "execution_count": 4,
   "metadata": {},
   "outputs": [
    {
     "data": {
      "image/png": "[encoded data removed]",
      "text/plain": [
       "<IPython.core.display.Image object>"
      ]
     },
     "execution_count": 4,
     "metadata": {},
     "output_type": "execute_result"
    }
   ],
   "source": [
    "K = Qp(5)\n",
    "x = polygen(K)\n",
    "H = HyperellipticCurve((x^4-5^4)*(x+1)*(x+2))\n",
    "C = Cluster.from_curve(H)\n",
    "view(C)"
   ]
  },
  {
   "cell_type": "markdown",
   "metadata": {},
   "source": [
    "Making clusters from pictures"
   ]
  },
  {
   "cell_type": "code",
   "execution_count": 22,
   "metadata": {},
   "outputs": [
    {
     "name": "stdout",
     "output_type": "stream",
     "text": [
      "verbose 1 (93: cluster_pictures.py, from_picture) ['(', '*', '*', '(', '*', '*', '*', '*', ')', '1', ')', '0']\n",
      "verbose 1 (41: cluster_pictures.py, __init__) []\n"
     ]
    },
    {
     "ename": "ValueError",
     "evalue": "min() arg is an empty sequence",
     "output_type": "error",
     "traceback": [
      "\u001b[1;31m---------------------------------------------------------------------------\u001b[0m",
      "\u001b[1;31mValueError\u001b[0m                                Traceback (most recent call last)",
      "\u001b[1;32m<ipython-input-22-a11b3d609539>\u001b[0m in \u001b[0;36m<module>\u001b[1;34m()\u001b[0m\n\u001b[0;32m      1\u001b[0m \u001b[0mset_verbose\u001b[0m\u001b[1;33m(\u001b[0m\u001b[0mInteger\u001b[0m\u001b[1;33m(\u001b[0m\u001b[1;36m1\u001b[0m\u001b[1;33m)\u001b[0m\u001b[1;33m)\u001b[0m\u001b[1;33m\u001b[0m\u001b[1;33m\u001b[0m\u001b[0m\n\u001b[1;32m----> 2\u001b[1;33m \u001b[0mCluster\u001b[0m\u001b[1;33m.\u001b[0m\u001b[0mfrom_picture\u001b[0m\u001b[1;33m(\u001b[0m\u001b[0mascii_art\u001b[0m\u001b[1;33m(\u001b[0m\u001b[0mC\u001b[0m\u001b[1;33m)\u001b[0m\u001b[1;33m)\u001b[0m\u001b[1;33m\u001b[0m\u001b[1;33m\u001b[0m\u001b[0m\n\u001b[0m",
      "\u001b[1;32m/Users/alex/clusters/sage_cluster_pictures/cluster_pictures.py\u001b[0m in \u001b[0;36mfrom_picture\u001b[1;34m(cls, S)\u001b[0m\n\u001b[0;32m    106\u001b[0m         \u001b[0mS\u001b[0m \u001b[1;33m=\u001b[0m \u001b[0mfilter\u001b[0m\u001b[1;33m(\u001b[0m\u001b[1;32mlambda\u001b[0m \u001b[0mx\u001b[0m\u001b[1;33m:\u001b[0m \u001b[0mx\u001b[0m\u001b[1;33m.\u001b[0m\u001b[0misdigit\u001b[0m\u001b[1;33m(\u001b[0m\u001b[1;33m)\u001b[0m \u001b[1;32mor\u001b[0m \u001b[0mx\u001b[0m \u001b[1;32min\u001b[0m \u001b[1;34m'()*'\u001b[0m\u001b[1;33m,\u001b[0m \u001b[0mS\u001b[0m\u001b[1;33m)\u001b[0m\u001b[1;33m\u001b[0m\u001b[1;33m\u001b[0m\u001b[0m\n\u001b[0;32m    107\u001b[0m         \u001b[0mverbose\u001b[0m\u001b[1;33m(\u001b[0m\u001b[0mlist\u001b[0m\u001b[1;33m(\u001b[0m\u001b[0mS\u001b[0m\u001b[1;33m)\u001b[0m\u001b[1;33m)\u001b[0m\u001b[1;33m\u001b[0m\u001b[1;33m\u001b[0m\u001b[0m\n\u001b[1;32m--> 108\u001b[1;33m         \u001b[0mC\u001b[0m \u001b[1;33m=\u001b[0m \u001b[0mcls\u001b[0m\u001b[1;33m(\u001b[0m\u001b[0mMatrix\u001b[0m\u001b[1;33m(\u001b[0m\u001b[1;36m0\u001b[0m\u001b[1;33m,\u001b[0m\u001b[1;36m0\u001b[0m\u001b[1;33m)\u001b[0m\u001b[1;33m)\u001b[0m\u001b[1;33m\u001b[0m\u001b[1;33m\u001b[0m\u001b[0m\n\u001b[0m\u001b[0;32m    109\u001b[0m         \u001b[1;32mreturn\u001b[0m \u001b[0mC\u001b[0m\u001b[1;33m\u001b[0m\u001b[1;33m\u001b[0m\u001b[0m\n\u001b[0;32m    110\u001b[0m \u001b[1;33m\u001b[0m\u001b[0m\n",
      "\u001b[1;32m/Users/alex/clusters/sage_cluster_pictures/cluster_pictures.py\u001b[0m in \u001b[0;36m__init__\u001b[1;34m(self, M, parent, top)\u001b[0m\n\u001b[0;32m     50\u001b[0m         \u001b[0mverbose\u001b[0m\u001b[1;33m(\u001b[0m\u001b[0mM\u001b[0m\u001b[1;33m)\u001b[0m\u001b[1;33m\u001b[0m\u001b[1;33m\u001b[0m\u001b[0m\n\u001b[0;32m     51\u001b[0m         \u001b[0mself\u001b[0m\u001b[1;33m.\u001b[0m\u001b[0m_M\u001b[0m \u001b[1;33m=\u001b[0m \u001b[0mM\u001b[0m\u001b[1;33m\u001b[0m\u001b[1;33m\u001b[0m\u001b[0m\n\u001b[1;32m---> 52\u001b[1;33m         \u001b[0mself\u001b[0m\u001b[1;33m.\u001b[0m\u001b[0m_depth\u001b[0m \u001b[1;33m=\u001b[0m \u001b[0mmin\u001b[0m\u001b[1;33m(\u001b[0m\u001b[0mself\u001b[0m\u001b[1;33m.\u001b[0m\u001b[0m_M\u001b[0m\u001b[1;33m.\u001b[0m\u001b[0mdense_coefficient_list\u001b[0m\u001b[1;33m(\u001b[0m\u001b[1;33m)\u001b[0m\u001b[1;33m)\u001b[0m\u001b[1;33m\u001b[0m\u001b[1;33m\u001b[0m\u001b[0m\n\u001b[0m\u001b[0;32m     53\u001b[0m         \u001b[0mself\u001b[0m\u001b[1;33m.\u001b[0m\u001b[0m_size\u001b[0m \u001b[1;33m=\u001b[0m \u001b[0mM\u001b[0m\u001b[1;33m.\u001b[0m\u001b[0mnrows\u001b[0m\u001b[1;33m(\u001b[0m\u001b[1;33m)\u001b[0m\u001b[1;33m\u001b[0m\u001b[1;33m\u001b[0m\u001b[0m\n\u001b[0;32m     54\u001b[0m         \u001b[0mself\u001b[0m\u001b[1;33m.\u001b[0m\u001b[0m_parent_cluster\u001b[0m \u001b[1;33m=\u001b[0m \u001b[0mparent\u001b[0m\u001b[1;33m\u001b[0m\u001b[1;33m\u001b[0m\u001b[0m\n",
      "\u001b[1;31mValueError\u001b[0m: min() arg is an empty sequence"
     ]
    }
   ],
   "source": [
    "set_verbose(1)\n",
    "Cluster.from_picture(ascii_art(C))"
   ]
  },
  {
   "cell_type": "code",
   "execution_count": 9,
   "metadata": {},
   "outputs": [
    {
     "data": {
      "text/plain": [
       "'(* * (* * * *)_1)_0'"
      ]
     },
     "execution_count": 9,
     "metadata": {},
     "output_type": "execute_result"
    }
   ],
   "source": [
    "ascii_art(C)"
   ]
  },
  {
   "cell_type": "code",
   "execution_count": 10,
   "metadata": {},
   "outputs": [
    {
     "data": {
      "image/png": "[encoded data removed]",
      "text/plain": [
       "<IPython.core.display.Image object>"
      ]
     },
     "execution_count": 10,
     "metadata": {},
     "output_type": "execute_result"
    }
   ],
   "source": [
    "view(C)"
   ]
  },
  {
   "cell_type": "code",
   "execution_count": 31,
   "metadata": {},
   "outputs": [
    {
     "data": {
      "text/plain": [
       "([(b + 3) + (4*b + 5)*7 + (6*b + 5)*7^2 + (6*b + 6)*7^3 + (3*b + 4)*7^4 + (5*b + 2)*7^5 + (6*b + 6)*7^6 + (6*b + 6)*7^7 + (2*b + 1)*7^8 + 2*b*7^9 + (3*b + 3)*7^10 + (3*b + 3)*7^11 + 2*b*7^12 + (4*b + 6)*7^13 + (b + 4)*7^14 + (5*b + 1)*7^15 + (b + 5)*7^16 + (4*b + 5)*7^17 + (3*b + 3)*7^18 + (b + 4)*7^19 + (2*b + 6)*7^21 + (3*b + 2)*7^22 + (4*b + 6)*7^23 + (b + 4)*7^24 + (5*b + 1)*7^25 + 4*b*7^26 + (3*b + 4)*7^27 + 7^28 + (5*b + 1)*7^29 + (5*b + 3)*7^30 + (2*b + 1)*7^31 + (5*b + 2)*7^32 + (3*b + 4)*7^33 + 2*b*7^34 + (4*b + 6)*7^35 + (4*b + 6)*7^36 + (4*b + 6)*7^37 + (6*b + 5)*7^38 + (5*b + 3)*7^39 + (5*b + 3)*7^40 + 4*b*7^41 + (6*b + 6)*7^42 + 2*7^43 + (3*b + 2)*7^44 + 2*b*7^45 + (b + 4)*7^46 + (5*b + 1)*7^47 + 4*b*7^48 + (b + 5)*7^49 + (4*b + 5)*7^50 + (b + 4)*7^51 + (6*b + 4)*7^52 + (3*b + 4)*7^53 + (6*b + 5)*7^54 + (6*b + 6)*7^55 + (6*b + 6)*7^56 + 4*b*7^57 + 2*7^58 + (b + 3)*7^59 + (5*b + 1)*7^60 + (6*b + 6)*7^61 + 4*b*7^62 + (3*b + 4)*7^63 + (6*b + 5)*7^64 + (6*b + 6)*7^65 + (b + 5)*7^66 + (5*b + 1)*7^67 + (2*b + 1)*7^68 + 2*b*7^69 + (3*b + 3)*7^70 + 2*b*7^71 + (6*b + 5)*7^72 + 4*b*7^73 + (6*b + 6)*7^74 + (2*b + 1)*7^75 + 2*b*7^76 + 7^77 + (5*b + 1)*7^79 + (6*b + 6)*7^80 + (3*b + 4)*7^81 + (4*b + 6)*7^82 + (6*b + 5)*7^83 + (2*b + 1)*7^84 + (5*b + 2)*7^85 + (b + 5)*7^86 + (5*b + 1)*7^87 + (b + 5)*7^88 + (b + 3)*7^89 + (2*b + 6)*7^90 + (6*b + 4)*7^91 + (b + 5)*7^92 + (6*b + 4)*7^93 + 4*b*7^94 + (5*b + 3)*7^95 + 4*b*7^96 + (3*b + 4)*7^97 + 2*b*7^98 + 2*b*7^99 + (6*b + 5)*7^100 + (5*b + 3)*7^101 + (2*b + 1)*7^102 + 7^103 + (2*b + 6)*7^104 + (5*b + 1)*7^105 + 4*b*7^106 + (5*b + 3)*7^107 + (2*b + 1)*7^108 + (5*b + 2)*7^109 + (3*b + 4)*7^110 + 2*b*7^111 + 2*b*7^112 + (3*b + 3)*7^113 + 7^114 + (6*b + 4)*7^115 + 4*b*7^116 + (6*b + 6)*7^117 + 2*7^118 + (4*b + 5)*7^119 + (4*b + 6)*7^120 + (6*b + 5)*7^121 + (b + 5)*7^122 + (3*b + 2)*7^123 + (b + 4)*7^124 + (2*b + 6)*7^125 + (2*b + 6)*7^126 + (6*b + 4)*7^127 + (6*b + 6)*7^128 + (2*b + 1)*7^129 + (5*b + 2)*7^130 + (3*b + 4)*7^131 + (b + 4)*7^132 + (b + 3)*7^133 + (4*b + 5)*7^134 + (6*b + 5)*7^135 + (5*b + 3)*7^136 + 2*7^137 + (2*b + 6)*7^138 + (2*b + 6)*7^139 + (4*b + 5)*7^140 + (5*b + 2)*7^141 + (5*b + 3)*7^142 + 4*b*7^143 + 4*b*7^144 + 2*7^145 + (5*b + 1)*7^146 + 2*7^147 + (4*b + 5)*7^148 + (5*b + 2)*7^149 + O(7^150),\n",
       "  (6*b + 4) + (2*b + 1)*7 + 7^2 + (3*b + 2)*7^4 + (b + 4)*7^5 + (4*b + 5)*7^8 + (4*b + 6)*7^9 + (3*b + 3)*7^10 + (3*b + 3)*7^11 + (4*b + 6)*7^12 + 2*b*7^13 + (5*b + 2)*7^14 + (b + 5)*7^15 + (5*b + 1)*7^16 + (2*b + 1)*7^17 + (3*b + 3)*7^18 + (5*b + 2)*7^19 + (6*b + 6)*7^20 + 4*b*7^21 + (3*b + 4)*7^22 + 2*b*7^23 + (5*b + 2)*7^24 + (b + 5)*7^25 + (2*b + 6)*7^26 + (3*b + 2)*7^27 + (6*b + 5)*7^28 + (b + 5)*7^29 + (b + 3)*7^30 + (4*b + 5)*7^31 + (b + 4)*7^32 + (3*b + 2)*7^33 + (4*b + 6)*7^34 + 2*b*7^35 + 2*b*7^36 + 2*b*7^37 + 7^38 + (b + 3)*7^39 + (b + 3)*7^40 + (2*b + 6)*7^41 + (6*b + 4)*7^43 + (3*b + 4)*7^44 + (4*b + 6)*7^45 + (5*b + 2)*7^46 + (b + 5)*7^47 + (2*b + 6)*7^48 + (5*b + 1)*7^49 + (2*b + 1)*7^50 + (5*b + 2)*7^51 + 2*7^52 + (3*b + 2)*7^53 + 7^54 + (2*b + 6)*7^57 + (6*b + 4)*7^58 + (5*b + 3)*7^59 + (b + 5)*7^60 + (2*b + 6)*7^62 + (3*b + 2)*7^63 + 7^64 + (5*b + 1)*7^66 + (b + 5)*7^67 + (4*b + 5)*7^68 + (4*b + 6)*7^69 + (3*b + 3)*7^70 + (4*b + 6)*7^71 + 7^72 + (2*b + 6)*7^73 + (4*b + 5)*7^75 + (4*b + 6)*7^76 + (6*b + 5)*7^77 + (6*b + 6)*7^78 + (b + 5)*7^79 + (3*b + 2)*7^81 + 2*b*7^82 + 7^83 + (4*b + 5)*7^84 + (b + 4)*7^85 + (5*b + 1)*7^86 + (b + 5)*7^87 + (5*b + 1)*7^88 + (5*b + 3)*7^89 + 4*b*7^90 + 2*7^91 + (5*b + 1)*7^92 + 2*7^93 + (2*b + 6)*7^94 + (b + 3)*7^95 + (2*b + 6)*7^96 + (3*b + 2)*7^97 + (4*b + 6)*7^98 + (4*b + 6)*7^99 + 7^100 + (b + 3)*7^101 + (4*b + 5)*7^102 + (6*b + 5)*7^103 + 4*b*7^104 + (b + 5)*7^105 + (2*b + 6)*7^106 + (b + 3)*7^107 + (4*b + 5)*7^108 + (b + 4)*7^109 + (3*b + 2)*7^110 + (4*b + 6)*7^111 + (4*b + 6)*7^112 + (3*b + 3)*7^113 + (6*b + 5)*7^114 + 2*7^115 + (2*b + 6)*7^116 + (6*b + 4)*7^118 + (2*b + 1)*7^119 + 2*b*7^120 + 7^121 + (5*b + 1)*7^122 + (3*b + 4)*7^123 + (5*b + 2)*7^124 + 4*b*7^125 + 4*b*7^126 + 2*7^127 + (4*b + 5)*7^129 + (b + 4)*7^130 + (3*b + 2)*7^131 + (5*b + 2)*7^132 + (5*b + 3)*7^133 + (2*b + 1)*7^134 + 7^135 + (b + 3)*7^136 + (6*b + 4)*7^137 + 4*b*7^138 + 4*b*7^139 + (2*b + 1)*7^140 + (b + 4)*7^141 + (b + 3)*7^142 + (2*b + 6)*7^143 + (2*b + 6)*7^144 + (6*b + 4)*7^145 + (b + 5)*7^146 + (6*b + 4)*7^147 + (2*b + 1)*7^148 + (b + 4)*7^149 + O(7^150)],\n",
       " Identity endomorphism of 7-adic Unramified Extension Field in b defined by x^2 + 6*x + 3,\n",
       " Frobenius endomorphism on 7-adic Unramified Extension Field in b defined by x^2 + 6*x + 3 lifting b |--> b^7 on the residue field)"
      ]
     },
     "execution_count": 31,
     "metadata": {},
     "output_type": "execute_result"
    }
   ],
   "source": [
    "set_verbose(1)\n",
    "K = Qp(7,150)\n",
    "x = polygen(K)\n",
    "L = K.extension(x^2 + 1, names='a')\n",
    "x = polygen(L)\n",
    "L2 = L.extension(x^2 - 7, names='b')\n",
    "x = polygen(L2)\n",
    "cluster_pictures.allroots((x^2+7^2))"
   ]
  },
  {
   "cell_type": "code",
   "execution_count": 11,
   "metadata": {},
   "outputs": [
    {
     "ename": "NameError",
     "evalue": "name 'b' is not defined",
     "output_type": "error",
     "traceback": [
      "\u001b[1;31m---------------------------------------------------------------------------\u001b[0m",
      "\u001b[1;31mNameError\u001b[0m                                 Traceback (most recent call last)",
      "\u001b[1;32m<ipython-input-11-4c74aa7c2f54>\u001b[0m in \u001b[0;36m<module>\u001b[1;34m()\u001b[0m\n\u001b[1;32m----> 1\u001b[1;33m \u001b[0mb\u001b[0m\u001b[1;33m**\u001b[0m\u001b[0mInteger\u001b[0m\u001b[1;33m(\u001b[0m\u001b[1;36m2\u001b[0m\u001b[1;33m)\u001b[0m\u001b[1;33m\u001b[0m\u001b[1;33m\u001b[0m\u001b[0m\n\u001b[0m",
      "\u001b[1;31mNameError\u001b[0m: name 'b' is not defined"
     ]
    }
   ],
   "source": [
    "b^2"
   ]
  },
  {
   "cell_type": "code",
   "execution_count": 12,
   "metadata": {},
   "outputs": [
    {
     "name": "stdout",
     "output_type": "stream",
     "text": [
      "verbose 1 (789: cluster_pictures.py, theta) b^4 + b^30 + O(b^304)\n"
     ]
    },
    {
     "data": {
      "text/plain": [
       "b^2 + 4*b^28 + 3*b^30 + 3*b^32 + 3*b^34 + 3*b^36 + 3*b^38 + 3*b^40 + 3*b^42 + 3*b^44 + 3*b^46 + 3*b^48 + 3*b^50 + 3*b^52 + 2*b^54 + 4*b^56 + 2*b^58 + 4*b^60 + 2*b^62 + 4*b^64 + 2*b^66 + 4*b^68 + 2*b^70 + 4*b^72 + 2*b^74 + 4*b^76 + 2*b^78 + b^80 + 2*b^82 + b^84 + 2*b^86 + b^88 + 2*b^90 + b^92 + 2*b^94 + b^96 + 2*b^98 + b^100 + 2*b^102 + b^104 + 3*b^106 + 2*b^108 + 2*b^110 + 3*b^112 + b^114 + 4*b^116 + 5*b^120 + 6*b^122 + 5*b^124 + 5*b^126 + 6*b^128 + 4*b^130 + 6*b^134 + 2*b^136 + 5*b^140 + b^142 + 3*b^146 + 2*b^148 + 4*b^150 + 4*b^152 + 5*b^154 + 6*b^156 + 6*b^158 + 3*b^160 + 5*b^162 + 2*b^164 + 2*b^166 + 3*b^168 + 4*b^170 + 5*b^172 + 4*b^174 + 2*b^176 + 3*b^178 + b^180 + 5*b^184 + 6*b^186 + 4*b^188 + 3*b^190 + 5*b^194 + 5*b^196 + 3*b^198 + 6*b^200 + 6*b^202 + 2*b^204 + 2*b^208 + 3*b^210 + b^212 + 2*b^214 + 6*b^216 + 3*b^218 + 3*b^220 + b^224 + 5*b^226 + 6*b^228 + 2*b^230 + b^236 + 2*b^238 + 5*b^240 + b^242 + 6*b^244 + b^246 + 4*b^248 + 5*b^250 + 6*b^252 + b^254 + b^258 + 6*b^260 + 3*b^262 + 4*b^264 + 2*b^266 + 5*b^268 + 5*b^270 + 6*b^272 + b^274 + 5*b^276 + 2*b^278 + 2*b^280 + 5*b^284 + 2*b^286 + 4*b^290 + 6*b^294 + 4*b^296 + b^298 + 3*b^300 + O(b^302)"
      ]
     },
     "execution_count": 12,
     "metadata": {},
     "output_type": "execute_result"
    }
   ],
   "source": [
    "a.theta()"
   ]
  },
  {
   "cell_type": "code",
   "execution_count": 13,
   "metadata": {},
   "outputs": [
    {
     "data": {
      "text/plain": [
       "b^15 + O(b^315)"
      ]
     },
     "execution_count": 13,
     "metadata": {},
     "output_type": "execute_result"
    }
   ],
   "source": [
    "a.center()"
   ]
  },
  {
   "cell_type": "code",
   "execution_count": 16,
   "metadata": {},
   "outputs": [],
   "source": [
    "set_verbose(1)\n",
    "p = 7\n",
    "x = polygen(Qp(p))\n",
    "H = HyperellipticCurve((x-1)*(x-(1+p^2))*(x-(1-p^2))*(x-p)*x*(x-p^3)*(x+p^3))\n",
    "r,phi,rho=cluster_pictures.allroots(H.hyperelliptic_polynomials()[0])"
   ]
  },
  {
   "cell_type": "code",
   "execution_count": 20,
   "metadata": {},
   "outputs": [
    {
     "name": "stdout",
     "output_type": "stream",
     "text": [
      "verbose 1 (72: cluster_pictures.py, __init__) [150   3   3   1   0   0   0]\n",
      "[  3  23   3   1   0   0   0]\n",
      "[  3   3  23   1   0   0   0]\n",
      "[  1   1   1  21   0   0   0]\n",
      "[  0   0   0   0  16   2   2]\n",
      "[  0   0   0   0   2  16   2]\n",
      "[  0   0   0   0   2   2  16]\n",
      "verbose 1 (72: cluster_pictures.py, __init__) [0, 7^3 + O(7^23), 6*7^3 + 6*7^4 + 6*7^5 + 6*7^6 + 6*7^7 + 6*7^8 + 6*7^9 + 6*7^10 + 6*7^11 + 6*7^12 + 6*7^13 + 6*7^14 + 6*7^15 + 6*7^16 + 6*7^17 + 6*7^18 + 6*7^19 + 6*7^20 + 6*7^21 + 6*7^22 + O(7^23), 7 + O(7^21), 1 + O(7^16), 1 + 7^2 + O(7^16), 1 + 6*7^2 + 6*7^3 + 6*7^4 + 6*7^5 + 6*7^6 + 6*7^7 + 6*7^8 + 6*7^9 + 6*7^10 + 6*7^11 + 6*7^12 + 6*7^13 + 6*7^14 + 6*7^15 + O(7^16)]\n",
      "verbose 1 (72: cluster_pictures.py, __init__) 0\n",
      "verbose 1 (72: cluster_pictures.py, __init__) defaultdict(<class 'list'>, {0: [0, 1, 2, 3], 4: [4, 5, 6]})\n",
      "verbose 1 (72: cluster_pictures.py, __init__) [150   3   3   1]\n",
      "[  3  23   3   1]\n",
      "[  3   3  23   1]\n",
      "[  1   1   1  21]\n",
      "verbose 1 (72: cluster_pictures.py, __init__) [0, 7^3 + O(7^23), 6*7^3 + 6*7^4 + 6*7^5 + 6*7^6 + 6*7^7 + 6*7^8 + 6*7^9 + 6*7^10 + 6*7^11 + 6*7^12 + 6*7^13 + 6*7^14 + 6*7^15 + 6*7^16 + 6*7^17 + 6*7^18 + 6*7^19 + 6*7^20 + 6*7^21 + 6*7^22 + O(7^23), 7 + O(7^21)]\n",
      "verbose 1 (72: cluster_pictures.py, __init__) 1\n",
      "verbose 1 (72: cluster_pictures.py, __init__) defaultdict(<class 'list'>, {0: [0, 1, 2], 3: [3]})\n",
      "verbose 1 (72: cluster_pictures.py, __init__) [150   3   3]\n",
      "[  3  23   3]\n",
      "[  3   3  23]\n",
      "verbose 1 (72: cluster_pictures.py, __init__) [0, 7^3 + O(7^23), 6*7^3 + 6*7^4 + 6*7^5 + 6*7^6 + 6*7^7 + 6*7^8 + 6*7^9 + 6*7^10 + 6*7^11 + 6*7^12 + 6*7^13 + 6*7^14 + 6*7^15 + 6*7^16 + 6*7^17 + 6*7^18 + 6*7^19 + 6*7^20 + 6*7^21 + 6*7^22 + O(7^23)]\n",
      "verbose 1 (72: cluster_pictures.py, __init__) 3\n",
      "verbose 1 (72: cluster_pictures.py, __init__) defaultdict(<class 'list'>, {0: [0], 1: [1], 2: [2]})\n",
      "verbose 1 (72: cluster_pictures.py, __init__) [150]\n",
      "verbose 1 (72: cluster_pictures.py, __init__) [0]\n",
      "verbose 1 (72: cluster_pictures.py, __init__) 150\n",
      "verbose 1 (72: cluster_pictures.py, __init__) defaultdict(<class 'list'>, {})\n",
      "verbose 1 (72: cluster_pictures.py, __init__) [23]\n",
      "verbose 1 (72: cluster_pictures.py, __init__) [7^3 + O(7^23)]\n",
      "verbose 1 (72: cluster_pictures.py, __init__) 23\n",
      "verbose 1 (72: cluster_pictures.py, __init__) defaultdict(<class 'list'>, {})\n",
      "verbose 1 (72: cluster_pictures.py, __init__) [23]\n",
      "verbose 1 (72: cluster_pictures.py, __init__) [6*7^3 + 6*7^4 + 6*7^5 + 6*7^6 + 6*7^7 + 6*7^8 + 6*7^9 + 6*7^10 + 6*7^11 + 6*7^12 + 6*7^13 + 6*7^14 + 6*7^15 + 6*7^16 + 6*7^17 + 6*7^18 + 6*7^19 + 6*7^20 + 6*7^21 + 6*7^22 + O(7^23)]\n",
      "verbose 1 (72: cluster_pictures.py, __init__) 23\n",
      "verbose 1 (72: cluster_pictures.py, __init__) defaultdict(<class 'list'>, {})\n",
      "verbose 1 (72: cluster_pictures.py, __init__) [21]\n",
      "verbose 1 (72: cluster_pictures.py, __init__) [7 + O(7^21)]\n",
      "verbose 1 (72: cluster_pictures.py, __init__) 21\n",
      "verbose 1 (72: cluster_pictures.py, __init__) defaultdict(<class 'list'>, {})\n",
      "verbose 1 (72: cluster_pictures.py, __init__) [16  2  2]\n",
      "[ 2 16  2]\n",
      "[ 2  2 16]\n",
      "verbose 1 (72: cluster_pictures.py, __init__) [1 + O(7^16), 1 + 7^2 + O(7^16), 1 + 6*7^2 + 6*7^3 + 6*7^4 + 6*7^5 + 6*7^6 + 6*7^7 + 6*7^8 + 6*7^9 + 6*7^10 + 6*7^11 + 6*7^12 + 6*7^13 + 6*7^14 + 6*7^15 + O(7^16)]\n",
      "verbose 1 (72: cluster_pictures.py, __init__) 2\n",
      "verbose 1 (72: cluster_pictures.py, __init__) defaultdict(<class 'list'>, {0: [0], 1: [1], 2: [2]})\n",
      "verbose 1 (72: cluster_pictures.py, __init__) [16]\n",
      "verbose 1 (72: cluster_pictures.py, __init__) [1 + O(7^16)]\n",
      "verbose 1 (72: cluster_pictures.py, __init__) 16\n",
      "verbose 1 (72: cluster_pictures.py, __init__) defaultdict(<class 'list'>, {})\n",
      "verbose 1 (72: cluster_pictures.py, __init__) [16]\n",
      "verbose 1 (72: cluster_pictures.py, __init__) [1 + 7^2 + O(7^16)]\n",
      "verbose 1 (72: cluster_pictures.py, __init__) 16\n",
      "verbose 1 (72: cluster_pictures.py, __init__) defaultdict(<class 'list'>, {})\n",
      "verbose 1 (72: cluster_pictures.py, __init__) [16]\n",
      "verbose 1 (72: cluster_pictures.py, __init__) [1 + 6*7^2 + 6*7^3 + 6*7^4 + 6*7^5 + 6*7^6 + 6*7^7 + 6*7^8 + 6*7^9 + 6*7^10 + 6*7^11 + 6*7^12 + 6*7^13 + 6*7^14 + 6*7^15 + O(7^16)]\n",
      "verbose 1 (72: cluster_pictures.py, __init__) 16\n",
      "verbose 1 (72: cluster_pictures.py, __init__) defaultdict(<class 'list'>, {})\n",
      "verbose 1 (123: cluster_pictures.py, from_roots) [0, 7^3 + O(7^23), 6*7^3 + 6*7^4 + 6*7^5 + 6*7^6 + 6*7^7 + 6*7^8 + 6*7^9 + 6*7^10 + 6*7^11 + 6*7^12 + 6*7^13 + 6*7^14 + 6*7^15 + 6*7^16 + 6*7^17 + 6*7^18 + 6*7^19 + 6*7^20 + 6*7^21 + 6*7^22 + O(7^23), 7 + O(7^21), 1 + O(7^16), 1 + 7^2 + O(7^16), 1 + 6*7^2 + 6*7^3 + 6*7^4 + 6*7^5 + 6*7^6 + 6*7^7 + 6*7^8 + 6*7^9 + 6*7^10 + 6*7^11 + 6*7^12 + 6*7^13 + 6*7^14 + 6*7^15 + O(7^16)]\n"
     ]
    },
    {
     "data": {
      "text/plain": [
       "Cluster with 7 roots and 2 children"
      ]
     },
     "execution_count": 20,
     "metadata": {},
     "output_type": "execute_result"
    }
   ],
   "source": [
    "R =  Cluster.from_roots(r); R"
   ]
  },
  {
   "cell_type": "code",
   "execution_count": 21,
   "metadata": {},
   "outputs": [
    {
     "name": "stdout",
     "output_type": "stream",
     "text": [
      "Cluster with 7 roots and 2 children\n",
      "[0, 7^3 + O(7^23), 6*7^3 + 6*7^4 + 6*7^5 + 6*7^6 + 6*7^7 + 6*7^8 + 6*7^9 + 6*7^10 + 6*7^11 + 6*7^12 + 6*7^13 + 6*7^14 + 6*7^15 + 6*7^16 + 6*7^17 + 6*7^18 + 6*7^19 + 6*7^20 + 6*7^21 + 6*7^22 + O(7^23), 7 + O(7^21), 1 + O(7^16), 1 + 7^2 + O(7^16), 1 + 6*7^2 + 6*7^3 + 6*7^4 + 6*7^5 + 6*7^6 + 6*7^7 + 6*7^8 + 6*7^9 + 6*7^10 + 6*7^11 + 6*7^12 + 6*7^13 + 6*7^14 + 6*7^15 + O(7^16)]\n",
      "Cluster with 4 roots and 2 children\n",
      "[0, 7^3 + O(7^23), 6*7^3 + 6*7^4 + 6*7^5 + 6*7^6 + 6*7^7 + 6*7^8 + 6*7^9 + 6*7^10 + 6*7^11 + 6*7^12 + 6*7^13 + 6*7^14 + 6*7^15 + 6*7^16 + 6*7^17 + 6*7^18 + 6*7^19 + 6*7^20 + 6*7^21 + 6*7^22 + O(7^23), 7 + O(7^21)]\n",
      "Cluster with 3 roots and 3 children\n",
      "[0, 7^3 + O(7^23), 6*7^3 + 6*7^4 + 6*7^5 + 6*7^6 + 6*7^7 + 6*7^8 + 6*7^9 + 6*7^10 + 6*7^11 + 6*7^12 + 6*7^13 + 6*7^14 + 6*7^15 + 6*7^16 + 6*7^17 + 6*7^18 + 6*7^19 + 6*7^20 + 6*7^21 + 6*7^22 + O(7^23)]\n",
      "Cluster with 1 roots and 0 children\n",
      "[0]\n",
      "Cluster with 1 roots and 0 children\n",
      "[7^3 + O(7^23)]\n",
      "Cluster with 1 roots and 0 children\n",
      "[6*7^3 + 6*7^4 + 6*7^5 + 6*7^6 + 6*7^7 + 6*7^8 + 6*7^9 + 6*7^10 + 6*7^11 + 6*7^12 + 6*7^13 + 6*7^14 + 6*7^15 + 6*7^16 + 6*7^17 + 6*7^18 + 6*7^19 + 6*7^20 + 6*7^21 + 6*7^22 + O(7^23)]\n",
      "Cluster with 1 roots and 0 children\n",
      "[7 + O(7^21)]\n",
      "Cluster with 3 roots and 3 children\n",
      "[1 + O(7^16), 1 + 7^2 + O(7^16), 1 + 6*7^2 + 6*7^3 + 6*7^4 + 6*7^5 + 6*7^6 + 6*7^7 + 6*7^8 + 6*7^9 + 6*7^10 + 6*7^11 + 6*7^12 + 6*7^13 + 6*7^14 + 6*7^15 + O(7^16)]\n",
      "Cluster with 1 roots and 0 children\n",
      "[1 + O(7^16)]\n",
      "Cluster with 1 roots and 0 children\n",
      "[1 + 7^2 + O(7^16)]\n",
      "Cluster with 1 roots and 0 children\n",
      "[1 + 6*7^2 + 6*7^3 + 6*7^4 + 6*7^5 + 6*7^6 + 6*7^7 + 6*7^8 + 6*7^9 + 6*7^10 + 6*7^11 + 6*7^12 + 6*7^13 + 6*7^14 + 6*7^15 + O(7^16)]\n"
     ]
    }
   ],
   "source": [
    "for s in R.all_descendents():\n",
    "    print(s)\n",
    "    print(s.roots())"
   ]
  },
  {
   "cell_type": "code",
   "execution_count": 77,
   "metadata": {},
   "outputs": [
    {
     "ename": "AttributeError",
     "evalue": "type object 'R' has no attribute 'roots'",
     "output_type": "error",
     "traceback": [
      "\u001b[1;31m---------------------------------------------------------------------------\u001b[0m",
      "\u001b[1;31mAttributeError\u001b[0m                            Traceback (most recent call last)",
      "\u001b[1;32m<ipython-input-77-9c858cc34824>\u001b[0m in \u001b[0;36m<module>\u001b[1;34m()\u001b[0m\n\u001b[1;32m----> 1\u001b[1;33m \u001b[0mR\u001b[0m\u001b[1;33m.\u001b[0m\u001b[0mroots\u001b[0m\u001b[1;33m(\u001b[0m\u001b[1;33m)\u001b[0m\u001b[1;33m\u001b[0m\u001b[1;33m\u001b[0m\u001b[0m\n\u001b[0m",
      "\u001b[1;31mAttributeError\u001b[0m: type object 'R' has no attribute 'roots'"
     ]
    }
   ],
   "source": [
    "R.roots()"
   ]
  },
  {
   "cell_type": "code",
   "execution_count": 78,
   "metadata": {},
   "outputs": [
    {
     "data": {
      "text/plain": [
       "Cluster with 5 roots and 2 children"
      ]
     },
     "execution_count": 78,
     "metadata": {},
     "output_type": "execute_result"
    }
   ],
   "source": [
    "p = 3\n",
    "set_verbose(0)\n",
    "K =Qp(p)\n",
    "C = Cluster.from_roots([K(1), K(p), K(2*p), K(2*p + p^2), K(2*p + 2*p^2), K(2*p + 2*p^2+p^3)])\n",
    "C.children()[1]"
   ]
  },
  {
   "cell_type": "code",
   "execution_count": 79,
   "metadata": {},
   "outputs": [
    {
     "data": {
      "image/png": "[encoded data removed]",
      "text/plain": [
       "<IPython.core.display.Image object>"
      ]
     },
     "execution_count": 79,
     "metadata": {},
     "output_type": "execute_result"
    }
   ],
   "source": [
    "view(C)"
   ]
  },
  {
   "cell_type": "code",
   "execution_count": 80,
   "metadata": {},
   "outputs": [
    {
     "data": {
      "text/plain": [
       " \\def\\cdepthscale{0.5}   \\clusterpicture\\Root[A] {2} {first} {mc1};\n",
       "\\Root[A] {2} {mc1} {mc2c1};\n",
       "\\Root[A] {2} {mc2c1} {mc2c2c1};\n",
       "\\Root[A] {2} {mc2c2c1} {mc2c2c2};\n",
       "\\Root[A] {2} {mc2c2c2} {mc2c2c3c1};\n",
       "\\Root[A] {2} {mc2c2c3c1} {mc2c2c3c2};\n",
       "\\ClusterLD mc2c2c3[][1] = (mc2c2c3c1)(mc2c2c3c2);\n",
       "\\ClusterLD mc2c2[][1] = (mc2c2c1)(mc2c2c2)(mc2c2c3);\n",
       "\\ClusterLD mc2[][1] = (mc2c1)(mc2c2);\n",
       "\\ClusterLD m[][0] = (mc1)(mc2);\n",
       "\\endclusterpicture"
      ]
     },
     "execution_count": 80,
     "metadata": {},
     "output_type": "execute_result"
    }
   ],
   "source": [
    "latex(C)"
   ]
  },
  {
   "cell_type": "code",
   "execution_count": 81,
   "metadata": {},
   "outputs": [
    {
     "data": {
      "image/png": "[encoded data removed]",
      "text/plain": [
       "<IPython.core.display.Image object>"
      ]
     },
     "execution_count": 81,
     "metadata": {},
     "output_type": "execute_result"
    }
   ],
   "source": [
    "view(C.children()[1])"
   ]
  },
  {
   "cell_type": "code",
   "execution_count": 82,
   "metadata": {},
   "outputs": [
    {
     "name": "stdout",
     "output_type": "stream",
     "text": [
      "Cluster with 4 roots and 3 children\n"
     ]
    }
   ],
   "source": [
    "for A in C.all_descendents():\n",
    "    if A.is_principal():\n",
    "        print(A)"
   ]
  },
  {
   "cell_type": "code",
   "execution_count": 83,
   "metadata": {},
   "outputs": [
    {
     "data": {
      "text/plain": [
       "True"
      ]
     },
     "execution_count": 83,
     "metadata": {},
     "output_type": "execute_result"
    }
   ],
   "source": [
    "C.children()[1].is_cotwin()"
   ]
  },
  {
   "cell_type": "code",
   "execution_count": 84,
   "metadata": {},
   "outputs": [
    {
     "data": {
      "text/plain": [
       "False"
      ]
     },
     "execution_count": 84,
     "metadata": {},
     "output_type": "execute_result"
    }
   ],
   "source": [
    "C.is_principal()"
   ]
  },
  {
   "cell_type": "code",
   "execution_count": 73,
   "metadata": {},
   "outputs": [
    {
     "name": "stdout",
     "output_type": "stream",
     "text": [
      "verbose 1 (1139: cluster_pictures.py, BY_tree) Cluster with 6 roots and 2 children\n",
      "verbose 1 (1139: cluster_pictures.py, BY_tree) Cluster with 1 roots and 0 children\n",
      "verbose 1 (1139: cluster_pictures.py, BY_tree) Cluster with 5 roots and 2 children\n",
      "verbose 1 (1395: cluster_pictures.py, add_blue_edge) (Cluster with 6 roots and 2 children, Cluster with 5 roots and 2 children, 1)\n",
      "verbose 1 (1139: cluster_pictures.py, BY_tree) Cluster with 1 roots and 0 children\n",
      "verbose 1 (1139: cluster_pictures.py, BY_tree) Cluster with 4 roots and 3 children\n",
      "verbose 1 (1426: cluster_pictures.py, add_yellow_edge) (Cluster with 5 roots and 2 children, Cluster with 4 roots and 3 children, 2)\n",
      "verbose 1 (1139: cluster_pictures.py, BY_tree) Cluster with 1 roots and 0 children\n",
      "verbose 1 (1139: cluster_pictures.py, BY_tree) Cluster with 1 roots and 0 children\n",
      "verbose 1 (1139: cluster_pictures.py, BY_tree) Cluster with 2 roots and 2 children\n",
      "verbose 1 (1426: cluster_pictures.py, add_yellow_edge) (Cluster with 4 roots and 3 children, Cluster with 2 roots and 2 children, 2)\n",
      "verbose 1 (1139: cluster_pictures.py, BY_tree) Cluster with 1 roots and 0 children\n",
      "verbose 1 (1139: cluster_pictures.py, BY_tree) Cluster with 1 roots and 0 children\n",
      "verbose 1 (1139: cluster_pictures.py, BY_tree) BY-tree with 0 yellow vertices, 3 blue vertices, 2 yellow edges, 0, blue edges\n",
      "verbose 1 (1636: cluster_pictures.py, graphplot) {'title': 'BY-tree with 0 yellow vertices, 3 blue vertices, 2 yellow edges, 0, blue edges', 'vertex_colors': {'lightskyblue': [Cluster with 5 roots and 2 children, Cluster with 4 roots and 3 children, Cluster with 2 roots and 2 children], 'khaki': []}, 'edge_colors': {'lightskyblue': [], 'khaki': [(Cluster with 5 roots and 2 children, Cluster with 4 roots and 3 children, 2), (Cluster with 4 roots and 3 children, Cluster with 2 roots and 2 children, 2)]}, 'edge_thickness': 3, 'vertex_labels': False, 'edge_labels': True}\n"
     ]
    },
    {
     "data": {
      "image/png": "[encoded data removed]",
      "text/plain": [
       "BY-tree with 0 yellow vertices, 3 blue vertices, 2 yellow edges, 0, blue edges"
      ]
     },
     "execution_count": 73,
     "metadata": {},
     "output_type": "execute_result"
    }
   ],
   "source": [
    "set_verbose(1)\n",
    "C.BY_tree()"
   ]
  },
  {
   "cell_type": "code",
   "execution_count": 74,
   "metadata": {},
   "outputs": [
    {
     "data": {
      "text/plain": [
       "2"
      ]
     },
     "execution_count": 74,
     "metadata": {},
     "output_type": "execute_result"
    }
   ],
   "source": [
    "C.potential_toric_rank()"
   ]
  },
  {
   "cell_type": "code",
   "execution_count": null,
   "metadata": {},
   "outputs": [],
   "source": []
  },
  {
   "cell_type": "code",
   "execution_count": 63,
   "metadata": {},
   "outputs": [
    {
     "name": "stdout",
     "output_type": "stream",
     "text": [
      "verbose 1 (71: cluster_pictures.py, __init__) [150   4   2   2   1   0]\n",
      "[  4  24   2   2   1   0]\n",
      "[  2   2  21   3   1   0]\n",
      "[  2   2   3  21   1   0]\n",
      "[  1   1   1   1  21   0]\n",
      "[  0   0   0   0   0  20]\n",
      "verbose 1 (71: cluster_pictures.py, __init__) [0, 3^4 + O(3^24), 3^2 + O(3^21), 3^2 + 3^3 + O(3^21), 3 + O(3^21), 1 + O(3^20)]\n",
      "verbose 1 (71: cluster_pictures.py, __init__) 0\n",
      "verbose 1 (71: cluster_pictures.py, __init__) defaultdict(<class 'list'>, {0: [0, 1, 2, 3, 4], 5: [5]})\n",
      "verbose 1 (71: cluster_pictures.py, __init__) [150   4   2   2   1]\n",
      "[  4  24   2   2   1]\n",
      "[  2   2  21   3   1]\n",
      "[  2   2   3  21   1]\n",
      "[  1   1   1   1  21]\n",
      "verbose 1 (71: cluster_pictures.py, __init__) [0, 3^4 + O(3^24), 3^2 + O(3^21), 3^2 + 3^3 + O(3^21), 3 + O(3^21)]\n",
      "verbose 1 (71: cluster_pictures.py, __init__) 1\n",
      "verbose 1 (71: cluster_pictures.py, __init__) defaultdict(<class 'list'>, {0: [0, 1, 2, 3], 4: [4]})\n",
      "verbose 1 (71: cluster_pictures.py, __init__) [150   4   2   2]\n",
      "[  4  24   2   2]\n",
      "[  2   2  21   3]\n",
      "[  2   2   3  21]\n",
      "verbose 1 (71: cluster_pictures.py, __init__) [0, 3^4 + O(3^24), 3^2 + O(3^21), 3^2 + 3^3 + O(3^21)]\n",
      "verbose 1 (71: cluster_pictures.py, __init__) 2\n",
      "verbose 1 (71: cluster_pictures.py, __init__) defaultdict(<class 'list'>, {0: [0, 1], 2: [2, 3]})\n",
      "verbose 1 (71: cluster_pictures.py, __init__) [150   4]\n",
      "[  4  24]\n",
      "verbose 1 (71: cluster_pictures.py, __init__) [0, 3^4 + O(3^24)]\n",
      "verbose 1 (71: cluster_pictures.py, __init__) 4\n",
      "verbose 1 (71: cluster_pictures.py, __init__) defaultdict(<class 'list'>, {0: [0], 1: [1]})\n",
      "verbose 1 (71: cluster_pictures.py, __init__) [150]\n",
      "verbose 1 (71: cluster_pictures.py, __init__) [0]\n",
      "verbose 1 (71: cluster_pictures.py, __init__) 150\n",
      "verbose 1 (71: cluster_pictures.py, __init__) defaultdict(<class 'list'>, {})\n",
      "verbose 1 (71: cluster_pictures.py, __init__) [24]\n",
      "verbose 1 (71: cluster_pictures.py, __init__) [3^4 + O(3^24)]\n",
      "verbose 1 (71: cluster_pictures.py, __init__) 24\n",
      "verbose 1 (71: cluster_pictures.py, __init__) defaultdict(<class 'list'>, {})\n",
      "verbose 1 (71: cluster_pictures.py, __init__) [21  3]\n",
      "[ 3 21]\n",
      "verbose 1 (71: cluster_pictures.py, __init__) [3^2 + O(3^21), 3^2 + 3^3 + O(3^21)]\n",
      "verbose 1 (71: cluster_pictures.py, __init__) 3\n",
      "verbose 1 (71: cluster_pictures.py, __init__) defaultdict(<class 'list'>, {0: [0], 1: [1]})\n",
      "verbose 1 (71: cluster_pictures.py, __init__) [21]\n",
      "verbose 1 (71: cluster_pictures.py, __init__) [3^2 + O(3^21)]\n",
      "verbose 1 (71: cluster_pictures.py, __init__) 21\n",
      "verbose 1 (71: cluster_pictures.py, __init__) defaultdict(<class 'list'>, {})\n",
      "verbose 1 (71: cluster_pictures.py, __init__) [21]\n",
      "verbose 1 (71: cluster_pictures.py, __init__) [3^2 + 3^3 + O(3^21)]\n",
      "verbose 1 (71: cluster_pictures.py, __init__) 21\n",
      "verbose 1 (71: cluster_pictures.py, __init__) defaultdict(<class 'list'>, {})\n",
      "verbose 1 (71: cluster_pictures.py, __init__) [21]\n",
      "verbose 1 (71: cluster_pictures.py, __init__) [3 + O(3^21)]\n",
      "verbose 1 (71: cluster_pictures.py, __init__) 21\n",
      "verbose 1 (71: cluster_pictures.py, __init__) defaultdict(<class 'list'>, {})\n",
      "verbose 1 (71: cluster_pictures.py, __init__) [20]\n",
      "verbose 1 (71: cluster_pictures.py, __init__) [1 + O(3^20)]\n",
      "verbose 1 (71: cluster_pictures.py, __init__) 20\n",
      "verbose 1 (71: cluster_pictures.py, __init__) defaultdict(<class 'list'>, {})\n",
      "verbose 1 (122: cluster_pictures.py, from_roots) [0, 3^4 + O(3^24), 3^2 + O(3^21), 3^2 + 3^3 + O(3^21), 3 + O(3^21), 1 + O(3^20)]\n"
     ]
    },
    {
     "data": {
      "image/png": "[encoded data removed]",
      "text/plain": [
       "<IPython.core.display.Image object>"
      ]
     },
     "execution_count": 63,
     "metadata": {},
     "output_type": "execute_result"
    }
   ],
   "source": [
    "p=3\n",
    "K = Qp(p)\n",
    "x = polygen(K)\n",
    "C = Cluster.from_polynomial(x*(x-1)*(x-p)*(x-p^2)*(x-p^3-p^2)*(x-p^4))\n",
    "view(C)"
   ]
  },
  {
   "cell_type": "code",
   "execution_count": 64,
   "metadata": {},
   "outputs": [
    {
     "name": "stdout",
     "output_type": "stream",
     "text": [
      "Cluster with 4 roots and 2 children\n"
     ]
    }
   ],
   "source": [
    "for A in C.all_descendents():\n",
    "    if A.is_principal():\n",
    "        print(A)"
   ]
  },
  {
   "cell_type": "code",
   "execution_count": 65,
   "metadata": {},
   "outputs": [
    {
     "name": "stdout",
     "output_type": "stream",
     "text": [
      "verbose 1 (1139: cluster_pictures.py, BY_tree) Cluster with 6 roots and 2 children\n",
      "verbose 1 (1139: cluster_pictures.py, BY_tree) Cluster with 5 roots and 2 children\n",
      "verbose 1 (1395: cluster_pictures.py, add_blue_edge) (Cluster with 6 roots and 2 children, Cluster with 5 roots and 2 children, 1)\n",
      "verbose 1 (1139: cluster_pictures.py, BY_tree) Cluster with 4 roots and 2 children\n",
      "verbose 1 (1426: cluster_pictures.py, add_yellow_edge) (Cluster with 5 roots and 2 children, Cluster with 4 roots and 2 children, 2)\n",
      "verbose 1 (1139: cluster_pictures.py, BY_tree) Cluster with 2 roots and 2 children\n",
      "verbose 1 (1426: cluster_pictures.py, add_yellow_edge) (Cluster with 4 roots and 2 children, Cluster with 2 roots and 2 children, 4)\n",
      "verbose 1 (1139: cluster_pictures.py, BY_tree) Cluster with 1 roots and 0 children\n",
      "verbose 1 (1139: cluster_pictures.py, BY_tree) Cluster with 1 roots and 0 children\n",
      "verbose 1 (1139: cluster_pictures.py, BY_tree) Cluster with 2 roots and 2 children\n",
      "verbose 1 (1426: cluster_pictures.py, add_yellow_edge) (Cluster with 4 roots and 2 children, Cluster with 2 roots and 2 children, 2)\n",
      "verbose 1 (1139: cluster_pictures.py, BY_tree) Cluster with 1 roots and 0 children\n",
      "verbose 1 (1139: cluster_pictures.py, BY_tree) Cluster with 1 roots and 0 children\n",
      "verbose 1 (1139: cluster_pictures.py, BY_tree) Cluster with 1 roots and 0 children\n",
      "verbose 1 (1139: cluster_pictures.py, BY_tree) Cluster with 1 roots and 0 children\n",
      "verbose 1 (1139: cluster_pictures.py, BY_tree) BY-tree with 1 yellow vertices, 3 blue vertices, 3 yellow edges, 0, blue edges\n",
      "verbose 1 (1636: cluster_pictures.py, graphplot) {'title': 'BY-tree with 1 yellow vertices, 3 blue vertices, 3 yellow edges, 0, blue edges', 'vertex_colors': {'lightskyblue': [Cluster with 5 roots and 2 children, Cluster with 2 roots and 2 children, Cluster with 2 roots and 2 children], 'khaki': [Cluster with 4 roots and 2 children]}, 'edge_colors': {'lightskyblue': [], 'khaki': [(Cluster with 5 roots and 2 children, Cluster with 4 roots and 2 children, 2), (Cluster with 4 roots and 2 children, Cluster with 2 roots and 2 children, 4), (Cluster with 4 roots and 2 children, Cluster with 2 roots and 2 children, 2)]}, 'edge_thickness': 3, 'vertex_labels': False, 'edge_labels': True}\n"
     ]
    },
    {
     "data": {
      "image/png": "[encoded data removed]",
      "text/plain": [
       "BY-tree with 1 yellow vertices, 3 blue vertices, 3 yellow edges, 0, blue edges"
      ]
     },
     "execution_count": 65,
     "metadata": {},
     "output_type": "execute_result"
    }
   ],
   "source": [
    "C.BY_tree()"
   ]
  },
  {
   "cell_type": "code",
   "execution_count": 66,
   "metadata": {},
   "outputs": [
    {
     "data": {
      "text/plain": [
       "2"
      ]
     },
     "execution_count": 66,
     "metadata": {},
     "output_type": "execute_result"
    }
   ],
   "source": [
    "C.potential_toric_rank()"
   ]
  },
  {
   "cell_type": "code",
   "execution_count": 75,
   "metadata": {},
   "outputs": [
    {
     "data": {
      "text/plain": [
       "False"
      ]
     },
     "execution_count": 75,
     "metadata": {},
     "output_type": "execute_result"
    }
   ],
   "source": [
    "C.is_principal()"
   ]
  },
  {
   "cell_type": "code",
   "execution_count": 3,
   "metadata": {},
   "outputs": [],
   "source": [
    "K = Qp(5)"
   ]
  },
  {
   "cell_type": "code",
   "execution_count": 4,
   "metadata": {},
   "outputs": [
    {
     "data": {
      "text/plain": [
       "Cluster with 1 roots and 0 children"
      ]
     },
     "execution_count": 4,
     "metadata": {},
     "output_type": "execute_result"
    }
   ],
   "source": [
    "C = Cluster.from_roots([K(1), K(5), K(10)])\n",
    "C.is_principal()\n",
    "C.children()[0]"
   ]
  },
  {
   "cell_type": "code",
   "execution_count": 8,
   "metadata": {},
   "outputs": [],
   "source": [
    "C = Cluster.from_roots([K(1), K(6), K(5), K(10)])"
   ]
  },
  {
   "cell_type": "code",
   "execution_count": 9,
   "metadata": {},
   "outputs": [
    {
     "data": {
      "image/png": "[encoded data removed]",
      "text/plain": [
       "<IPython.core.display.Image object>"
      ]
     },
     "execution_count": 9,
     "metadata": {},
     "output_type": "execute_result"
    }
   ],
   "source": [
    "view(C)"
   ]
  },
  {
   "cell_type": "code",
   "execution_count": 11,
   "metadata": {},
   "outputs": [
    {
     "data": {
      "text/plain": [
       "False"
      ]
     },
     "execution_count": 11,
     "metadata": {},
     "output_type": "execute_result"
    }
   ],
   "source": [
    "C.is_cotwin()"
   ]
  },
  {
   "cell_type": "code",
   "execution_count": null,
   "metadata": {},
   "outputs": [],
   "source": []
  }
 ],
 "metadata": {
  "kernelspec": {
   "display_name": "SageMath 9.2.beta0",
   "language": "sage",
   "name": "sagemath"
  },
  "language_info": {
   "codemirror_mode": {
    "name": "ipython",
    "version": 3
   },
   "file_extension": ".py",
   "mimetype": "text/x-python",
   "name": "python",
   "nbconvert_exporter": "python",
   "pygments_lexer": "ipython3",
   "version": "3.7.3"
  },
  "varInspector": {
   "cols": {
    "lenName": 16,
    "lenType": 16,
    "lenVar": 40
   },
   "kernels_config": {
    "python": {
     "delete_cmd_postfix": "",
     "delete_cmd_prefix": "del ",
     "library": "var_list.py",
     "varRefreshCmd": "print(var_dic_list())"
    },
    "r": {
     "delete_cmd_postfix": ") ",
     "delete_cmd_prefix": "rm(",
     "library": "var_list.r",
     "varRefreshCmd": "cat(var_dic_list()) "
    }
   },
   "types_to_exclude": [
    "module",
    "function",
    "builtin_function_or_method",
    "instance",
    "_Feature"
   ],
   "window_display": false
  }
 },
 "nbformat": 4,
 "nbformat_minor": 2
}
