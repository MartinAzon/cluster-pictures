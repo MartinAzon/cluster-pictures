{
 "cells": [
  {
   "cell_type": "code",
   "execution_count": 34,
   "metadata": {},
   "outputs": [],
   "source": [
    "%reload_ext autoreload\n",
    "%autoreload 2\n",
    "from sage_cluster_pictures import *\n",
    "set_verbose(1)"
   ]
  },
  {
   "cell_type": "code",
   "execution_count": 35,
   "metadata": {},
   "outputs": [
    {
     "data": {
      "text/plain": [
       "BY-tree with 0 yellow vertices, 0 blue vertices, 0 yellow edges, 0, blue edges (use the .plot() method to plot)"
      ]
     },
     "execution_count": 35,
     "metadata": {},
     "output_type": "execute_result"
    }
   ],
   "source": [
    "G = BYTree()\n",
    "G"
   ]
  },
  {
   "cell_type": "code",
   "execution_count": 36,
   "metadata": {},
   "outputs": [
    {
     "name": "stdout",
     "output_type": "stream",
     "text": [
      "verbose 1 (1017: cluster_pictures.py, add_yellow_edge) ('v1', 'v4', 1)\n",
      "verbose 1 (1017: cluster_pictures.py, add_yellow_edge) ('v2', 'v4', 1)\n",
      "verbose 1 (986: cluster_pictures.py, add_blue_edge) ('v3', 'v4', 2)\n"
     ]
    }
   ],
   "source": [
    "G.add_blue_vertex('v1',1)\n",
    "G.add_blue_vertex('v2',2)\n",
    "G.add_yellow_vertex('v3')\n",
    "G.add_yellow_vertex('v4')\n",
    "G.add_yellow_edge(('v4','v1',1))\n",
    "G.add_yellow_edge(('v4','v2',1))\n",
    "G.add_blue_edge(('v3','v4',2))"
   ]
  },
  {
   "cell_type": "code",
   "execution_count": 37,
   "metadata": {},
   "outputs": [
    {
     "name": "stdout",
     "output_type": "stream",
     "text": [
      "verbose 1 (1219: cluster_pictures.py, graphplot) {'title': 'BY-tree with 2 yellow vertices, 2 blue vertices, 2 yellow edges, 1, blue edges', 'vertex_colors': {'lightskyblue': ['v1', 'v2'], 'khaki': ['v3', 'v4']}, 'edge_colors': {'lightskyblue': [('v3', 'v4', 2)], 'khaki': [('v1', 'v4', 1), ('v2', 'v4', 1)]}, 'edge_thickness': 3, 'vertex_labels': False, 'edge_labels': True}\n"
     ]
    },
    {
     "data": {
      "image/png": "[encoded data removed]",
      "text/plain": [
       "BY-tree with 2 yellow vertices, 2 blue vertices, 2 yellow edges, 1, blue edges"
      ]
     },
     "execution_count": 37,
     "metadata": {},
     "output_type": "execute_result"
    }
   ],
   "source": [
    "G"
   ]
  },
  {
   "cell_type": "code",
   "execution_count": 38,
   "metadata": {},
   "outputs": [
    {
     "data": {
      "text/plain": [
       "(('v1', 'v4', 1), ('v1', 'v4', 1))"
      ]
     },
     "execution_count": 38,
     "metadata": {},
     "output_type": "execute_result"
    }
   ],
   "source": [
    "G.edges_incident('v4')[0], G.edges_incident('v1')[0]"
   ]
  },
  {
   "cell_type": "code",
   "execution_count": 39,
   "metadata": {},
   "outputs": [
    {
     "data": {
      "text/plain": [
       "['v1', 'v2', 'v3', 'v4']"
      ]
     },
     "execution_count": 39,
     "metadata": {},
     "output_type": "execute_result"
    }
   ],
   "source": [
    "G.vertices()"
   ]
  },
  {
   "cell_type": "code",
   "execution_count": 40,
   "metadata": {},
   "outputs": [],
   "source": [
    "from sage.graphs.graph_plot import graphplot_options"
   ]
  },
  {
   "cell_type": "code",
   "execution_count": 41,
   "metadata": {
    "scrolled": true
   },
   "outputs": [
    {
     "data": {
      "text/plain": [
       "{'layout': 'A layout algorithm -- one of : \"acyclic\", \"circular\" (plots the graph with vertices evenly distributed on a circle), \"ranked\", \"graphviz\", \"planar\", \"spring\" (traditional spring layout, using the graph\\'s current positions as initial positions), or \"tree\" (the tree will be plotted in levels, depending on minimum distance for the root).',\n",
       " 'iterations': 'The number of times to execute the spring layout algorithm.',\n",
       " 'heights': 'A dictionary mapping heights to the list of vertices at this height.',\n",
       " 'spring': 'Use spring layout to finalize the current layout.',\n",
       " 'tree_root': \"A vertex designation for drawing trees. A vertex of the tree to be used as the root for the ``layout='tree'`` option. If no root is specified, then one is chosen close to the center of the tree. Ignored unless ``layout='tree'``\",\n",
       " 'tree_orientation': \"The direction of tree branches -- 'up', 'down', 'left' or 'right'.\",\n",
       " 'save_pos': 'Whether or not to save the computed position for the graph.',\n",
       " 'dim': 'The dimension of the layout -- 2 or 3.',\n",
       " 'prog': 'Which graphviz layout program to use -- one of \"circo\", \"dot\", \"fdp\", \"neato\", or \"twopi\".',\n",
       " 'by_component': 'Whether to do the spring layout by connected component -- a boolean.',\n",
       " 'pos': 'The position dictionary of vertices',\n",
       " 'vertex_labels': 'Whether or not to draw vertex labels.',\n",
       " 'vertex_color': 'Default color for vertices not listed in vertex_colors dictionary.',\n",
       " 'vertex_colors': 'Dictionary of vertex coloring : each key is a color recognizable by matplotlib, and each corresponding entry is a list of vertices. ',\n",
       " 'vertex_size': 'The size to draw the vertices.',\n",
       " 'vertex_shape': 'The shape to draw the vertices. Currently unavailable for Multi-edged DiGraphs.',\n",
       " 'edge_labels': 'Whether or not to draw edge labels.',\n",
       " 'edge_style': 'The linestyle of the edges. It should be one of \"solid\", \"dashed\", \"dotted\", dashdot\", or \"-\", \"--\", \":\", \"-.\", respectively. ',\n",
       " 'edge_thickness': 'The thickness of the edges.',\n",
       " 'edge_color': 'The default color for edges not listed in edge_colors.',\n",
       " 'edge_colors': 'a dictionary specifying edge colors: each key is a color recognized by matplotlib, and each entry is a list of edges.',\n",
       " 'color_by_label': 'Whether to color the edges according to their labels. This also accepts a function or dictionary mapping labels to colors.',\n",
       " 'partition': 'A partition of the vertex set. If specified, plot will show each cell in a different color. vertex_colors takes precedence.',\n",
       " 'loop_size': 'The radius of the smallest loop.',\n",
       " 'dist': 'The distance between multiedges.',\n",
       " 'max_dist': 'The max distance range to allow multiedges.',\n",
       " 'talk': 'Whether to display the vertices in talk mode (larger and white).',\n",
       " 'graph_border': 'Whether or not to draw a frame around the graph.',\n",
       " 'edge_labels_background': 'The color of the background of the edge labels'}"
      ]
     },
     "execution_count": 41,
     "metadata": {},
     "output_type": "execute_result"
    }
   ],
   "source": [
    "graphplot_options"
   ]
  },
  {
   "cell_type": "code",
   "execution_count": 42,
   "metadata": {},
   "outputs": [
    {
     "name": "stdout",
     "output_type": "stream",
     "text": [
      "verbose 1 (1017: cluster_pictures.py, add_yellow_edge) ('v1', 'v2', 2)\n"
     ]
    },
    {
     "data": {
      "text/plain": [
       "True"
      ]
     },
     "execution_count": 42,
     "metadata": {},
     "output_type": "execute_result"
    }
   ],
   "source": [
    "T = BYTree()\n",
    "T.add_blue_vertex('v1', 1)\n",
    "T.add_blue_vertex('v2', 0)\n",
    "T.add_yellow_edge(('v1', 'v2', 2))\n",
    "T.validate()\n"
   ]
  },
  {
   "cell_type": "code",
   "execution_count": 43,
   "metadata": {},
   "outputs": [
    {
     "data": {
      "text/plain": [
       "[('v1', 'v2', 2)]"
      ]
     },
     "execution_count": 43,
     "metadata": {},
     "output_type": "execute_result"
    }
   ],
   "source": [
    "T.yellow_edges()"
   ]
  },
  {
   "cell_type": "code",
   "execution_count": 44,
   "metadata": {},
   "outputs": [
    {
     "data": {
      "text/plain": [
       "[]"
      ]
     },
     "execution_count": 44,
     "metadata": {},
     "output_type": "execute_result"
    }
   ],
   "source": [
    "T.blue_edges()"
   ]
  },
  {
   "cell_type": "code",
   "execution_count": 45,
   "metadata": {},
   "outputs": [
    {
     "name": "stdout",
     "output_type": "stream",
     "text": [
      "verbose 1 (1017: cluster_pictures.py, add_yellow_edge) ('v1', 'v4', 2)\n",
      "verbose 1 (1017: cluster_pictures.py, add_yellow_edge) ('v2', 'v4', 2)\n",
      "verbose 1 (1017: cluster_pictures.py, add_yellow_edge) ('v4', 'v6', 2)\n",
      "verbose 1 (1017: cluster_pictures.py, add_yellow_edge) ('v4', 'v7', 2)\n",
      "verbose 1 (986: cluster_pictures.py, add_blue_edge) ('v5', 'v7', 2)\n",
      "verbose 1 (1017: cluster_pictures.py, add_yellow_edge) ('v3', 'v5', 2)\n",
      "verbose 1 (1017: cluster_pictures.py, add_yellow_edge) ('v5', 'v8', 2)\n",
      "verbose 1 (1219: cluster_pictures.py, graphplot) {'vertex_colors': {'lightskyblue': ['v1', 'v2', 'v3', 'v5', 'v6', 'v7', 'v8'], 'khaki': ['v4']}, 'edge_colors': {'lightskyblue': [('v5', 'v7', 2)], 'khaki': [('v1', 'v4', 2), ('v2', 'v4', 2), ('v4', 'v6', 2), ('v4', 'v7', 2), ('v3', 'v5', 2), ('v5', 'v8', 2)]}, 'edge_thickness': 3, 'vertex_labels': False, 'edge_labels': True}\n"
     ]
    },
    {
     "data": {
      "image/png": "[encoded data removed]",
      "text/plain": [
       "Graphics object consisting of 15 graphics primitives"
      ]
     },
     "execution_count": 45,
     "metadata": {},
     "output_type": "execute_result"
    }
   ],
   "source": [
    "T = BYTree()\n",
    "T.add_blue_vertex('v1')\n",
    "T.add_blue_vertex('v2')\n",
    "T.add_blue_vertex('v3')\n",
    "T.add_yellow_vertex('v4')\n",
    "T.add_blue_vertex('v5')\n",
    "T.add_blue_vertex('v6')\n",
    "T.add_blue_vertex('v7')\n",
    "T.add_blue_vertex('v8')\n",
    "T.add_yellow_edge(('v1', 'v4', 2))\n",
    "T.add_yellow_edge(('v2', 'v4', 2))\n",
    "T.add_yellow_edge(('v6', 'v4', 2))\n",
    "T.add_yellow_edge(('v7', 'v4', 2))\n",
    "T.add_blue_edge(('v7', 'v5', 2))\n",
    "T.add_yellow_edge(('v3', 'v5', 2))\n",
    "T.add_yellow_edge(('v8', 'v5', 2))\n",
    "plot(T)"
   ]
  },
  {
   "cell_type": "code",
   "execution_count": 46,
   "metadata": {},
   "outputs": [
    {
     "data": {
      "text/plain": [
       "True"
      ]
     },
     "execution_count": 46,
     "metadata": {},
     "output_type": "execute_result"
    }
   ],
   "source": [
    "T.validate()"
   ]
  },
  {
   "cell_type": "code",
   "execution_count": 47,
   "metadata": {},
   "outputs": [
    {
     "data": {
      "text/plain": [
       "[('v1', 'v4', 2), ('v2', 'v4', 2), ('v3', 'v5', 2), ('v4', 'v6', 2), ('v4', 'v7', 2), ('v5', 'v7', 2), ('v5', 'v8', 2)]"
      ]
     },
     "execution_count": 47,
     "metadata": {},
     "output_type": "execute_result"
    }
   ],
   "source": [
    "T.edges(sort=False)"
   ]
  },
  {
   "cell_type": "code",
   "execution_count": 48,
   "metadata": {},
   "outputs": [
    {
     "data": {
      "text/plain": [
       "False"
      ]
     },
     "execution_count": 48,
     "metadata": {},
     "output_type": "execute_result"
    }
   ],
   "source": [
    "T.has_loops()"
   ]
  },
  {
   "cell_type": "code",
   "execution_count": 49,
   "metadata": {},
   "outputs": [
    {
     "data": {
      "text/plain": [
       "['v4']"
      ]
     },
     "execution_count": 49,
     "metadata": {},
     "output_type": "execute_result"
    }
   ],
   "source": [
    "T.yellow_vertices()"
   ]
  },
  {
   "cell_type": "code",
   "execution_count": 50,
   "metadata": {},
   "outputs": [
    {
     "data": {
      "text/plain": [
       "[('v1', 'v4', 2), ('v2', 'v4', 2), ('v4', 'v6', 2), ('v4', 'v7', 2)]"
      ]
     },
     "execution_count": 50,
     "metadata": {},
     "output_type": "execute_result"
    }
   ],
   "source": [
    "T.edges_incident('v4')"
   ]
  },
  {
   "cell_type": "code",
   "execution_count": 51,
   "metadata": {},
   "outputs": [
    {
     "data": {
      "text/plain": [
       "2"
      ]
     },
     "execution_count": 51,
     "metadata": {},
     "output_type": "execute_result"
    }
   ],
   "source": [
    "T.shortest_path_length('v8','v7')"
   ]
  },
  {
   "cell_type": "code",
   "execution_count": 52,
   "metadata": {},
   "outputs": [
    {
     "data": {
      "text/plain": [
       "['v8', 'v5', 'v7']"
      ]
     },
     "execution_count": 52,
     "metadata": {},
     "output_type": "execute_result"
    }
   ],
   "source": [
    "T.shortest_path('v8','v7')"
   ]
  },
  {
   "cell_type": "code",
   "execution_count": 53,
   "metadata": {},
   "outputs": [
    {
     "data": {
      "text/plain": [
       "4"
      ]
     },
     "execution_count": 53,
     "metadata": {},
     "output_type": "execute_result"
    }
   ],
   "source": [
    "T.distance('v8', 'v7', by_weight=True)"
   ]
  },
  {
   "cell_type": "code",
   "execution_count": 54,
   "metadata": {},
   "outputs": [
    {
     "name": "stdout",
     "output_type": "stream",
     "text": [
      "verbose 1 (43: cluster_pictures.py, __init__) [300  15  12  12   2   2]\n",
      "[ 15 300  12  12   2   2]\n",
      "[ 12  12 300  18   2   2]\n",
      "[ 12  12  18 300   2   2]\n",
      "[  2   2   2   2 300   2]\n",
      "[  2   2   2   2   2 300]\n",
      "verbose 1 (43: cluster_pictures.py, __init__) 2\n",
      "verbose 1 (43: cluster_pictures.py, __init__) defaultdict(<class 'list'>, {0: [0, 1, 2, 3], 4: [4], 5: [5]})\n",
      "verbose 1 (43: cluster_pictures.py, __init__) [300  15  12  12]\n",
      "[ 15 300  12  12]\n",
      "[ 12  12 300  18]\n",
      "[ 12  12  18 300]\n",
      "verbose 1 (43: cluster_pictures.py, __init__) 12\n",
      "verbose 1 (43: cluster_pictures.py, __init__) defaultdict(<class 'list'>, {0: [0, 1], 2: [2, 3]})\n",
      "verbose 1 (43: cluster_pictures.py, __init__) [300  15]\n",
      "[ 15 300]\n",
      "verbose 1 (43: cluster_pictures.py, __init__) 15\n",
      "verbose 1 (43: cluster_pictures.py, __init__) defaultdict(<class 'list'>, {0: [0], 1: [1]})\n",
      "verbose 1 (43: cluster_pictures.py, __init__) [300]\n",
      "verbose 1 (43: cluster_pictures.py, __init__) 300\n",
      "verbose 1 (43: cluster_pictures.py, __init__) defaultdict(<class 'list'>, {})\n",
      "verbose 1 (43: cluster_pictures.py, __init__) [300]\n",
      "verbose 1 (43: cluster_pictures.py, __init__) 300\n",
      "verbose 1 (43: cluster_pictures.py, __init__) defaultdict(<class 'list'>, {})\n",
      "verbose 1 (43: cluster_pictures.py, __init__) [300  18]\n",
      "[ 18 300]\n",
      "verbose 1 (43: cluster_pictures.py, __init__) 18\n",
      "verbose 1 (43: cluster_pictures.py, __init__) defaultdict(<class 'list'>, {0: [0], 1: [1]})\n",
      "verbose 1 (43: cluster_pictures.py, __init__) [300]\n",
      "verbose 1 (43: cluster_pictures.py, __init__) 300\n",
      "verbose 1 (43: cluster_pictures.py, __init__) defaultdict(<class 'list'>, {})\n",
      "verbose 1 (43: cluster_pictures.py, __init__) [300]\n",
      "verbose 1 (43: cluster_pictures.py, __init__) 300\n",
      "verbose 1 (43: cluster_pictures.py, __init__) defaultdict(<class 'list'>, {})\n",
      "verbose 1 (43: cluster_pictures.py, __init__) [300]\n",
      "verbose 1 (43: cluster_pictures.py, __init__) 300\n",
      "verbose 1 (43: cluster_pictures.py, __init__) defaultdict(<class 'list'>, {})\n",
      "verbose 1 (43: cluster_pictures.py, __init__) [300]\n",
      "verbose 1 (43: cluster_pictures.py, __init__) 300\n",
      "verbose 1 (43: cluster_pictures.py, __init__) defaultdict(<class 'list'>, {})\n"
     ]
    }
   ],
   "source": [
    "K = Qp(7,150)\n",
    "x = polygen(K) \n",
    "L = K.extension(x^2 + 1, names='a')\n",
    "x = polygen(L)\n",
    "L2 = L.extension(x^2 - 7, names='b')\n",
    "x = polygen(L2)\n",
    "H = HyperellipticCurve((x^2+7^2)*(x^2-7^(15))*(x-7^6)*(x-7^6  -7^9))\n",
    "R = Cluster.from_curve(H)"
   ]
  },
  {
   "cell_type": "code",
   "execution_count": 55,
   "metadata": {},
   "outputs": [
    {
     "name": "stdout",
     "output_type": "stream",
     "text": [
      "verbose 1 (798: cluster_pictures.py, BY_tree) Cluster with 6 roots and 3 children\n",
      "verbose 1 (798: cluster_pictures.py, BY_tree) Cluster with 4 roots and 2 children\n",
      "verbose 1 (1017: cluster_pictures.py, add_yellow_edge) (Cluster with 6 roots and 3 children, Cluster with 4 roots and 2 children, 20)\n",
      "verbose 1 (798: cluster_pictures.py, BY_tree) Cluster with 2 roots and 2 children\n",
      "verbose 1 (1017: cluster_pictures.py, add_yellow_edge) (Cluster with 4 roots and 2 children, Cluster with 2 roots and 2 children, 6)\n",
      "verbose 1 (798: cluster_pictures.py, BY_tree) Cluster with 2 roots and 2 children\n",
      "verbose 1 (1017: cluster_pictures.py, add_yellow_edge) (Cluster with 4 roots and 2 children, Cluster with 2 roots and 2 children, 12)\n",
      "verbose 1 (798: cluster_pictures.py, BY_tree) Cluster with 1 roots and 0 children\n",
      "verbose 1 (798: cluster_pictures.py, BY_tree) Cluster with 1 roots and 0 children\n",
      "verbose 1 (1219: cluster_pictures.py, graphplot) {'title': 'BY-tree with 1 yellow vertices, 3 blue vertices, 3 yellow edges, 0, blue edges', 'vertex_colors': {'lightskyblue': [Cluster with 6 roots and 3 children, Cluster with 2 roots and 2 children, Cluster with 2 roots and 2 children], 'khaki': [Cluster with 4 roots and 2 children]}, 'edge_colors': {'lightskyblue': [], 'khaki': [(Cluster with 6 roots and 3 children, Cluster with 4 roots and 2 children, 20), (Cluster with 4 roots and 2 children, Cluster with 2 roots and 2 children, 6), (Cluster with 4 roots and 2 children, Cluster with 2 roots and 2 children, 12)]}, 'edge_thickness': 3, 'vertex_labels': False, 'edge_labels': True}\n"
     ]
    },
    {
     "data": {
      "image/png": "[encoded data removed]",
      "text/plain": [
       "BY-tree with 1 yellow vertices, 3 blue vertices, 3 yellow edges, 0, blue edges"
      ]
     },
     "execution_count": 55,
     "metadata": {},
     "output_type": "execute_result"
    }
   ],
   "source": [
    "T = R.BY_tree()\n",
    "T"
   ]
  },
  {
   "cell_type": "code",
   "execution_count": 56,
   "metadata": {},
   "outputs": [
    {
     "data": {
      "text/plain": [
       "[Cluster with 6 roots and 3 children,\n",
       " Cluster with 4 roots and 2 children,\n",
       " Cluster with 2 roots and 2 children,\n",
       " Cluster with 2 roots and 2 children]"
      ]
     },
     "execution_count": 56,
     "metadata": {},
     "output_type": "execute_result"
    }
   ],
   "source": [
    "T.vertices(sort=False)"
   ]
  },
  {
   "cell_type": "code",
   "execution_count": 57,
   "metadata": {},
   "outputs": [
    {
     "data": {
      "text/plain": [
       "[Cluster with 6 roots and 3 children,\n",
       " Cluster with 2 roots and 2 children,\n",
       " Cluster with 2 roots and 2 children]"
      ]
     },
     "execution_count": 57,
     "metadata": {},
     "output_type": "execute_result"
    }
   ],
   "source": [
    "T.blue_vertices()"
   ]
  },
  {
   "cell_type": "code",
   "execution_count": 58,
   "metadata": {},
   "outputs": [
    {
     "data": {
      "text/plain": [
       "[Cluster with 4 roots and 2 children]"
      ]
     },
     "execution_count": 58,
     "metadata": {},
     "output_type": "execute_result"
    }
   ],
   "source": [
    "T.yellow_vertices()"
   ]
  },
  {
   "cell_type": "code",
   "execution_count": 59,
   "metadata": {},
   "outputs": [
    {
     "name": "stdout",
     "output_type": "stream",
     "text": [
      "verbose 1 (1113: cluster_pictures.py, validate) yellow vertex with non-yellow edge\n"
     ]
    },
    {
     "data": {
      "text/plain": [
       "False"
      ]
     },
     "execution_count": 59,
     "metadata": {},
     "output_type": "execute_result"
    }
   ],
   "source": [
    "T.validate()"
   ]
  },
  {
   "cell_type": "code",
   "execution_count": 60,
   "metadata": {},
   "outputs": [
    {
     "name": "stdout",
     "output_type": "stream",
     "text": [
      "(Cluster with 6 roots and 3 children, Cluster with 4 roots and 2 children, 20) True\n",
      "(Cluster with 2 roots and 2 children, Cluster with 4 roots and 2 children, 6) False\n",
      "(Cluster with 2 roots and 2 children, Cluster with 4 roots and 2 children, 12) False\n"
     ]
    }
   ],
   "source": [
    "for y in T.yellow_vertices():\n",
    "   for e in T.edges_incident(y):\n",
    "       print(e,e in T.yellow_edges())"
   ]
  },
  {
   "cell_type": "code",
   "execution_count": 30,
   "metadata": {},
   "outputs": [
    {
     "data": {
      "text/plain": [
       "[(Cluster with 6 roots and 3 children,\n",
       "  Cluster with 4 roots and 2 children,\n",
       "  20),\n",
       " (Cluster with 4 roots and 2 children, Cluster with 2 roots and 2 children, 6),\n",
       " (Cluster with 4 roots and 2 children,\n",
       "  Cluster with 2 roots and 2 children,\n",
       "  12)]"
      ]
     },
     "execution_count": 30,
     "metadata": {},
     "output_type": "execute_result"
    }
   ],
   "source": [
    "T.yellow_edges()"
   ]
  },
  {
   "cell_type": "code",
   "execution_count": 31,
   "metadata": {},
   "outputs": [
    {
     "data": {
      "text/plain": [
       "[(Cluster with 6 roots and 3 children,\n",
       "  Cluster with 4 roots and 2 children,\n",
       "  20),\n",
       " (Cluster with 2 roots and 2 children, Cluster with 4 roots and 2 children, 6),\n",
       " (Cluster with 2 roots and 2 children,\n",
       "  Cluster with 4 roots and 2 children,\n",
       "  12)]"
      ]
     },
     "execution_count": 31,
     "metadata": {},
     "output_type": "execute_result"
    }
   ],
   "source": [
    "T.edges_incident(y)"
   ]
  },
  {
   "cell_type": "code",
   "execution_count": null,
   "metadata": {},
   "outputs": [],
   "source": [
    "T.yellow_edges()[] == T.edges_incident(y)"
   ]
  },
  {
   "cell_type": "code",
   "execution_count": 63,
   "metadata": {},
   "outputs": [
    {
     "data": {
      "text/plain": [
       "(Cluster with 4 roots and 2 children, Cluster with 2 roots and 2 children, 6)"
      ]
     },
     "execution_count": 63,
     "metadata": {},
     "output_type": "execute_result"
    }
   ],
   "source": [
    "T.edges_incident(T.edges_incident(y)[1][0])[0]"
   ]
  },
  {
   "cell_type": "code",
   "execution_count": 66,
   "metadata": {},
   "outputs": [
    {
     "data": {
      "text/plain": [
       "[(Cluster with 6 roots and 3 children,\n",
       "  Cluster with 4 roots and 2 children,\n",
       "  20),\n",
       " (Cluster with 2 roots and 2 children, Cluster with 4 roots and 2 children, 6),\n",
       " (Cluster with 2 roots and 2 children,\n",
       "  Cluster with 4 roots and 2 children,\n",
       "  12)]"
      ]
     },
     "execution_count": 66,
     "metadata": {},
     "output_type": "execute_result"
    }
   ],
   "source": [
    "T.edges_incident(y)"
   ]
  },
  {
   "cell_type": "code",
   "execution_count": 65,
   "metadata": {},
   "outputs": [
    {
     "data": {
      "text/plain": [
       "Cluster with 4 roots and 2 children"
      ]
     },
     "execution_count": 65,
     "metadata": {},
     "output_type": "execute_result"
    }
   ],
   "source": [
    "y"
   ]
  },
  {
   "cell_type": "code",
   "execution_count": 68,
   "metadata": {},
   "outputs": [],
   "source": [
    "T.edges_incident??"
   ]
  },
  {
   "cell_type": "code",
   "execution_count": null,
   "metadata": {},
   "outputs": [],
   "source": []
  }
 ],
 "metadata": {
  "kernelspec": {
   "display_name": "SageMath 9.2.beta0",
   "language": "sage",
   "name": "sagemath"
  },
  "language_info": {
   "codemirror_mode": {
    "name": "ipython",
    "version": 3
   },
   "file_extension": ".py",
   "mimetype": "text/x-python",
   "name": "python",
   "nbconvert_exporter": "python",
   "pygments_lexer": "ipython3",
   "version": "3.7.3"
  },
  "varInspector": {
   "cols": {
    "lenName": 16,
    "lenType": 16,
    "lenVar": 40
   },
   "kernels_config": {
    "python": {
     "delete_cmd_postfix": "",
     "delete_cmd_prefix": "del ",
     "library": "var_list.py",
     "varRefreshCmd": "print(var_dic_list())"
    },
    "r": {
     "delete_cmd_postfix": ") ",
     "delete_cmd_prefix": "rm(",
     "library": "var_list.r",
     "varRefreshCmd": "cat(var_dic_list()) "
    }
   },
   "types_to_exclude": [
    "module",
    "function",
    "builtin_function_or_method",
    "instance",
    "_Feature"
   ],
   "window_display": false
  }
 },
 "nbformat": 4,
 "nbformat_minor": 2
}
