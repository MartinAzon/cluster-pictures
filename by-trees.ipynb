{
 "cells": [
  {
   "cell_type": "code",
   "execution_count": 1,
   "metadata": {},
   "outputs": [],
   "source": [
    "%reload_ext autoreload\n",
    "%autoreload 2\n",
    "from sage_cluster_pictures import *\n",
    "set_verbose(0)"
   ]
  },
  {
   "cell_type": "code",
   "execution_count": 2,
   "metadata": {},
   "outputs": [
    {
     "data": {
      "text/plain": [
       "BY-tree with 0 yellow vertices, 0 blue vertices, 0 yellow edges, 0, blue edges (use the .plot() method to plot)"
      ]
     },
     "execution_count": 2,
     "metadata": {},
     "output_type": "execute_result"
    }
   ],
   "source": [
    "G = BYTree()\n",
    "G"
   ]
  },
  {
   "cell_type": "markdown",
   "metadata": {},
   "source": [
    "We can construct a BY tree by hand."
   ]
  },
  {
   "cell_type": "code",
   "execution_count": 3,
   "metadata": {},
   "outputs": [],
   "source": [
    "G.add_blue_vertex('v1',1)\n",
    "G.add_blue_vertex('v2',2)\n",
    "G.add_yellow_vertex('v3')\n",
    "G.add_yellow_vertex('v4')\n",
    "G.add_yellow_edge(('v4','v1',1))\n",
    "G.add_yellow_edge(('v4','v2',1))\n",
    "G.add_blue_edge(('v3','v4',2))"
   ]
  },
  {
   "cell_type": "code",
   "execution_count": 4,
   "metadata": {},
   "outputs": [
    {
     "data": {
      "image/png": "[encoded data removed]",
      "text/plain": [
       "BY-tree with 2 yellow vertices, 2 blue vertices, 2 yellow edges, 1, blue edges"
      ]
     },
     "execution_count": 4,
     "metadata": {},
     "output_type": "execute_result"
    }
   ],
   "source": [
    "G"
   ]
  },
  {
   "cell_type": "code",
   "execution_count": 5,
   "metadata": {},
   "outputs": [
    {
     "data": {
      "text/plain": [
       "(('v1', 'v4', 1), ('v1', 'v4', 1))"
      ]
     },
     "execution_count": 5,
     "metadata": {},
     "output_type": "execute_result"
    }
   ],
   "source": [
    "G.edges_incident('v4')[0], G.edges_incident('v1')[0]"
   ]
  },
  {
   "cell_type": "code",
   "execution_count": 6,
   "metadata": {},
   "outputs": [
    {
     "data": {
      "text/plain": [
       "['v1', 'v2', 'v3', 'v4']"
      ]
     },
     "execution_count": 6,
     "metadata": {},
     "output_type": "execute_result"
    }
   ],
   "source": [
    "G.vertices()"
   ]
  },
  {
   "cell_type": "code",
   "execution_count": 7,
   "metadata": {},
   "outputs": [],
   "source": [
    "from sage.graphs.graph_plot import graphplot_options"
   ]
  },
  {
   "cell_type": "code",
   "execution_count": 8,
   "metadata": {
    "scrolled": true
   },
   "outputs": [
    {
     "data": {
      "text/plain": [
       "{'layout': 'A layout algorithm -- one of : \"acyclic\", \"circular\" (plots the graph with vertices evenly distributed on a circle), \"ranked\", \"graphviz\", \"planar\", \"spring\" (traditional spring layout, using the graph\\'s current positions as initial positions), or \"tree\" (the tree will be plotted in levels, depending on minimum distance for the root).',\n",
       " 'iterations': 'The number of times to execute the spring layout algorithm.',\n",
       " 'heights': 'A dictionary mapping heights to the list of vertices at this height.',\n",
       " 'spring': 'Use spring layout to finalize the current layout.',\n",
       " 'tree_root': \"A vertex designation for drawing trees. A vertex of the tree to be used as the root for the ``layout='tree'`` option. If no root is specified, then one is chosen close to the center of the tree. Ignored unless ``layout='tree'``\",\n",
       " 'tree_orientation': \"The direction of tree branches -- 'up', 'down', 'left' or 'right'.\",\n",
       " 'save_pos': 'Whether or not to save the computed position for the graph.',\n",
       " 'dim': 'The dimension of the layout -- 2 or 3.',\n",
       " 'prog': 'Which graphviz layout program to use -- one of \"circo\", \"dot\", \"fdp\", \"neato\", or \"twopi\".',\n",
       " 'by_component': 'Whether to do the spring layout by connected component -- a boolean.',\n",
       " 'pos': 'The position dictionary of vertices',\n",
       " 'vertex_labels': 'Whether or not to draw vertex labels.',\n",
       " 'vertex_color': 'Default color for vertices not listed in vertex_colors dictionary.',\n",
       " 'vertex_colors': 'Dictionary of vertex coloring : each key is a color recognizable by matplotlib, and each corresponding entry is a list of vertices. ',\n",
       " 'vertex_size': 'The size to draw the vertices.',\n",
       " 'vertex_shape': 'The shape to draw the vertices. Currently unavailable for Multi-edged DiGraphs.',\n",
       " 'edge_labels': 'Whether or not to draw edge labels.',\n",
       " 'edge_style': 'The linestyle of the edges. It should be one of \"solid\", \"dashed\", \"dotted\", dashdot\", or \"-\", \"--\", \":\", \"-.\", respectively. ',\n",
       " 'edge_thickness': 'The thickness of the edges.',\n",
       " 'edge_color': 'The default color for edges not listed in edge_colors.',\n",
       " 'edge_colors': 'a dictionary specifying edge colors: each key is a color recognized by matplotlib, and each entry is a list of edges.',\n",
       " 'color_by_label': 'Whether to color the edges according to their labels. This also accepts a function or dictionary mapping labels to colors.',\n",
       " 'partition': 'A partition of the vertex set. If specified, plot will show each cell in a different color. vertex_colors takes precedence.',\n",
       " 'loop_size': 'The radius of the smallest loop.',\n",
       " 'dist': 'The distance between multiedges.',\n",
       " 'max_dist': 'The max distance range to allow multiedges.',\n",
       " 'talk': 'Whether to display the vertices in talk mode (larger and white).',\n",
       " 'graph_border': 'Whether or not to draw a frame around the graph.',\n",
       " 'edge_labels_background': 'The color of the background of the edge labels'}"
      ]
     },
     "execution_count": 8,
     "metadata": {},
     "output_type": "execute_result"
    }
   ],
   "source": [
    "graphplot_options"
   ]
  },
  {
   "cell_type": "code",
   "execution_count": 9,
   "metadata": {},
   "outputs": [
    {
     "data": {
      "text/plain": [
       "True"
      ]
     },
     "execution_count": 9,
     "metadata": {},
     "output_type": "execute_result"
    }
   ],
   "source": [
    "T = BYTree()\n",
    "T.add_blue_vertex('v1', 1)\n",
    "T.add_blue_vertex('v2', 0)\n",
    "T.add_yellow_edge(('v1', 'v2', 2))\n",
    "T.validate()\n"
   ]
  },
  {
   "cell_type": "code",
   "execution_count": 10,
   "metadata": {},
   "outputs": [
    {
     "data": {
      "text/plain": [
       "[('v1', 'v2', 2)]"
      ]
     },
     "execution_count": 10,
     "metadata": {},
     "output_type": "execute_result"
    }
   ],
   "source": [
    "T.yellow_edges()"
   ]
  },
  {
   "cell_type": "code",
   "execution_count": 11,
   "metadata": {},
   "outputs": [
    {
     "data": {
      "text/plain": [
       "[]"
      ]
     },
     "execution_count": 11,
     "metadata": {},
     "output_type": "execute_result"
    }
   ],
   "source": [
    "T.blue_edges()"
   ]
  },
  {
   "cell_type": "code",
   "execution_count": 12,
   "metadata": {},
   "outputs": [
    {
     "data": {
      "image/png": "[encoded data removed]",
      "text/plain": [
       "Graphics object consisting of 15 graphics primitives"
      ]
     },
     "execution_count": 12,
     "metadata": {},
     "output_type": "execute_result"
    }
   ],
   "source": [
    "T = BYTree()\n",
    "T.add_blue_vertex('v1')\n",
    "T.add_blue_vertex('v2')\n",
    "T.add_blue_vertex('v3')\n",
    "T.add_yellow_vertex('v4')\n",
    "T.add_blue_vertex('v5')\n",
    "T.add_blue_vertex('v6')\n",
    "T.add_blue_vertex('v7')\n",
    "T.add_blue_vertex('v8')\n",
    "T.add_yellow_edge(('v1', 'v4', 2))\n",
    "T.add_yellow_edge(('v2', 'v4', 2))\n",
    "T.add_yellow_edge(('v6', 'v4', 2))\n",
    "T.add_yellow_edge(('v7', 'v4', 2))\n",
    "T.add_blue_edge(('v7', 'v5', 2))\n",
    "T.add_yellow_edge(('v3', 'v5', 2))\n",
    "T.add_yellow_edge(('v8', 'v5', 2))\n",
    "plot(T)"
   ]
  },
  {
   "cell_type": "code",
   "execution_count": 13,
   "metadata": {},
   "outputs": [
    {
     "data": {
      "text/plain": [
       "True"
      ]
     },
     "execution_count": 13,
     "metadata": {},
     "output_type": "execute_result"
    }
   ],
   "source": [
    "T.validate()"
   ]
  },
  {
   "cell_type": "code",
   "execution_count": 14,
   "metadata": {},
   "outputs": [
    {
     "data": {
      "text/plain": [
       "[('v1', 'v4', 2), ('v2', 'v4', 2), ('v3', 'v5', 2), ('v4', 'v6', 2), ('v4', 'v7', 2), ('v5', 'v7', 2), ('v5', 'v8', 2)]"
      ]
     },
     "execution_count": 14,
     "metadata": {},
     "output_type": "execute_result"
    }
   ],
   "source": [
    "T.edges(sort=False)"
   ]
  },
  {
   "cell_type": "code",
   "execution_count": 15,
   "metadata": {},
   "outputs": [
    {
     "data": {
      "text/plain": [
       "False"
      ]
     },
     "execution_count": 15,
     "metadata": {},
     "output_type": "execute_result"
    }
   ],
   "source": [
    "T.has_loops()"
   ]
  },
  {
   "cell_type": "code",
   "execution_count": 16,
   "metadata": {},
   "outputs": [
    {
     "data": {
      "text/plain": [
       "['v4']"
      ]
     },
     "execution_count": 16,
     "metadata": {},
     "output_type": "execute_result"
    }
   ],
   "source": [
    "T.yellow_vertices()"
   ]
  },
  {
   "cell_type": "code",
   "execution_count": 17,
   "metadata": {},
   "outputs": [
    {
     "data": {
      "text/plain": [
       "[('v1', 'v4', 2), ('v2', 'v4', 2), ('v4', 'v6', 2), ('v4', 'v7', 2)]"
      ]
     },
     "execution_count": 17,
     "metadata": {},
     "output_type": "execute_result"
    }
   ],
   "source": [
    "T.edges_incident('v4')"
   ]
  },
  {
   "cell_type": "code",
   "execution_count": 18,
   "metadata": {},
   "outputs": [
    {
     "data": {
      "text/plain": [
       "2"
      ]
     },
     "execution_count": 18,
     "metadata": {},
     "output_type": "execute_result"
    }
   ],
   "source": [
    "T.shortest_path_length('v8','v7')"
   ]
  },
  {
   "cell_type": "code",
   "execution_count": 19,
   "metadata": {},
   "outputs": [
    {
     "data": {
      "text/plain": [
       "['v8', 'v5', 'v7']"
      ]
     },
     "execution_count": 19,
     "metadata": {},
     "output_type": "execute_result"
    }
   ],
   "source": [
    "T.shortest_path('v8','v7')"
   ]
  },
  {
   "cell_type": "code",
   "execution_count": 20,
   "metadata": {},
   "outputs": [
    {
     "data": {
      "text/plain": [
       "4"
      ]
     },
     "execution_count": 20,
     "metadata": {},
     "output_type": "execute_result"
    }
   ],
   "source": [
    "T.distance('v8', 'v7', by_weight=True)"
   ]
  },
  {
   "cell_type": "code",
   "execution_count": 21,
   "metadata": {},
   "outputs": [],
   "source": [
    "K = Qp(7,150)\n",
    "x = polygen(K) \n",
    "L = K.extension(x^2 + 1, names='a')\n",
    "x = polygen(L)\n",
    "L2 = L.extension(x^2 - 7, names='b')\n",
    "x = polygen(L2)\n",
    "H = HyperellipticCurve((x^2+7^2)*(x^2-7^(15))*(x-7^6)*(x-7^6  -7^9))\n",
    "R = Cluster.from_curve(H)"
   ]
  },
  {
   "cell_type": "code",
   "execution_count": 22,
   "metadata": {},
   "outputs": [
    {
     "data": {
      "image/png": "[encoded data removed]",
      "text/plain": [
       "BY-tree with 1 yellow vertices, 3 blue vertices, 3 yellow edges, 0, blue edges"
      ]
     },
     "execution_count": 22,
     "metadata": {},
     "output_type": "execute_result"
    }
   ],
   "source": [
    "T = R.BY_tree()\n",
    "T"
   ]
  },
  {
   "cell_type": "code",
   "execution_count": 23,
   "metadata": {},
   "outputs": [
    {
     "data": {
      "text/plain": [
       "[Cluster with 6 roots and 3 children,\n",
       " Cluster with 4 roots and 2 children,\n",
       " Cluster with 2 roots and 2 children,\n",
       " Cluster with 2 roots and 2 children]"
      ]
     },
     "execution_count": 23,
     "metadata": {},
     "output_type": "execute_result"
    }
   ],
   "source": [
    "T.vertices(sort=False)"
   ]
  },
  {
   "cell_type": "code",
   "execution_count": 24,
   "metadata": {},
   "outputs": [
    {
     "data": {
      "text/plain": [
       "[Cluster with 6 roots and 3 children,\n",
       " Cluster with 2 roots and 2 children,\n",
       " Cluster with 2 roots and 2 children]"
      ]
     },
     "execution_count": 24,
     "metadata": {},
     "output_type": "execute_result"
    }
   ],
   "source": [
    "T.blue_vertices()"
   ]
  },
  {
   "cell_type": "code",
   "execution_count": 25,
   "metadata": {},
   "outputs": [
    {
     "data": {
      "text/plain": [
       "[Cluster with 4 roots and 2 children]"
      ]
     },
     "execution_count": 25,
     "metadata": {},
     "output_type": "execute_result"
    }
   ],
   "source": [
    "T.yellow_vertices()"
   ]
  },
  {
   "cell_type": "code",
   "execution_count": 26,
   "metadata": {},
   "outputs": [
    {
     "data": {
      "text/plain": [
       "False"
      ]
     },
     "execution_count": 26,
     "metadata": {},
     "output_type": "execute_result"
    }
   ],
   "source": [
    "T.validate()"
   ]
  },
  {
   "cell_type": "code",
   "execution_count": 27,
   "metadata": {},
   "outputs": [
    {
     "name": "stdout",
     "output_type": "stream",
     "text": [
      "(Cluster with 6 roots and 3 children, Cluster with 4 roots and 2 children, 20) True\n",
      "(Cluster with 2 roots and 2 children, Cluster with 4 roots and 2 children, 6) False\n",
      "(Cluster with 2 roots and 2 children, Cluster with 4 roots and 2 children, 12) False\n"
     ]
    }
   ],
   "source": [
    "for y in T.yellow_vertices():\n",
    "   for e in T.edges_incident(y):\n",
    "       print(e,e in T.yellow_edges())"
   ]
  },
  {
   "cell_type": "code",
   "execution_count": 28,
   "metadata": {},
   "outputs": [
    {
     "data": {
      "text/plain": [
       "[(Cluster with 6 roots and 3 children,\n",
       "  Cluster with 4 roots and 2 children,\n",
       "  20),\n",
       " (Cluster with 4 roots and 2 children, Cluster with 2 roots and 2 children, 6),\n",
       " (Cluster with 4 roots and 2 children,\n",
       "  Cluster with 2 roots and 2 children,\n",
       "  12)]"
      ]
     },
     "execution_count": 28,
     "metadata": {},
     "output_type": "execute_result"
    }
   ],
   "source": [
    "T.yellow_edges()"
   ]
  },
  {
   "cell_type": "code",
   "execution_count": 29,
   "metadata": {},
   "outputs": [
    {
     "data": {
      "text/plain": [
       "[(Cluster with 6 roots and 3 children,\n",
       "  Cluster with 4 roots and 2 children,\n",
       "  20),\n",
       " (Cluster with 2 roots and 2 children, Cluster with 4 roots and 2 children, 6),\n",
       " (Cluster with 2 roots and 2 children,\n",
       "  Cluster with 4 roots and 2 children,\n",
       "  12)]"
      ]
     },
     "execution_count": 29,
     "metadata": {},
     "output_type": "execute_result"
    }
   ],
   "source": [
    "T.edges_incident(y)"
   ]
  },
  {
   "cell_type": "code",
   "execution_count": 30,
   "metadata": {},
   "outputs": [
    {
     "ename": "SyntaxError",
     "evalue": "invalid syntax (<ipython-input-30-7c531d278033>, line 1)",
     "output_type": "error",
     "traceback": [
      "\u001b[1;36m  File \u001b[1;32m\"<ipython-input-30-7c531d278033>\"\u001b[1;36m, line \u001b[1;32m1\u001b[0m\n\u001b[1;33m    T.yellow_edges()[] == T.edges_incident(y)\u001b[0m\n\u001b[1;37m                     ^\u001b[0m\n\u001b[1;31mSyntaxError\u001b[0m\u001b[1;31m:\u001b[0m invalid syntax\n"
     ]
    }
   ],
   "source": [
    "T.yellow_edges()[] == T.edges_incident(y)"
   ]
  },
  {
   "cell_type": "code",
   "execution_count": null,
   "metadata": {},
   "outputs": [],
   "source": [
    "T.edges_incident(T.edges_incident(y)[1][0])[0]"
   ]
  },
  {
   "cell_type": "code",
   "execution_count": null,
   "metadata": {},
   "outputs": [],
   "source": [
    "T.edges_incident(y)"
   ]
  },
  {
   "cell_type": "code",
   "execution_count": null,
   "metadata": {},
   "outputs": [],
   "source": [
    "y"
   ]
  },
  {
   "cell_type": "code",
   "execution_count": null,
   "metadata": {},
   "outputs": [],
   "source": [
    "T.edges_incident??"
   ]
  },
  {
   "cell_type": "code",
   "execution_count": 31,
   "metadata": {},
   "outputs": [],
   "source": [
    "K = Qp(7,150)\n",
    "x = polygen(K)\n",
    "L = K.extension(x^2 + 1, names='a')\n",
    "x = polygen(L)\n",
    "L2 = L.extension(x^2 - 7, names='b')\n",
    "x = polygen(L2)\n",
    "H = HyperellipticCurve((x^2+7^2)*(x^2-7^(15))*(x-7^6)*(x-7^6-7^9))\n",
    "R = Cluster.from_curve(H)\n",
    "a = R.children()[0]\n",
    "t1 = a.children()[0]\n",
    "t2 = a.children()[1]"
   ]
  },
  {
   "cell_type": "code",
   "execution_count": 32,
   "metadata": {},
   "outputs": [],
   "source": [
    "T = R.BY_tree()"
   ]
  },
  {
   "cell_type": "code",
   "execution_count": 33,
   "metadata": {},
   "outputs": [
    {
     "data": {
      "image/png": "[encoded data removed]",
      "text/plain": [
       "BY-tree with 1 yellow vertices, 3 blue vertices, 3 yellow edges, 0, blue edges"
      ]
     },
     "execution_count": 33,
     "metadata": {},
     "output_type": "execute_result"
    }
   ],
   "source": [
    "T"
   ]
  },
  {
   "cell_type": "code",
   "execution_count": 34,
   "metadata": {},
   "outputs": [
    {
     "data": {
      "image/png": "[encoded data removed]",
      "text/plain": [
       "BY-tree with 0 yellow vertices, 3 blue vertices, 0 yellow edges, 0, blue edges"
      ]
     },
     "execution_count": 34,
     "metadata": {},
     "output_type": "execute_result"
    }
   ],
   "source": [
    "T.blue_subgraph()"
   ]
  },
  {
   "cell_type": "code",
   "execution_count": 36,
   "metadata": {},
   "outputs": [
    {
     "ename": "RuntimeError",
     "evalue": "Multiedge and weighted c_graphs must be sparse.",
     "output_type": "error",
     "traceback": [
      "\u001b[1;31m---------------------------------------------------------------------------\u001b[0m",
      "\u001b[1;31mRuntimeError\u001b[0m                              Traceback (most recent call last)",
      "\u001b[1;32m<ipython-input-36-4fe2e2ec8271>\u001b[0m in \u001b[0;36m<module>\u001b[1;34m()\u001b[0m\n\u001b[1;32m----> 1\u001b[1;33m \u001b[0mT\u001b[0m\u001b[1;33m.\u001b[0m\u001b[0mcomplement\u001b[0m\u001b[1;33m(\u001b[0m\u001b[1;33m)\u001b[0m\u001b[1;33m\u001b[0m\u001b[1;33m\u001b[0m\u001b[0m\n\u001b[0m",
      "\u001b[1;32m/Users/alex/sage/local/lib/python3.7/site-packages/sage/graphs/generic_graph.py\u001b[0m in \u001b[0;36mcomplement\u001b[1;34m(self)\u001b[0m\n\u001b[0;32m  17607\u001b[0m         \u001b[0mself\u001b[0m\u001b[1;33m.\u001b[0m\u001b[0m_scream_if_not_simple\u001b[0m\u001b[1;33m(\u001b[0m\u001b[1;33m)\u001b[0m\u001b[1;33m\u001b[0m\u001b[1;33m\u001b[0m\u001b[0m\n\u001b[0;32m  17608\u001b[0m \u001b[1;33m\u001b[0m\u001b[0m\n\u001b[1;32m> 17609\u001b[1;33m         \u001b[0mG\u001b[0m \u001b[1;33m=\u001b[0m \u001b[0mself\u001b[0m\u001b[1;33m.\u001b[0m\u001b[0mcopy\u001b[0m\u001b[1;33m(\u001b[0m\u001b[0mdata_structure\u001b[0m\u001b[1;33m=\u001b[0m\u001b[1;34m'dense'\u001b[0m\u001b[1;33m)\u001b[0m\u001b[1;33m\u001b[0m\u001b[1;33m\u001b[0m\u001b[0m\n\u001b[0m\u001b[0;32m  17610\u001b[0m         \u001b[0mG\u001b[0m\u001b[1;33m.\u001b[0m\u001b[0m_backend\u001b[0m\u001b[1;33m.\u001b[0m\u001b[0mc_graph\u001b[0m\u001b[1;33m(\u001b[0m\u001b[1;33m)\u001b[0m\u001b[1;33m[\u001b[0m\u001b[1;36m0\u001b[0m\u001b[1;33m]\u001b[0m\u001b[1;33m.\u001b[0m\u001b[0mcomplement\u001b[0m\u001b[1;33m(\u001b[0m\u001b[1;33m)\u001b[0m\u001b[1;33m\u001b[0m\u001b[1;33m\u001b[0m\u001b[0m\n\u001b[0;32m  17611\u001b[0m \u001b[1;33m\u001b[0m\u001b[0m\n",
      "\u001b[1;32m/Users/alex/sage/local/lib/python3.7/site-packages/sage/graphs/generic_graph.py\u001b[0m in \u001b[0;36mcopy\u001b[1;34m(self, weighted, data_structure, sparse, immutable)\u001b[0m\n\u001b[0;32m   1197\u001b[0m         G = self.__class__(self, name=self.name(), pos=copy(self._pos),\n\u001b[0;32m   1198\u001b[0m                            \u001b[0mweighted\u001b[0m\u001b[1;33m=\u001b[0m\u001b[0mweighted\u001b[0m\u001b[1;33m,\u001b[0m\u001b[1;33m\u001b[0m\u001b[1;33m\u001b[0m\u001b[0m\n\u001b[1;32m-> 1199\u001b[1;33m                            data_structure=data_structure)\n\u001b[0m\u001b[0;32m   1200\u001b[0m \u001b[1;33m\u001b[0m\u001b[0m\n\u001b[0;32m   1201\u001b[0m         \u001b[0mattributes_to_copy\u001b[0m \u001b[1;33m=\u001b[0m \u001b[1;33m(\u001b[0m\u001b[1;34m'_assoc'\u001b[0m\u001b[1;33m,\u001b[0m \u001b[1;34m'_embedding'\u001b[0m\u001b[1;33m)\u001b[0m\u001b[1;33m\u001b[0m\u001b[1;33m\u001b[0m\u001b[0m\n",
      "\u001b[1;32m/Users/alex/clusters/sage_cluster_pictures/cluster_pictures.py\u001b[0m in \u001b[0;36m__init__\u001b[1;34m(self, *args, **kwargs)\u001b[0m\n\u001b[0;32m    912\u001b[0m         \"\"\"\n\u001b[0;32m    913\u001b[0m         \u001b[0mkwargs\u001b[0m\u001b[1;33m[\u001b[0m\u001b[1;34m'weighted'\u001b[0m\u001b[1;33m]\u001b[0m \u001b[1;33m=\u001b[0m \u001b[1;32mTrue\u001b[0m\u001b[1;33m\u001b[0m\u001b[1;33m\u001b[0m\u001b[0m\n\u001b[1;32m--> 914\u001b[1;33m         \u001b[0msuper\u001b[0m\u001b[1;33m(\u001b[0m\u001b[0mBYTree\u001b[0m\u001b[1;33m,\u001b[0m \u001b[0mself\u001b[0m\u001b[1;33m)\u001b[0m\u001b[1;33m.\u001b[0m\u001b[0m__init__\u001b[0m\u001b[1;33m(\u001b[0m\u001b[1;33m*\u001b[0m\u001b[0margs\u001b[0m\u001b[1;33m,\u001b[0m \u001b[1;33m**\u001b[0m\u001b[0mkwargs\u001b[0m\u001b[1;33m)\u001b[0m\u001b[1;33m\u001b[0m\u001b[1;33m\u001b[0m\u001b[0m\n\u001b[0m\u001b[0;32m    915\u001b[0m         \u001b[0mself\u001b[0m\u001b[1;33m.\u001b[0m\u001b[0m_blue_vertices\u001b[0m \u001b[1;33m=\u001b[0m \u001b[1;33m[\u001b[0m\u001b[1;33m]\u001b[0m\u001b[1;33m\u001b[0m\u001b[1;33m\u001b[0m\u001b[0m\n\u001b[0;32m    916\u001b[0m         \u001b[0mself\u001b[0m\u001b[1;33m.\u001b[0m\u001b[0m_yellow_vertices\u001b[0m \u001b[1;33m=\u001b[0m \u001b[1;33m[\u001b[0m\u001b[1;33m]\u001b[0m\u001b[1;33m\u001b[0m\u001b[1;33m\u001b[0m\u001b[0m\n",
      "\u001b[1;32m/Users/alex/sage/local/lib/python3.7/site-packages/sage/graphs/graph.py\u001b[0m in \u001b[0;36m__init__\u001b[1;34m(self, data, pos, loops, format, weighted, data_structure, vertex_labels, name, multiedges, convert_empty_dict_labels_to_None, sparse, immutable)\u001b[0m\n\u001b[0;32m   1027\u001b[0m         \u001b[1;32mif\u001b[0m \u001b[0mmultiedges\u001b[0m \u001b[1;32mor\u001b[0m \u001b[0mweighted\u001b[0m\u001b[1;33m:\u001b[0m\u001b[1;33m\u001b[0m\u001b[1;33m\u001b[0m\u001b[0m\n\u001b[0;32m   1028\u001b[0m             \u001b[1;32mif\u001b[0m \u001b[0mdata_structure\u001b[0m \u001b[1;33m==\u001b[0m \u001b[1;34m\"dense\"\u001b[0m\u001b[1;33m:\u001b[0m\u001b[1;33m\u001b[0m\u001b[1;33m\u001b[0m\u001b[0m\n\u001b[1;32m-> 1029\u001b[1;33m                 \u001b[1;32mraise\u001b[0m \u001b[0mRuntimeError\u001b[0m\u001b[1;33m(\u001b[0m\u001b[1;34m\"Multiedge and weighted c_graphs must be sparse.\"\u001b[0m\u001b[1;33m)\u001b[0m\u001b[1;33m\u001b[0m\u001b[1;33m\u001b[0m\u001b[0m\n\u001b[0m\u001b[0;32m   1030\u001b[0m         \u001b[1;32mif\u001b[0m \u001b[0mimmutable\u001b[0m\u001b[1;33m:\u001b[0m\u001b[1;33m\u001b[0m\u001b[1;33m\u001b[0m\u001b[0m\n\u001b[0;32m   1031\u001b[0m             \u001b[0mdata_structure\u001b[0m \u001b[1;33m=\u001b[0m \u001b[1;34m'static_sparse'\u001b[0m\u001b[1;33m\u001b[0m\u001b[1;33m\u001b[0m\u001b[0m\n",
      "\u001b[1;31mRuntimeError\u001b[0m: Multiedge and weighted c_graphs must be sparse."
     ]
    }
   ],
   "source": [
    "T.complement()"
   ]
  },
  {
   "cell_type": "code",
   "execution_count": 37,
   "metadata": {},
   "outputs": [
    {
     "ename": "TypeError",
     "evalue": "unsupported operand type(s) for -: 'BYTree' and 'BYTree'",
     "output_type": "error",
     "traceback": [
      "\u001b[1;31m---------------------------------------------------------------------------\u001b[0m",
      "\u001b[1;31mTypeError\u001b[0m                                 Traceback (most recent call last)",
      "\u001b[1;32m<ipython-input-37-018c872940ab>\u001b[0m in \u001b[0;36m<module>\u001b[1;34m()\u001b[0m\n\u001b[1;32m----> 1\u001b[1;33m \u001b[0mT\u001b[0m \u001b[1;33m-\u001b[0m \u001b[0mT\u001b[0m\u001b[1;33m.\u001b[0m\u001b[0mblue_subgraph\u001b[0m\u001b[1;33m(\u001b[0m\u001b[1;33m)\u001b[0m\u001b[1;33m\u001b[0m\u001b[1;33m\u001b[0m\u001b[0m\n\u001b[0m",
      "\u001b[1;31mTypeError\u001b[0m: unsupported operand type(s) for -: 'BYTree' and 'BYTree'"
     ]
    }
   ],
   "source": [
    "T - T.blue_subgraph()"
   ]
  },
  {
   "cell_type": "code",
   "execution_count": null,
   "metadata": {},
   "outputs": [],
   "source": []
  }
 ],
 "metadata": {
  "kernelspec": {
   "display_name": "SageMath 9.2.beta0",
   "language": "sage",
   "name": "sagemath"
  },
  "language_info": {
   "codemirror_mode": {
    "name": "ipython",
    "version": 3
   },
   "file_extension": ".py",
   "mimetype": "text/x-python",
   "name": "python",
   "nbconvert_exporter": "python",
   "pygments_lexer": "ipython3",
   "version": "3.7.3"
  },
  "varInspector": {
   "cols": {
    "lenName": 16,
    "lenType": 16,
    "lenVar": 40
   },
   "kernels_config": {
    "python": {
     "delete_cmd_postfix": "",
     "delete_cmd_prefix": "del ",
     "library": "var_list.py",
     "varRefreshCmd": "print(var_dic_list())"
    },
    "r": {
     "delete_cmd_postfix": ") ",
     "delete_cmd_prefix": "rm(",
     "library": "var_list.r",
     "varRefreshCmd": "cat(var_dic_list()) "
    }
   },
   "types_to_exclude": [
    "module",
    "function",
    "builtin_function_or_method",
    "instance",
    "_Feature"
   ],
   "window_display": false
  }
 },
 "nbformat": 4,
 "nbformat_minor": 2
}
