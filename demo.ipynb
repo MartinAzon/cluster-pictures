{
 "cells": [
  {
   "cell_type": "markdown",
   "metadata": {},
   "source": [
    "## Demo of Cluster pictures in SageMath\n",
    "\n",
    "Reload the module whenever it changes for easy development:"
   ]
  },
  {
   "cell_type": "code",
   "execution_count": 49,
   "metadata": {},
   "outputs": [],
   "source": [
    "%reload_ext autoreload\n",
    "%autoreload 2\n",
    "from sage_cluster_pictures import *\n",
    "#from sage_cluster_pictures.cluster_pictures import Cluster\n",
    "set_verbose(0)\n",
    "latex.extra_preamble('')\n",
    "latex.add_to_preamble(r\"\\usepackage{tkz-graph,semtkzX}\")\n",
    "latex.add_to_mathjax_avoid_list(\"clusterpicture\")\n",
    "sage.misc.latex.EMBEDDED_MODE = True"
   ]
  },
  {
   "cell_type": "markdown",
   "metadata": {},
   "source": [
    "Example 1.2 of DMDM"
   ]
  },
  {
   "cell_type": "code",
   "execution_count": 50,
   "metadata": {},
   "outputs": [
    {
     "data": {
      "text/plain": [
       "Cluster with 7 roots and 2 children"
      ]
     },
     "execution_count": 50,
     "metadata": {},
     "output_type": "execute_result"
    }
   ],
   "source": [
    "p = 7\n",
    "x = polygen(Qp(p))\n",
    "H = HyperellipticCurve((x-1)*(x-(1+p^2))*(x-(1-p^2))*(x-p)*x*(x-p^3)*(x+p^3))\n",
    "C = Cluster.from_curve(H)\n",
    "C"
   ]
  },
  {
   "cell_type": "markdown",
   "metadata": {},
   "source": [
    "We can display the cluster as ASCII art and unicode art"
   ]
  },
  {
   "cell_type": "code",
   "execution_count": 3,
   "metadata": {},
   "outputs": [
    {
     "data": {
      "text/plain": [
       "((* * *) *) (* * *)"
      ]
     },
     "execution_count": 3,
     "metadata": {},
     "output_type": "execute_result"
    }
   ],
   "source": [
    "%display ascii_art\n",
    "C"
   ]
  },
  {
   "cell_type": "code",
   "execution_count": 4,
   "metadata": {},
   "outputs": [],
   "source": [
    "%display unicode_art"
   ]
  },
  {
   "cell_type": "code",
   "execution_count": 5,
   "metadata": {},
   "outputs": [
    {
     "data": {
      "text/plain": [
       "((● ● ●) ●) (● ● ●)"
      ]
     },
     "execution_count": 5,
     "metadata": {},
     "output_type": "execute_result"
    }
   ],
   "source": [
    "C"
   ]
  },
  {
   "cell_type": "markdown",
   "metadata": {},
   "source": [
    "Finally we should be able to display the nice Tikz graphs, this required a teeny bit of hacking sage.\n",
    "https://trac.sagemath.org/ticket/19515"
   ]
  },
  {
   "cell_type": "code",
   "execution_count": 6,
   "metadata": {},
   "outputs": [
    {
     "data": {
      "image/png": "[encoded data removed]",
      "text/plain": [
       "<IPython.core.display.Image object>"
      ]
     },
     "execution_count": 6,
     "metadata": {},
     "output_type": "execute_result"
    }
   ],
   "source": [
    "view(C)"
   ]
  },
  {
   "cell_type": "markdown",
   "metadata": {},
   "source": [
    "Let's test some basic functionality."
   ]
  },
  {
   "cell_type": "code",
   "execution_count": 7,
   "metadata": {},
   "outputs": [
    {
     "data": {
      "text/plain": [
       "False"
      ]
     },
     "execution_count": 7,
     "metadata": {},
     "output_type": "execute_result"
    }
   ],
   "source": [
    "C.is_even()"
   ]
  },
  {
   "cell_type": "code",
   "execution_count": 8,
   "metadata": {},
   "outputs": [
    {
     "data": {
      "text/plain": [
       "True"
      ]
     },
     "execution_count": 8,
     "metadata": {},
     "output_type": "execute_result"
    }
   ],
   "source": [
    "C.is_odd()"
   ]
  },
  {
   "cell_type": "code",
   "execution_count": 9,
   "metadata": {},
   "outputs": [
    {
     "name": "stdout",
     "output_type": "stream",
     "text": [
      "verbose 1 (41: cluster_pictures.py, __init__) [20  1  0  0]\n",
      "[ 1 20  0  0]\n",
      "[ 0  0 20  1]\n",
      "[ 0  0  1 20]\n",
      "verbose 1 (41: cluster_pictures.py, __init__) 0\n",
      "verbose 1 (41: cluster_pictures.py, __init__) defaultdict(<class 'list'>, {0: [0, 1], 2: [2, 3]})\n",
      "verbose 1 (41: cluster_pictures.py, __init__) [20  1]\n",
      "[ 1 20]\n",
      "verbose 1 (41: cluster_pictures.py, __init__) 1\n",
      "verbose 1 (41: cluster_pictures.py, __init__) defaultdict(<class 'list'>, {0: [0], 1: [1]})\n",
      "verbose 1 (41: cluster_pictures.py, __init__) [20]\n",
      "verbose 1 (41: cluster_pictures.py, __init__) 20\n",
      "verbose 1 (41: cluster_pictures.py, __init__) defaultdict(<class 'list'>, {})\n",
      "verbose 1 (41: cluster_pictures.py, __init__) [20]\n",
      "verbose 1 (41: cluster_pictures.py, __init__) 20\n",
      "verbose 1 (41: cluster_pictures.py, __init__) defaultdict(<class 'list'>, {})\n",
      "verbose 1 (41: cluster_pictures.py, __init__) [20  1]\n",
      "[ 1 20]\n",
      "verbose 1 (41: cluster_pictures.py, __init__) 1\n",
      "verbose 1 (41: cluster_pictures.py, __init__) defaultdict(<class 'list'>, {0: [0], 1: [1]})\n",
      "verbose 1 (41: cluster_pictures.py, __init__) [20]\n",
      "verbose 1 (41: cluster_pictures.py, __init__) 20\n",
      "verbose 1 (41: cluster_pictures.py, __init__) defaultdict(<class 'list'>, {})\n",
      "verbose 1 (41: cluster_pictures.py, __init__) [20]\n",
      "verbose 1 (41: cluster_pictures.py, __init__) 20\n",
      "verbose 1 (41: cluster_pictures.py, __init__) defaultdict(<class 'list'>, {})\n"
     ]
    },
    {
     "data": {
      "text/plain": [
       "True"
      ]
     },
     "execution_count": 9,
     "metadata": {},
     "output_type": "execute_result"
    }
   ],
   "source": [
    "K = Qp(5)\n",
    "C = Cluster.from_roots([K(1), K(6), K(5), K(10)])\n",
    "C.is_ubereven()"
   ]
  },
  {
   "cell_type": "code",
   "execution_count": 10,
   "metadata": {},
   "outputs": [
    {
     "data": {
      "text/plain": [
       "(● ●) (● ●)"
      ]
     },
     "execution_count": 10,
     "metadata": {},
     "output_type": "execute_result"
    }
   ],
   "source": [
    "C"
   ]
  },
  {
   "cell_type": "code",
   "execution_count": 11,
   "metadata": {},
   "outputs": [
    {
     "data": {
      "text/plain": [
       "[Cluster with 2 roots and 2 children,\n",
       " Cluster with 1 roots and 0 children,\n",
       " Cluster with 1 roots and 0 children,\n",
       " Cluster with 2 roots and 2 children,\n",
       " Cluster with 1 roots and 0 children,\n",
       " Cluster with 1 roots and 0 children]"
      ]
     },
     "execution_count": 11,
     "metadata": {},
     "output_type": "execute_result"
    }
   ],
   "source": [
    "%display plain\n",
    "list(C.all_descendents())"
   ]
  },
  {
   "cell_type": "code",
   "execution_count": 12,
   "metadata": {},
   "outputs": [
    {
     "data": {
      "text/plain": [
       "False"
      ]
     },
     "execution_count": 12,
     "metadata": {},
     "output_type": "execute_result"
    }
   ],
   "source": [
    "C.children()[0].children()[0].is_proper()"
   ]
  },
  {
   "cell_type": "code",
   "execution_count": 13,
   "metadata": {},
   "outputs": [
    {
     "data": {
      "text/plain": [
       "Cluster with 4 roots and 2 children"
      ]
     },
     "execution_count": 13,
     "metadata": {},
     "output_type": "execute_result"
    }
   ],
   "source": [
    "C.children()[0].parent_cluster()"
   ]
  },
  {
   "cell_type": "markdown",
   "metadata": {},
   "source": [
    "Finally we can make this last example again from just root valuation data, a matrix of valuations of differences. This way we don't pick a prime $p$."
   ]
  },
  {
   "cell_type": "code",
   "execution_count": 14,
   "metadata": {},
   "outputs": [
    {
     "name": "stdout",
     "output_type": "stream",
     "text": [
      "verbose 1 (41: cluster_pictures.py, __init__) [20  1  0  0]\n",
      "[ 1 20  0  0]\n",
      "[ 0  0 20  1]\n",
      "[ 0  0  1 20]\n",
      "verbose 1 (41: cluster_pictures.py, __init__) 0\n",
      "verbose 1 (41: cluster_pictures.py, __init__) defaultdict(<class 'list'>, {0: [0, 1], 2: [2, 3]})\n",
      "verbose 1 (41: cluster_pictures.py, __init__) [20  1]\n",
      "[ 1 20]\n",
      "verbose 1 (41: cluster_pictures.py, __init__) 1\n",
      "verbose 1 (41: cluster_pictures.py, __init__) defaultdict(<class 'list'>, {0: [0], 1: [1]})\n",
      "verbose 1 (41: cluster_pictures.py, __init__) [20]\n",
      "verbose 1 (41: cluster_pictures.py, __init__) 20\n",
      "verbose 1 (41: cluster_pictures.py, __init__) defaultdict(<class 'list'>, {})\n",
      "verbose 1 (41: cluster_pictures.py, __init__) [20]\n",
      "verbose 1 (41: cluster_pictures.py, __init__) 20\n",
      "verbose 1 (41: cluster_pictures.py, __init__) defaultdict(<class 'list'>, {})\n",
      "verbose 1 (41: cluster_pictures.py, __init__) [20  1]\n",
      "[ 1 20]\n",
      "verbose 1 (41: cluster_pictures.py, __init__) 1\n",
      "verbose 1 (41: cluster_pictures.py, __init__) defaultdict(<class 'list'>, {0: [0], 1: [1]})\n",
      "verbose 1 (41: cluster_pictures.py, __init__) [20]\n",
      "verbose 1 (41: cluster_pictures.py, __init__) 20\n",
      "verbose 1 (41: cluster_pictures.py, __init__) defaultdict(<class 'list'>, {})\n",
      "verbose 1 (41: cluster_pictures.py, __init__) [20]\n",
      "verbose 1 (41: cluster_pictures.py, __init__) 20\n",
      "verbose 1 (41: cluster_pictures.py, __init__) defaultdict(<class 'list'>, {})\n"
     ]
    },
    {
     "data": {
      "text/plain": [
       "True"
      ]
     },
     "execution_count": 14,
     "metadata": {},
     "output_type": "execute_result"
    }
   ],
   "source": [
    "C = Cluster(Matrix(ZZ, 4, 4,[\n",
    "                   [20, 1, 0, 0 ],\n",
    "                   [1, 20, 0, 0 ],\n",
    "                   [0, 0, 20, 1 ],\n",
    "                   [0, 0, 1, 20 ],\n",
    "                ]))\n",
    "C.is_ubereven()"
   ]
  },
  {
   "cell_type": "code",
   "execution_count": 15,
   "metadata": {},
   "outputs": [
    {
     "name": "stdout",
     "output_type": "stream",
     "text": [
      "(● ●) (● ●)\n"
     ]
    }
   ],
   "source": [
    "print(unicode_art(C))"
   ]
  },
  {
   "cell_type": "markdown",
   "metadata": {},
   "source": [
    "Let's see if it can handle Raymond's example from the draft:"
   ]
  },
  {
   "cell_type": "code",
   "execution_count": 16,
   "metadata": {},
   "outputs": [
    {
     "name": "stdout",
     "output_type": "stream",
     "text": [
      "verbose 1 (41: cluster_pictures.py, __init__) [20  0  0  0  0  0]\n",
      "[ 0 20  2  2  0  0]\n",
      "[ 0  2 20  2  0  0]\n",
      "[ 0  2  2 20  0  0]\n",
      "[ 0  0  0  0 20  1]\n",
      "[ 0  0  0  0  1 20]\n",
      "verbose 1 (41: cluster_pictures.py, __init__) 0\n",
      "verbose 1 (41: cluster_pictures.py, __init__) defaultdict(<class 'list'>, {0: [0], 1: [1, 2, 3], 4: [4, 5]})\n",
      "verbose 1 (41: cluster_pictures.py, __init__) [20]\n",
      "verbose 1 (41: cluster_pictures.py, __init__) 20\n",
      "verbose 1 (41: cluster_pictures.py, __init__) defaultdict(<class 'list'>, {})\n",
      "verbose 1 (41: cluster_pictures.py, __init__) [20  2  2]\n",
      "[ 2 20  2]\n",
      "[ 2  2 20]\n",
      "verbose 1 (41: cluster_pictures.py, __init__) 2\n",
      "verbose 1 (41: cluster_pictures.py, __init__) defaultdict(<class 'list'>, {0: [0], 1: [1], 2: [2]})\n",
      "verbose 1 (41: cluster_pictures.py, __init__) [20]\n",
      "verbose 1 (41: cluster_pictures.py, __init__) 20\n",
      "verbose 1 (41: cluster_pictures.py, __init__) defaultdict(<class 'list'>, {})\n",
      "verbose 1 (41: cluster_pictures.py, __init__) [20]\n",
      "verbose 1 (41: cluster_pictures.py, __init__) 20\n",
      "verbose 1 (41: cluster_pictures.py, __init__) defaultdict(<class 'list'>, {})\n",
      "verbose 1 (41: cluster_pictures.py, __init__) [20]\n",
      "verbose 1 (41: cluster_pictures.py, __init__) 20\n",
      "verbose 1 (41: cluster_pictures.py, __init__) defaultdict(<class 'list'>, {})\n",
      "verbose 1 (41: cluster_pictures.py, __init__) [20  1]\n",
      "[ 1 20]\n",
      "verbose 1 (41: cluster_pictures.py, __init__) 1\n",
      "verbose 1 (41: cluster_pictures.py, __init__) defaultdict(<class 'list'>, {0: [0], 1: [1]})\n",
      "verbose 1 (41: cluster_pictures.py, __init__) [20]\n",
      "verbose 1 (41: cluster_pictures.py, __init__) 20\n",
      "verbose 1 (41: cluster_pictures.py, __init__) defaultdict(<class 'list'>, {})\n",
      "verbose 1 (41: cluster_pictures.py, __init__) [20]\n",
      "verbose 1 (41: cluster_pictures.py, __init__) 20\n",
      "verbose 1 (41: cluster_pictures.py, __init__) defaultdict(<class 'list'>, {})\n"
     ]
    },
    {
     "data": {
      "text/plain": [
       "Cluster with 6 roots and 3 children"
      ]
     },
     "execution_count": 16,
     "metadata": {},
     "output_type": "execute_result"
    }
   ],
   "source": [
    "K = Qp(3)\n",
    "x = polygen(K)\n",
    "H = HyperellipticCurve(x*(x - 3)*(x - 4)*(x - 13)*(x + 1)*(x + 5))\n",
    "C = Cluster.from_curve(H)\n",
    "C"
   ]
  },
  {
   "cell_type": "code",
   "execution_count": 17,
   "metadata": {},
   "outputs": [
    {
     "data": {
      "text/plain": [
       "● (● ● ●) (● ●)"
      ]
     },
     "execution_count": 17,
     "metadata": {},
     "output_type": "execute_result"
    }
   ],
   "source": [
    "%display unicode_art\n",
    "C"
   ]
  },
  {
   "cell_type": "markdown",
   "metadata": {},
   "source": [
    "so far so good!"
   ]
  },
  {
   "cell_type": "code",
   "execution_count": 18,
   "metadata": {},
   "outputs": [
    {
     "name": "stdout",
     "output_type": "stream",
     "text": [
      "verbose 1 (41: cluster_pictures.py, __init__) [20  0  2]\n",
      "[ 0 20  0]\n",
      "[ 2  0 20]\n",
      "verbose 1 (41: cluster_pictures.py, __init__) 0\n",
      "verbose 1 (41: cluster_pictures.py, __init__) defaultdict(<class 'list'>, {0: [0, 2], 1: [1]})\n",
      "verbose 1 (41: cluster_pictures.py, __init__) [20  2]\n",
      "[ 2 20]\n",
      "verbose 1 (41: cluster_pictures.py, __init__) 2\n",
      "verbose 1 (41: cluster_pictures.py, __init__) defaultdict(<class 'list'>, {0: [0], 1: [1]})\n",
      "verbose 1 (41: cluster_pictures.py, __init__) [20]\n",
      "verbose 1 (41: cluster_pictures.py, __init__) 20\n",
      "verbose 1 (41: cluster_pictures.py, __init__) defaultdict(<class 'list'>, {})\n",
      "verbose 1 (41: cluster_pictures.py, __init__) [20]\n",
      "verbose 1 (41: cluster_pictures.py, __init__) 20\n",
      "verbose 1 (41: cluster_pictures.py, __init__) defaultdict(<class 'list'>, {})\n",
      "verbose 1 (41: cluster_pictures.py, __init__) [20]\n",
      "verbose 1 (41: cluster_pictures.py, __init__) 20\n",
      "verbose 1 (41: cluster_pictures.py, __init__) defaultdict(<class 'list'>, {})\n"
     ]
    },
    {
     "data": {
      "text/plain": [
       "True"
      ]
     },
     "execution_count": 18,
     "metadata": {},
     "output_type": "execute_result"
    }
   ],
   "source": [
    "C = Cluster.from_roots([K(1), K(5), K(10)])\n",
    "C.children()[0].is_twin()"
   ]
  },
  {
   "cell_type": "code",
   "execution_count": 19,
   "metadata": {},
   "outputs": [
    {
     "name": "stdout",
     "output_type": "stream",
     "text": [
      "verbose 1 (41: cluster_pictures.py, __init__) [20  0  0]\n",
      "[ 0 20  1]\n",
      "[ 0  1 20]\n",
      "verbose 1 (41: cluster_pictures.py, __init__) 0\n",
      "verbose 1 (41: cluster_pictures.py, __init__) defaultdict(<class 'list'>, {0: [0], 1: [1, 2]})\n",
      "verbose 1 (41: cluster_pictures.py, __init__) [20]\n",
      "verbose 1 (41: cluster_pictures.py, __init__) 20\n",
      "verbose 1 (41: cluster_pictures.py, __init__) defaultdict(<class 'list'>, {})\n",
      "verbose 1 (41: cluster_pictures.py, __init__) [20  1]\n",
      "[ 1 20]\n",
      "verbose 1 (41: cluster_pictures.py, __init__) 1\n",
      "verbose 1 (41: cluster_pictures.py, __init__) defaultdict(<class 'list'>, {0: [0], 1: [1]})\n",
      "verbose 1 (41: cluster_pictures.py, __init__) [20]\n",
      "verbose 1 (41: cluster_pictures.py, __init__) 20\n",
      "verbose 1 (41: cluster_pictures.py, __init__) defaultdict(<class 'list'>, {})\n",
      "verbose 1 (41: cluster_pictures.py, __init__) [20]\n",
      "verbose 1 (41: cluster_pictures.py, __init__) 20\n",
      "verbose 1 (41: cluster_pictures.py, __init__) defaultdict(<class 'list'>, {})\n"
     ]
    },
    {
     "data": {
      "text/plain": [
       "True"
      ]
     },
     "execution_count": 19,
     "metadata": {},
     "output_type": "execute_result"
    }
   ],
   "source": [
    "K = Qp(5)\n",
    "C = Cluster.from_roots([K(1), K(5), K(10)])\n",
    "C.is_top_cluster()"
   ]
  },
  {
   "cell_type": "code",
   "execution_count": 20,
   "metadata": {},
   "outputs": [
    {
     "data": {
      "text/plain": [
       "False"
      ]
     },
     "execution_count": 20,
     "metadata": {},
     "output_type": "execute_result"
    }
   ],
   "source": [
    "C.children()[0].is_top_cluster()"
   ]
  },
  {
   "cell_type": "code",
   "execution_count": 21,
   "metadata": {},
   "outputs": [
    {
     "data": {
      "text/plain": [
       "0"
      ]
     },
     "execution_count": 21,
     "metadata": {},
     "output_type": "execute_result"
    }
   ],
   "source": [
    "C.relative_depth()"
   ]
  },
  {
   "cell_type": "code",
   "execution_count": 22,
   "metadata": {},
   "outputs": [
    {
     "data": {
      "text/plain": [
       "1"
      ]
     },
     "execution_count": 22,
     "metadata": {},
     "output_type": "execute_result"
    }
   ],
   "source": [
    "C.children()[1].relative_depth()"
   ]
  },
  {
   "cell_type": "code",
   "execution_count": 23,
   "metadata": {},
   "outputs": [
    {
     "name": "stdout",
     "output_type": "stream",
     "text": [
      "verbose 1 (41: cluster_pictures.py, __init__) [20  1  1]\n",
      "[ 1 20  2]\n",
      "[ 1  2 20]\n",
      "verbose 1 (41: cluster_pictures.py, __init__) 1\n",
      "verbose 1 (41: cluster_pictures.py, __init__) defaultdict(<class 'list'>, {0: [0], 1: [1, 2]})\n",
      "verbose 1 (41: cluster_pictures.py, __init__) [20]\n",
      "verbose 1 (41: cluster_pictures.py, __init__) 20\n",
      "verbose 1 (41: cluster_pictures.py, __init__) defaultdict(<class 'list'>, {})\n",
      "verbose 1 (41: cluster_pictures.py, __init__) [20  2]\n",
      "[ 2 20]\n",
      "verbose 1 (41: cluster_pictures.py, __init__) 2\n",
      "verbose 1 (41: cluster_pictures.py, __init__) defaultdict(<class 'list'>, {0: [0], 1: [1]})\n",
      "verbose 1 (41: cluster_pictures.py, __init__) [20]\n",
      "verbose 1 (41: cluster_pictures.py, __init__) 20\n",
      "verbose 1 (41: cluster_pictures.py, __init__) defaultdict(<class 'list'>, {})\n",
      "verbose 1 (41: cluster_pictures.py, __init__) [20]\n",
      "verbose 1 (41: cluster_pictures.py, __init__) 20\n",
      "verbose 1 (41: cluster_pictures.py, __init__) defaultdict(<class 'list'>, {})\n"
     ]
    },
    {
     "data": {
      "text/plain": [
       "1"
      ]
     },
     "execution_count": 23,
     "metadata": {},
     "output_type": "execute_result"
    }
   ],
   "source": [
    "C2 = Cluster.from_roots([K(5), K(25), K(50)])\n",
    "C2.depth()"
   ]
  },
  {
   "cell_type": "code",
   "execution_count": 24,
   "metadata": {},
   "outputs": [
    {
     "data": {
      "text/plain": [
       "1"
      ]
     },
     "execution_count": 24,
     "metadata": {},
     "output_type": "execute_result"
    }
   ],
   "source": [
    "C2.relative_depth()"
   ]
  },
  {
   "cell_type": "code",
   "execution_count": 25,
   "metadata": {},
   "outputs": [
    {
     "data": {
      "text/plain": [
       "1"
      ]
     },
     "execution_count": 25,
     "metadata": {},
     "output_type": "execute_result"
    }
   ],
   "source": [
    "C2.children()[1].relative_depth()"
   ]
  },
  {
   "cell_type": "code",
   "execution_count": 26,
   "metadata": {},
   "outputs": [
    {
     "data": {
      "text/plain": [
       "1"
      ]
     },
     "execution_count": 26,
     "metadata": {},
     "output_type": "execute_result"
    }
   ],
   "source": [
    "C2.genus()"
   ]
  },
  {
   "cell_type": "code",
   "execution_count": 27,
   "metadata": {},
   "outputs": [
    {
     "name": "stdout",
     "output_type": "stream",
     "text": [
      "verbose 1 (41: cluster_pictures.py, __init__) [20  1  2  3]\n",
      "[ 1 20  1  1]\n",
      "[ 2  1 20  2]\n",
      "[ 3  1  2 20]\n",
      "verbose 1 (41: cluster_pictures.py, __init__) 1\n",
      "verbose 1 (41: cluster_pictures.py, __init__) defaultdict(<class 'list'>, {0: [0, 2, 3], 1: [1]})\n",
      "verbose 1 (41: cluster_pictures.py, __init__) [20  2  3]\n",
      "[ 2 20  2]\n",
      "[ 3  2 20]\n",
      "verbose 1 (41: cluster_pictures.py, __init__) 2\n",
      "verbose 1 (41: cluster_pictures.py, __init__) defaultdict(<class 'list'>, {0: [0, 2], 1: [1]})\n",
      "verbose 1 (41: cluster_pictures.py, __init__) [20  3]\n",
      "[ 3 20]\n",
      "verbose 1 (41: cluster_pictures.py, __init__) 3\n",
      "verbose 1 (41: cluster_pictures.py, __init__) defaultdict(<class 'list'>, {0: [0], 1: [1]})\n",
      "verbose 1 (41: cluster_pictures.py, __init__) [20]\n",
      "verbose 1 (41: cluster_pictures.py, __init__) 20\n",
      "verbose 1 (41: cluster_pictures.py, __init__) defaultdict(<class 'list'>, {})\n",
      "verbose 1 (41: cluster_pictures.py, __init__) [20]\n",
      "verbose 1 (41: cluster_pictures.py, __init__) 20\n",
      "verbose 1 (41: cluster_pictures.py, __init__) defaultdict(<class 'list'>, {})\n",
      "verbose 1 (41: cluster_pictures.py, __init__) [20]\n",
      "verbose 1 (41: cluster_pictures.py, __init__) 20\n",
      "verbose 1 (41: cluster_pictures.py, __init__) defaultdict(<class 'list'>, {})\n",
      "verbose 1 (41: cluster_pictures.py, __init__) [20]\n",
      "verbose 1 (41: cluster_pictures.py, __init__) 20\n",
      "verbose 1 (41: cluster_pictures.py, __init__) defaultdict(<class 'list'>, {})\n"
     ]
    },
    {
     "data": {
      "text/plain": [
       "((● ●) ●) ●"
      ]
     },
     "execution_count": 27,
     "metadata": {},
     "output_type": "execute_result"
    }
   ],
   "source": [
    "C = Cluster.from_roots([K(1), K(6), K(26), K(126)])\n",
    "C.children()[0].children()[0].children()[0].top_cluster()"
   ]
  },
  {
   "cell_type": "code",
   "execution_count": 28,
   "metadata": {},
   "outputs": [
    {
     "data": {
      "text/plain": [
       "3"
      ]
     },
     "execution_count": 28,
     "metadata": {},
     "output_type": "execute_result"
    }
   ],
   "source": [
    "C.children()[0].children()[0].depth()"
   ]
  },
  {
   "cell_type": "code",
   "execution_count": 29,
   "metadata": {},
   "outputs": [
    {
     "data": {
      "text/plain": [
       "1"
      ]
     },
     "execution_count": 29,
     "metadata": {},
     "output_type": "execute_result"
    }
   ],
   "source": [
    "C.children()[0].children()[0].relative_depth()"
   ]
  },
  {
   "cell_type": "markdown",
   "metadata": {},
   "source": [
    "Example 3.5 in the users guide"
   ]
  },
  {
   "cell_type": "code",
   "execution_count": 121,
   "metadata": {},
   "outputs": [
    {
     "name": "stdout",
     "output_type": "stream",
     "text": [
      "verbose 1 (41: cluster_pictures.py, __init__) [300  15  12  12   2   2]\n",
      "[ 15 300  12  12   2   2]\n",
      "[ 12  12 300  18   2   2]\n",
      "[ 12  12  18 300   2   2]\n",
      "[  2   2   2   2 300   2]\n",
      "[  2   2   2   2   2 300]\n",
      "verbose 1 (41: cluster_pictures.py, __init__) 2\n",
      "verbose 1 (41: cluster_pictures.py, __init__) defaultdict(<class 'list'>, {0: [0, 1, 2, 3], 4: [4], 5: [5]})\n",
      "verbose 1 (41: cluster_pictures.py, __init__) [300  15  12  12]\n",
      "[ 15 300  12  12]\n",
      "[ 12  12 300  18]\n",
      "[ 12  12  18 300]\n",
      "verbose 1 (41: cluster_pictures.py, __init__) 12\n",
      "verbose 1 (41: cluster_pictures.py, __init__) defaultdict(<class 'list'>, {0: [0, 1], 2: [2, 3]})\n",
      "verbose 1 (41: cluster_pictures.py, __init__) [300  15]\n",
      "[ 15 300]\n",
      "verbose 1 (41: cluster_pictures.py, __init__) 15\n",
      "verbose 1 (41: cluster_pictures.py, __init__) defaultdict(<class 'list'>, {0: [0], 1: [1]})\n",
      "verbose 1 (41: cluster_pictures.py, __init__) [300]\n",
      "verbose 1 (41: cluster_pictures.py, __init__) 300\n",
      "verbose 1 (41: cluster_pictures.py, __init__) defaultdict(<class 'list'>, {})\n",
      "verbose 1 (41: cluster_pictures.py, __init__) [300]\n",
      "verbose 1 (41: cluster_pictures.py, __init__) 300\n",
      "verbose 1 (41: cluster_pictures.py, __init__) defaultdict(<class 'list'>, {})\n",
      "verbose 1 (41: cluster_pictures.py, __init__) [300  18]\n",
      "[ 18 300]\n",
      "verbose 1 (41: cluster_pictures.py, __init__) 18\n",
      "verbose 1 (41: cluster_pictures.py, __init__) defaultdict(<class 'list'>, {0: [0], 1: [1]})\n",
      "verbose 1 (41: cluster_pictures.py, __init__) [300]\n",
      "verbose 1 (41: cluster_pictures.py, __init__) 300\n",
      "verbose 1 (41: cluster_pictures.py, __init__) defaultdict(<class 'list'>, {})\n",
      "verbose 1 (41: cluster_pictures.py, __init__) [300]\n",
      "verbose 1 (41: cluster_pictures.py, __init__) 300\n",
      "verbose 1 (41: cluster_pictures.py, __init__) defaultdict(<class 'list'>, {})\n",
      "verbose 1 (41: cluster_pictures.py, __init__) [300]\n",
      "verbose 1 (41: cluster_pictures.py, __init__) 300\n",
      "verbose 1 (41: cluster_pictures.py, __init__) defaultdict(<class 'list'>, {})\n",
      "verbose 1 (41: cluster_pictures.py, __init__) [300]\n",
      "verbose 1 (41: cluster_pictures.py, __init__) 300\n",
      "verbose 1 (41: cluster_pictures.py, __init__) defaultdict(<class 'list'>, {})\n"
     ]
    },
    {
     "data": {
      "text/plain": [
       "Cluster with 6 roots and 3 children"
      ]
     },
     "execution_count": 121,
     "metadata": {},
     "output_type": "execute_result"
    }
   ],
   "source": [
    "K = Qp(7,150)\n",
    "x = polygen(K)\n",
    "L = K.extension(x^2 + 1, names='a')\n",
    "x = polygen(L)\n",
    "L2 = L.extension(x^2 - 7, names='b')\n",
    "x = polygen(L2)\n",
    "H = HyperellipticCurve((x^2+7^2)*(x^2-7^(15))*(x-7^6)*(x-7^6-7^9))\n",
    "R = Cluster.from_curve(H)\n",
    "R"
   ]
  },
  {
   "cell_type": "code",
   "execution_count": 122,
   "metadata": {},
   "outputs": [
    {
     "data": {
      "image/png": "[encoded data removed]",
      "text/plain": [
       "<IPython.core.display.Image object>"
      ]
     },
     "execution_count": 122,
     "metadata": {},
     "output_type": "execute_result"
    }
   ],
   "source": [
    "view(R)"
   ]
  },
  {
   "cell_type": "code",
   "execution_count": 123,
   "metadata": {},
   "outputs": [
    {
     "data": {
      "text/plain": [
       "2"
      ]
     },
     "execution_count": 123,
     "metadata": {},
     "output_type": "execute_result"
    }
   ],
   "source": [
    "R.depth()"
   ]
  },
  {
   "cell_type": "code",
   "execution_count": 124,
   "metadata": {},
   "outputs": [
    {
     "data": {
      "text/plain": [
       "12"
      ]
     },
     "execution_count": 124,
     "metadata": {},
     "output_type": "execute_result"
    }
   ],
   "source": [
    "%display plain\n",
    "a = R.children()[0]\n",
    "a.depth()"
   ]
  },
  {
   "cell_type": "code",
   "execution_count": 34,
   "metadata": {},
   "outputs": [
    {
     "data": {
      "text/plain": [
       "10"
      ]
     },
     "execution_count": 34,
     "metadata": {},
     "output_type": "execute_result"
    }
   ],
   "source": [
    "a.relative_depth()"
   ]
  },
  {
   "cell_type": "code",
   "execution_count": 35,
   "metadata": {},
   "outputs": [
    {
     "data": {
      "text/plain": [
       "15"
      ]
     },
     "execution_count": 35,
     "metadata": {},
     "output_type": "execute_result"
    }
   ],
   "source": [
    "t1 = a.children()[0]\n",
    "t1.depth()"
   ]
  },
  {
   "cell_type": "code",
   "execution_count": 36,
   "metadata": {},
   "outputs": [
    {
     "data": {
      "text/plain": [
       "18"
      ]
     },
     "execution_count": 36,
     "metadata": {},
     "output_type": "execute_result"
    }
   ],
   "source": [
    "t2 = a.children()[1]\n",
    "t2.depth()"
   ]
  },
  {
   "cell_type": "code",
   "execution_count": 37,
   "metadata": {},
   "outputs": [
    {
     "data": {
      "text/plain": [
       "True"
      ]
     },
     "execution_count": 37,
     "metadata": {},
     "output_type": "execute_result"
    }
   ],
   "source": [
    "a.is_ubereven()"
   ]
  },
  {
   "cell_type": "code",
   "execution_count": 38,
   "metadata": {},
   "outputs": [
    {
     "data": {
      "text/plain": [
       "True"
      ]
     },
     "execution_count": 38,
     "metadata": {},
     "output_type": "execute_result"
    }
   ],
   "source": [
    "t1.is_twin()"
   ]
  },
  {
   "cell_type": "code",
   "execution_count": 39,
   "metadata": {},
   "outputs": [
    {
     "data": {
      "text/plain": [
       "True"
      ]
     },
     "execution_count": 39,
     "metadata": {},
     "output_type": "execute_result"
    }
   ],
   "source": [
    "t2.is_twin()"
   ]
  },
  {
   "cell_type": "code",
   "execution_count": 40,
   "metadata": {},
   "outputs": [
    {
     "data": {
      "text/plain": [
       "True"
      ]
     },
     "execution_count": 40,
     "metadata": {},
     "output_type": "execute_result"
    }
   ],
   "source": [
    "R.is_cotwin()"
   ]
  },
  {
   "cell_type": "code",
   "execution_count": 41,
   "metadata": {},
   "outputs": [
    {
     "data": {
      "text/plain": [
       "False"
      ]
     },
     "execution_count": 41,
     "metadata": {},
     "output_type": "execute_result"
    }
   ],
   "source": [
    "a.is_cotwin()"
   ]
  },
  {
   "cell_type": "code",
   "execution_count": 42,
   "metadata": {},
   "outputs": [
    {
     "data": {
      "text/plain": [
       "False"
      ]
     },
     "execution_count": 42,
     "metadata": {},
     "output_type": "execute_result"
    }
   ],
   "source": [
    "t1.is_cotwin()"
   ]
  },
  {
   "cell_type": "code",
   "execution_count": 43,
   "metadata": {},
   "outputs": [
    {
     "data": {
      "text/plain": [
       "[Cluster with 4 roots and 2 children]"
      ]
     },
     "execution_count": 43,
     "metadata": {},
     "output_type": "execute_result"
    }
   ],
   "source": [
    "[c for c in R.all_descendents() if c.is_principal()]"
   ]
  },
  {
   "cell_type": "code",
   "execution_count": 44,
   "metadata": {},
   "outputs": [
    {
     "data": {
      "text/plain": [
       "True"
      ]
     },
     "execution_count": 44,
     "metadata": {},
     "output_type": "execute_result"
    }
   ],
   "source": [
    "a.is_principal()"
   ]
  },
  {
   "cell_type": "code",
   "execution_count": 45,
   "metadata": {},
   "outputs": [
    {
     "name": "stdout",
     "output_type": "stream",
     "text": [
      "verbose 1 (408: cluster_pictures.py, meet) Cluster with 2 roots and 2 children\n",
      "verbose 1 (408: cluster_pictures.py, meet) Cluster with 2 roots and 2 children\n",
      "verbose 1 (408: cluster_pictures.py, meet) Cluster with 2 roots and 2 children\n",
      "verbose 1 (408: cluster_pictures.py, meet) Cluster with 4 roots and 2 children\n"
     ]
    },
    {
     "data": {
      "text/plain": [
       "Cluster with 4 roots and 2 children"
      ]
     },
     "execution_count": 45,
     "metadata": {},
     "output_type": "execute_result"
    }
   ],
   "source": [
    "t1.meet(t2)"
   ]
  },
  {
   "cell_type": "code",
   "execution_count": 46,
   "metadata": {},
   "outputs": [
    {
     "name": "stdout",
     "output_type": "stream",
     "text": [
      "verbose 1 (408: cluster_pictures.py, meet) Cluster with 2 roots and 2 children\n",
      "verbose 1 (408: cluster_pictures.py, meet) Cluster with 2 roots and 2 children\n",
      "verbose 1 (408: cluster_pictures.py, meet) Cluster with 2 roots and 2 children\n",
      "verbose 1 (408: cluster_pictures.py, meet) Cluster with 4 roots and 2 children\n"
     ]
    },
    {
     "data": {
      "text/plain": [
       "True"
      ]
     },
     "execution_count": 46,
     "metadata": {},
     "output_type": "execute_result"
    }
   ],
   "source": [
    "t1.meet(t2) == a"
   ]
  },
  {
   "cell_type": "code",
   "execution_count": 47,
   "metadata": {},
   "outputs": [
    {
     "name": "stdout",
     "output_type": "stream",
     "text": [
      "verbose 1 (408: cluster_pictures.py, meet) Cluster with 2 roots and 2 children\n",
      "verbose 1 (408: cluster_pictures.py, meet) Cluster with 2 roots and 2 children\n",
      "verbose 1 (408: cluster_pictures.py, meet) Cluster with 2 roots and 2 children\n",
      "verbose 1 (408: cluster_pictures.py, meet) Cluster with 4 roots and 2 children\n"
     ]
    },
    {
     "data": {
      "text/plain": [
       "Cluster with 4 roots and 2 children"
      ]
     },
     "execution_count": 47,
     "metadata": {},
     "output_type": "execute_result"
    }
   ],
   "source": [
    "t2.meet(t1)"
   ]
  },
  {
   "cell_type": "code",
   "execution_count": 48,
   "metadata": {},
   "outputs": [
    {
     "data": {
      "text/plain": [
       "Cluster with 2 roots and 2 children"
      ]
     },
     "execution_count": 48,
     "metadata": {},
     "output_type": "execute_result"
    }
   ],
   "source": [
    "t2.star()"
   ]
  },
  {
   "cell_type": "code",
   "execution_count": 130,
   "metadata": {},
   "outputs": [
    {
     "data": {
      "text/plain": [
       "True"
      ]
     },
     "execution_count": 130,
     "metadata": {},
     "output_type": "execute_result"
    }
   ],
   "source": [
    "a.is_ubereven()"
   ]
  },
  {
   "cell_type": "code",
   "execution_count": 129,
   "metadata": {},
   "outputs": [
    {
     "data": {
      "image/png": "[encoded data removed]",
      "text/plain": [
       "<IPython.core.display.Image object>"
      ]
     },
     "execution_count": 129,
     "metadata": {},
     "output_type": "execute_result"
    }
   ],
   "source": [
    "view(R)"
   ]
  },
  {
   "cell_type": "markdown",
   "metadata": {},
   "source": [
    "A top cotwin"
   ]
  },
  {
   "cell_type": "code",
   "execution_count": 110,
   "metadata": {},
   "outputs": [
    {
     "name": "stdout",
     "output_type": "stream",
     "text": [
      "verbose 1 (41: cluster_pictures.py, __init__) [20  0  0]\n",
      "[ 0 20  1]\n",
      "[ 0  1 20]\n",
      "verbose 1 (41: cluster_pictures.py, __init__) 0\n",
      "verbose 1 (41: cluster_pictures.py, __init__) defaultdict(<class 'list'>, {0: [0], 1: [1, 2]})\n",
      "verbose 1 (41: cluster_pictures.py, __init__) [20]\n",
      "verbose 1 (41: cluster_pictures.py, __init__) 20\n",
      "verbose 1 (41: cluster_pictures.py, __init__) defaultdict(<class 'list'>, {})\n",
      "verbose 1 (41: cluster_pictures.py, __init__) [20  1]\n",
      "[ 1 20]\n",
      "verbose 1 (41: cluster_pictures.py, __init__) 1\n",
      "verbose 1 (41: cluster_pictures.py, __init__) defaultdict(<class 'list'>, {0: [0], 1: [1]})\n",
      "verbose 1 (41: cluster_pictures.py, __init__) [20]\n",
      "verbose 1 (41: cluster_pictures.py, __init__) 20\n",
      "verbose 1 (41: cluster_pictures.py, __init__) defaultdict(<class 'list'>, {})\n",
      "verbose 1 (41: cluster_pictures.py, __init__) [20]\n",
      "verbose 1 (41: cluster_pictures.py, __init__) 20\n",
      "verbose 1 (41: cluster_pictures.py, __init__) defaultdict(<class 'list'>, {})\n"
     ]
    },
    {
     "data": {
      "image/png": "[encoded data removed]",
      "text/plain": [
       "<IPython.core.display.Image object>"
      ]
     },
     "execution_count": 110,
     "metadata": {},
     "output_type": "execute_result"
    }
   ],
   "source": [
    "K = Qp(5)\n",
    "C = Cluster.from_roots([K(1), K(5), K(10)])\n",
    "view(C)"
   ]
  },
  {
   "cell_type": "code",
   "execution_count": 111,
   "metadata": {},
   "outputs": [
    {
     "data": {
      "text/plain": [
       "True"
      ]
     },
     "execution_count": 111,
     "metadata": {},
     "output_type": "execute_result"
    }
   ],
   "source": [
    "C.is_cotwin()"
   ]
  },
  {
   "cell_type": "code",
   "execution_count": 112,
   "metadata": {},
   "outputs": [
    {
     "data": {
      "text/plain": [
       "Cluster with 2 roots and 2 children"
      ]
     },
     "execution_count": 112,
     "metadata": {},
     "output_type": "execute_result"
    }
   ],
   "source": [
    "C.children()[1]"
   ]
  },
  {
   "cell_type": "code",
   "execution_count": 113,
   "metadata": {},
   "outputs": [
    {
     "data": {
      "text/plain": [
       "False"
      ]
     },
     "execution_count": 113,
     "metadata": {},
     "output_type": "execute_result"
    }
   ],
   "source": [
    "C.children()[1].is_cotwin()"
   ]
  },
  {
   "cell_type": "code",
   "execution_count": 114,
   "metadata": {},
   "outputs": [
    {
     "name": "stdout",
     "output_type": "stream",
     "text": [
      "verbose 1 (456: cluster_pictures.py, star) Cluster with 3 roots and 2 children\n",
      "verbose 1 (456: cluster_pictures.py, star) [Cluster with 2 roots and 2 children]\n"
     ]
    },
    {
     "data": {
      "text/plain": [
       "Cluster with 2 roots and 2 children"
      ]
     },
     "execution_count": 114,
     "metadata": {},
     "output_type": "execute_result"
    }
   ],
   "source": [
    "C.star()"
   ]
  },
  {
   "cell_type": "markdown",
   "metadata": {},
   "source": [
    "A non-top cotwin"
   ]
  },
  {
   "cell_type": "code",
   "execution_count": 116,
   "metadata": {},
   "outputs": [
    {
     "name": "stdout",
     "output_type": "stream",
     "text": [
      "verbose 1 (41: cluster_pictures.py, __init__) [20  0  0  0]\n",
      "[ 0 20  1  1]\n",
      "[ 0  1 20  2]\n",
      "[ 0  1  2 20]\n",
      "verbose 1 (41: cluster_pictures.py, __init__) 0\n",
      "verbose 1 (41: cluster_pictures.py, __init__) defaultdict(<class 'list'>, {0: [0], 1: [1, 2, 3]})\n",
      "verbose 1 (41: cluster_pictures.py, __init__) [20]\n",
      "verbose 1 (41: cluster_pictures.py, __init__) 20\n",
      "verbose 1 (41: cluster_pictures.py, __init__) defaultdict(<class 'list'>, {})\n",
      "verbose 1 (41: cluster_pictures.py, __init__) [20  1  1]\n",
      "[ 1 20  2]\n",
      "[ 1  2 20]\n",
      "verbose 1 (41: cluster_pictures.py, __init__) 1\n",
      "verbose 1 (41: cluster_pictures.py, __init__) defaultdict(<class 'list'>, {0: [0], 1: [1, 2]})\n",
      "verbose 1 (41: cluster_pictures.py, __init__) [20]\n",
      "verbose 1 (41: cluster_pictures.py, __init__) 20\n",
      "verbose 1 (41: cluster_pictures.py, __init__) defaultdict(<class 'list'>, {})\n",
      "verbose 1 (41: cluster_pictures.py, __init__) [20  2]\n",
      "[ 2 20]\n",
      "verbose 1 (41: cluster_pictures.py, __init__) 2\n",
      "verbose 1 (41: cluster_pictures.py, __init__) defaultdict(<class 'list'>, {0: [0], 1: [1]})\n",
      "verbose 1 (41: cluster_pictures.py, __init__) [20]\n",
      "verbose 1 (41: cluster_pictures.py, __init__) 20\n",
      "verbose 1 (41: cluster_pictures.py, __init__) defaultdict(<class 'list'>, {})\n",
      "verbose 1 (41: cluster_pictures.py, __init__) [20]\n",
      "verbose 1 (41: cluster_pictures.py, __init__) 20\n",
      "verbose 1 (41: cluster_pictures.py, __init__) defaultdict(<class 'list'>, {})\n"
     ]
    },
    {
     "data": {
      "image/png": "[encoded data removed]",
      "text/plain": [
       "<IPython.core.display.Image object>"
      ]
     },
     "execution_count": 116,
     "metadata": {},
     "output_type": "execute_result"
    }
   ],
   "source": [
    "C = Cluster.from_roots([K(1), K(5), K(10), K(35)])\n",
    "view(C)"
   ]
  },
  {
   "cell_type": "code",
   "execution_count": 117,
   "metadata": {},
   "outputs": [
    {
     "data": {
      "text/plain": [
       "False"
      ]
     },
     "execution_count": 117,
     "metadata": {},
     "output_type": "execute_result"
    }
   ],
   "source": [
    "C.is_cotwin()"
   ]
  },
  {
   "cell_type": "code",
   "execution_count": 118,
   "metadata": {},
   "outputs": [
    {
     "data": {
      "text/plain": [
       "False"
      ]
     },
     "execution_count": 118,
     "metadata": {},
     "output_type": "execute_result"
    }
   ],
   "source": [
    "C.children()[0].is_cotwin()"
   ]
  },
  {
   "cell_type": "code",
   "execution_count": 119,
   "metadata": {},
   "outputs": [
    {
     "data": {
      "text/plain": [
       "True"
      ]
     },
     "execution_count": 119,
     "metadata": {},
     "output_type": "execute_result"
    }
   ],
   "source": [
    "C.children()[1].is_cotwin()"
   ]
  },
  {
   "cell_type": "code",
   "execution_count": 120,
   "metadata": {},
   "outputs": [
    {
     "name": "stdout",
     "output_type": "stream",
     "text": [
      "verbose 1 (456: cluster_pictures.py, star) Cluster with 3 roots and 2 children\n",
      "verbose 1 (456: cluster_pictures.py, star) [Cluster with 2 roots and 2 children]\n"
     ]
    },
    {
     "data": {
      "text/plain": [
       "Cluster with 2 roots and 2 children"
      ]
     },
     "execution_count": 120,
     "metadata": {},
     "output_type": "execute_result"
    }
   ],
   "source": [
    "C.children()[1].star()"
   ]
  },
  {
   "cell_type": "code",
   "execution_count": 105,
   "metadata": {},
   "outputs": [
    {
     "name": "stdout",
     "output_type": "stream",
     "text": [
      "verbose 1 (41: cluster_pictures.py, __init__) [20  0  0  0]\n",
      "[ 0 20  0  0]\n",
      "[ 0  0 20  2]\n",
      "[ 0  0  2 20]\n",
      "verbose 1 (41: cluster_pictures.py, __init__) 0\n",
      "verbose 1 (41: cluster_pictures.py, __init__) defaultdict(<class 'list'>, {0: [0], 1: [1], 2: [2, 3]})\n",
      "verbose 1 (41: cluster_pictures.py, __init__) [20]\n",
      "verbose 1 (41: cluster_pictures.py, __init__) 20\n",
      "verbose 1 (41: cluster_pictures.py, __init__) defaultdict(<class 'list'>, {})\n",
      "verbose 1 (41: cluster_pictures.py, __init__) [20]\n",
      "verbose 1 (41: cluster_pictures.py, __init__) 20\n",
      "verbose 1 (41: cluster_pictures.py, __init__) defaultdict(<class 'list'>, {})\n",
      "verbose 1 (41: cluster_pictures.py, __init__) [20  2]\n",
      "[ 2 20]\n",
      "verbose 1 (41: cluster_pictures.py, __init__) 2\n",
      "verbose 1 (41: cluster_pictures.py, __init__) defaultdict(<class 'list'>, {0: [0], 1: [1]})\n",
      "verbose 1 (41: cluster_pictures.py, __init__) [20]\n",
      "verbose 1 (41: cluster_pictures.py, __init__) 20\n",
      "verbose 1 (41: cluster_pictures.py, __init__) defaultdict(<class 'list'>, {})\n",
      "verbose 1 (41: cluster_pictures.py, __init__) [20]\n",
      "verbose 1 (41: cluster_pictures.py, __init__) 20\n",
      "verbose 1 (41: cluster_pictures.py, __init__) defaultdict(<class 'list'>, {})\n"
     ]
    },
    {
     "data": {
      "image/png": "[encoded data removed]",
      "text/plain": [
       "<IPython.core.display.Image object>"
      ]
     },
     "execution_count": 105,
     "metadata": {},
     "output_type": "execute_result"
    }
   ],
   "source": [
    "C = Cluster.from_roots([K(1), K(2), K(10), K(35)])\n",
    "view(C)"
   ]
  },
  {
   "cell_type": "code",
   "execution_count": 106,
   "metadata": {},
   "outputs": [
    {
     "data": {
      "text/plain": [
       "True"
      ]
     },
     "execution_count": 106,
     "metadata": {},
     "output_type": "execute_result"
    }
   ],
   "source": [
    "C.is_cotwin()"
   ]
  },
  {
   "cell_type": "code",
   "execution_count": 107,
   "metadata": {},
   "outputs": [
    {
     "data": {
      "text/plain": [
       "False"
      ]
     },
     "execution_count": 107,
     "metadata": {},
     "output_type": "execute_result"
    }
   ],
   "source": [
    "C.children()[0].is_cotwin()"
   ]
  },
  {
   "cell_type": "code",
   "execution_count": 108,
   "metadata": {},
   "outputs": [
    {
     "data": {
      "text/plain": [
       "False"
      ]
     },
     "execution_count": 108,
     "metadata": {},
     "output_type": "execute_result"
    }
   ],
   "source": [
    "C.children()[1].is_cotwin()"
   ]
  },
  {
   "cell_type": "code",
   "execution_count": 109,
   "metadata": {},
   "outputs": [
    {
     "name": "stdout",
     "output_type": "stream",
     "text": [
      "verbose 1 (456: cluster_pictures.py, star) Cluster with 4 roots and 3 children\n",
      "verbose 1 (456: cluster_pictures.py, star) [Cluster with 2 roots and 2 children]\n"
     ]
    },
    {
     "data": {
      "text/plain": [
       "Cluster with 2 roots and 2 children"
      ]
     },
     "execution_count": 109,
     "metadata": {},
     "output_type": "execute_result"
    }
   ],
   "source": [
    "C.star()"
   ]
  },
  {
   "cell_type": "code",
   "execution_count": null,
   "metadata": {},
   "outputs": [],
   "source": []
  }
 ],
 "metadata": {
  "kernelspec": {
   "display_name": "SageMath 9.2.beta0",
   "language": "sage",
   "name": "sagemath"
  },
  "language_info": {
   "codemirror_mode": {
    "name": "ipython",
    "version": 3
   },
   "file_extension": ".py",
   "mimetype": "text/x-python",
   "name": "python",
   "nbconvert_exporter": "python",
   "pygments_lexer": "ipython3",
   "version": "3.7.3"
  },
  "varInspector": {
   "cols": {
    "lenName": 16,
    "lenType": 16,
    "lenVar": 40
   },
   "kernels_config": {
    "python": {
     "delete_cmd_postfix": "",
     "delete_cmd_prefix": "del ",
     "library": "var_list.py",
     "varRefreshCmd": "print(var_dic_list())"
    },
    "r": {
     "delete_cmd_postfix": ") ",
     "delete_cmd_prefix": "rm(",
     "library": "var_list.r",
     "varRefreshCmd": "cat(var_dic_list()) "
    }
   },
   "types_to_exclude": [
    "module",
    "function",
    "builtin_function_or_method",
    "instance",
    "_Feature"
   ],
   "window_display": false
  }
 },
 "nbformat": 4,
 "nbformat_minor": 2
}
